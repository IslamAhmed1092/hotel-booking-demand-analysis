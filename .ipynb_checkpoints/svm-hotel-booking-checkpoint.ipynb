{
 "cells": [
  {
   "cell_type": "code",
   "execution_count": null,
   "id": "e7ca1078",
   "metadata": {},
   "outputs": [],
   "source": [
    "# required packages here\n"
   ]
  },
  {
   "cell_type": "code",
   "execution_count": 1,
   "id": "dba9d549",
   "metadata": {},
   "outputs": [
    {
     "data": {
      "text/html": [
       "<ol class=list-inline>\n",
       "\t<li>119390</li>\n",
       "\t<li>32</li>\n",
       "</ol>\n"
      ],
      "text/latex": [
       "\\begin{enumerate*}\n",
       "\\item 119390\n",
       "\\item 32\n",
       "\\end{enumerate*}\n"
      ],
      "text/markdown": [
       "1. 119390\n",
       "2. 32\n",
       "\n",
       "\n"
      ],
      "text/plain": [
       "[1] 119390     32"
      ]
     },
     "metadata": {},
     "output_type": "display_data"
    }
   ],
   "source": [
    "data <- read.csv(\"hotel_bookings.csv\")\n",
    "dim(data)"
   ]
  },
  {
   "cell_type": "code",
   "execution_count": 2,
   "id": "6cd0a963",
   "metadata": {},
   "outputs": [
    {
     "data": {
      "text/html": [
       "<table>\n",
       "<thead><tr><th scope=col>hotel</th><th scope=col>is_canceled</th><th scope=col>lead_time</th><th scope=col>arrival_date_year</th><th scope=col>arrival_date_month</th><th scope=col>arrival_date_week_number</th><th scope=col>arrival_date_day_of_month</th><th scope=col>stays_in_weekend_nights</th><th scope=col>stays_in_week_nights</th><th scope=col>adults</th><th scope=col>...</th><th scope=col>deposit_type</th><th scope=col>agent</th><th scope=col>company</th><th scope=col>days_in_waiting_list</th><th scope=col>customer_type</th><th scope=col>adr</th><th scope=col>required_car_parking_spaces</th><th scope=col>total_of_special_requests</th><th scope=col>reservation_status</th><th scope=col>reservation_status_date</th></tr></thead>\n",
       "<tbody>\n",
       "\t<tr><td>Resort Hotel</td><td>0           </td><td>342         </td><td>2015        </td><td>July        </td><td>27          </td><td>1           </td><td>0           </td><td>0           </td><td>2           </td><td>...         </td><td>No Deposit  </td><td>NULL        </td><td>NULL        </td><td>0           </td><td>Transient   </td><td> 0          </td><td>0           </td><td>0           </td><td>Check-Out   </td><td>2015-07-01  </td></tr>\n",
       "\t<tr><td>Resort Hotel</td><td>0           </td><td>737         </td><td>2015        </td><td>July        </td><td>27          </td><td>1           </td><td>0           </td><td>0           </td><td>2           </td><td>...         </td><td>No Deposit  </td><td>NULL        </td><td>NULL        </td><td>0           </td><td>Transient   </td><td> 0          </td><td>0           </td><td>0           </td><td>Check-Out   </td><td>2015-07-01  </td></tr>\n",
       "\t<tr><td>Resort Hotel</td><td>0           </td><td>  7         </td><td>2015        </td><td>July        </td><td>27          </td><td>1           </td><td>0           </td><td>1           </td><td>1           </td><td>...         </td><td>No Deposit  </td><td>NULL        </td><td>NULL        </td><td>0           </td><td>Transient   </td><td>75          </td><td>0           </td><td>0           </td><td>Check-Out   </td><td>2015-07-02  </td></tr>\n",
       "\t<tr><td>Resort Hotel</td><td>0           </td><td> 13         </td><td>2015        </td><td>July        </td><td>27          </td><td>1           </td><td>0           </td><td>1           </td><td>1           </td><td>...         </td><td>No Deposit  </td><td>304         </td><td>NULL        </td><td>0           </td><td>Transient   </td><td>75          </td><td>0           </td><td>0           </td><td>Check-Out   </td><td>2015-07-02  </td></tr>\n",
       "\t<tr><td>Resort Hotel</td><td>0           </td><td> 14         </td><td>2015        </td><td>July        </td><td>27          </td><td>1           </td><td>0           </td><td>2           </td><td>2           </td><td>...         </td><td>No Deposit  </td><td>240         </td><td>NULL        </td><td>0           </td><td>Transient   </td><td>98          </td><td>0           </td><td>1           </td><td>Check-Out   </td><td>2015-07-03  </td></tr>\n",
       "\t<tr><td>Resort Hotel</td><td>0           </td><td> 14         </td><td>2015        </td><td>July        </td><td>27          </td><td>1           </td><td>0           </td><td>2           </td><td>2           </td><td>...         </td><td>No Deposit  </td><td>240         </td><td>NULL        </td><td>0           </td><td>Transient   </td><td>98          </td><td>0           </td><td>1           </td><td>Check-Out   </td><td>2015-07-03  </td></tr>\n",
       "</tbody>\n",
       "</table>\n"
      ],
      "text/latex": [
       "\\begin{tabular}{r|llllllllllllllllllllllllllllllll}\n",
       " hotel & is\\_canceled & lead\\_time & arrival\\_date\\_year & arrival\\_date\\_month & arrival\\_date\\_week\\_number & arrival\\_date\\_day\\_of\\_month & stays\\_in\\_weekend\\_nights & stays\\_in\\_week\\_nights & adults & ... & deposit\\_type & agent & company & days\\_in\\_waiting\\_list & customer\\_type & adr & required\\_car\\_parking\\_spaces & total\\_of\\_special\\_requests & reservation\\_status & reservation\\_status\\_date\\\\\n",
       "\\hline\n",
       "\t Resort Hotel & 0            & 342          & 2015         & July         & 27           & 1            & 0            & 0            & 2            & ...          & No Deposit   & NULL         & NULL         & 0            & Transient    &  0           & 0            & 0            & Check-Out    & 2015-07-01  \\\\\n",
       "\t Resort Hotel & 0            & 737          & 2015         & July         & 27           & 1            & 0            & 0            & 2            & ...          & No Deposit   & NULL         & NULL         & 0            & Transient    &  0           & 0            & 0            & Check-Out    & 2015-07-01  \\\\\n",
       "\t Resort Hotel & 0            &   7          & 2015         & July         & 27           & 1            & 0            & 1            & 1            & ...          & No Deposit   & NULL         & NULL         & 0            & Transient    & 75           & 0            & 0            & Check-Out    & 2015-07-02  \\\\\n",
       "\t Resort Hotel & 0            &  13          & 2015         & July         & 27           & 1            & 0            & 1            & 1            & ...          & No Deposit   & 304          & NULL         & 0            & Transient    & 75           & 0            & 0            & Check-Out    & 2015-07-02  \\\\\n",
       "\t Resort Hotel & 0            &  14          & 2015         & July         & 27           & 1            & 0            & 2            & 2            & ...          & No Deposit   & 240          & NULL         & 0            & Transient    & 98           & 0            & 1            & Check-Out    & 2015-07-03  \\\\\n",
       "\t Resort Hotel & 0            &  14          & 2015         & July         & 27           & 1            & 0            & 2            & 2            & ...          & No Deposit   & 240          & NULL         & 0            & Transient    & 98           & 0            & 1            & Check-Out    & 2015-07-03  \\\\\n",
       "\\end{tabular}\n"
      ],
      "text/markdown": [
       "\n",
       "| hotel | is_canceled | lead_time | arrival_date_year | arrival_date_month | arrival_date_week_number | arrival_date_day_of_month | stays_in_weekend_nights | stays_in_week_nights | adults | ... | deposit_type | agent | company | days_in_waiting_list | customer_type | adr | required_car_parking_spaces | total_of_special_requests | reservation_status | reservation_status_date |\n",
       "|---|---|---|---|---|---|---|---|---|---|---|---|---|---|---|---|---|---|---|---|---|\n",
       "| Resort Hotel | 0            | 342          | 2015         | July         | 27           | 1            | 0            | 0            | 2            | ...          | No Deposit   | NULL         | NULL         | 0            | Transient    |  0           | 0            | 0            | Check-Out    | 2015-07-01   |\n",
       "| Resort Hotel | 0            | 737          | 2015         | July         | 27           | 1            | 0            | 0            | 2            | ...          | No Deposit   | NULL         | NULL         | 0            | Transient    |  0           | 0            | 0            | Check-Out    | 2015-07-01   |\n",
       "| Resort Hotel | 0            |   7          | 2015         | July         | 27           | 1            | 0            | 1            | 1            | ...          | No Deposit   | NULL         | NULL         | 0            | Transient    | 75           | 0            | 0            | Check-Out    | 2015-07-02   |\n",
       "| Resort Hotel | 0            |  13          | 2015         | July         | 27           | 1            | 0            | 1            | 1            | ...          | No Deposit   | 304          | NULL         | 0            | Transient    | 75           | 0            | 0            | Check-Out    | 2015-07-02   |\n",
       "| Resort Hotel | 0            |  14          | 2015         | July         | 27           | 1            | 0            | 2            | 2            | ...          | No Deposit   | 240          | NULL         | 0            | Transient    | 98           | 0            | 1            | Check-Out    | 2015-07-03   |\n",
       "| Resort Hotel | 0            |  14          | 2015         | July         | 27           | 1            | 0            | 2            | 2            | ...          | No Deposit   | 240          | NULL         | 0            | Transient    | 98           | 0            | 1            | Check-Out    | 2015-07-03   |\n",
       "\n"
      ],
      "text/plain": [
       "  hotel        is_canceled lead_time arrival_date_year arrival_date_month\n",
       "1 Resort Hotel 0           342       2015              July              \n",
       "2 Resort Hotel 0           737       2015              July              \n",
       "3 Resort Hotel 0             7       2015              July              \n",
       "4 Resort Hotel 0            13       2015              July              \n",
       "5 Resort Hotel 0            14       2015              July              \n",
       "6 Resort Hotel 0            14       2015              July              \n",
       "  arrival_date_week_number arrival_date_day_of_month stays_in_weekend_nights\n",
       "1 27                       1                         0                      \n",
       "2 27                       1                         0                      \n",
       "3 27                       1                         0                      \n",
       "4 27                       1                         0                      \n",
       "5 27                       1                         0                      \n",
       "6 27                       1                         0                      \n",
       "  stays_in_week_nights adults ... deposit_type agent company\n",
       "1 0                    2      ... No Deposit   NULL  NULL   \n",
       "2 0                    2      ... No Deposit   NULL  NULL   \n",
       "3 1                    1      ... No Deposit   NULL  NULL   \n",
       "4 1                    1      ... No Deposit   304   NULL   \n",
       "5 2                    2      ... No Deposit   240   NULL   \n",
       "6 2                    2      ... No Deposit   240   NULL   \n",
       "  days_in_waiting_list customer_type adr required_car_parking_spaces\n",
       "1 0                    Transient      0  0                          \n",
       "2 0                    Transient      0  0                          \n",
       "3 0                    Transient     75  0                          \n",
       "4 0                    Transient     75  0                          \n",
       "5 0                    Transient     98  0                          \n",
       "6 0                    Transient     98  0                          \n",
       "  total_of_special_requests reservation_status reservation_status_date\n",
       "1 0                         Check-Out          2015-07-01             \n",
       "2 0                         Check-Out          2015-07-01             \n",
       "3 0                         Check-Out          2015-07-02             \n",
       "4 0                         Check-Out          2015-07-02             \n",
       "5 1                         Check-Out          2015-07-03             \n",
       "6 1                         Check-Out          2015-07-03             "
      ]
     },
     "metadata": {},
     "output_type": "display_data"
    }
   ],
   "source": [
    "head(data)"
   ]
  },
  {
   "cell_type": "code",
   "execution_count": 3,
   "id": "b72c23b0",
   "metadata": {
    "scrolled": false
   },
   "outputs": [
    {
     "name": "stdout",
     "output_type": "stream",
     "text": [
      "'data.frame':\t119390 obs. of  32 variables:\n",
      " $ hotel                         : Factor w/ 2 levels \"City Hotel\",\"Resort Hotel\": 2 2 2 2 2 2 2 2 2 2 ...\n",
      " $ is_canceled                   : int  0 0 0 0 0 0 0 0 1 1 ...\n",
      " $ lead_time                     : int  342 737 7 13 14 14 0 9 85 75 ...\n",
      " $ arrival_date_year             : int  2015 2015 2015 2015 2015 2015 2015 2015 2015 2015 ...\n",
      " $ arrival_date_month            : Factor w/ 12 levels \"April\",\"August\",..: 6 6 6 6 6 6 6 6 6 6 ...\n",
      " $ arrival_date_week_number      : int  27 27 27 27 27 27 27 27 27 27 ...\n",
      " $ arrival_date_day_of_month     : int  1 1 1 1 1 1 1 1 1 1 ...\n",
      " $ stays_in_weekend_nights       : int  0 0 0 0 0 0 0 0 0 0 ...\n",
      " $ stays_in_week_nights          : int  0 0 1 1 2 2 2 2 3 3 ...\n",
      " $ adults                        : int  2 2 1 1 2 2 2 2 2 2 ...\n",
      " $ children                      : int  0 0 0 0 0 0 0 0 0 0 ...\n",
      " $ babies                        : int  0 0 0 0 0 0 0 0 0 0 ...\n",
      " $ meal                          : Factor w/ 5 levels \"BB\",\"FB\",\"HB\",..: 1 1 1 1 1 1 1 2 1 3 ...\n",
      " $ country                       : Factor w/ 178 levels \"ABW\",\"AGO\",\"AIA\",..: 137 137 60 60 60 60 137 137 137 137 ...\n",
      " $ market_segment                : Factor w/ 8 levels \"Aviation\",\"Complementary\",..: 4 4 4 3 7 7 4 4 7 6 ...\n",
      " $ distribution_channel          : Factor w/ 5 levels \"Corporate\",\"Direct\",..: 2 2 2 1 4 4 2 2 4 4 ...\n",
      " $ is_repeated_guest             : int  0 0 0 0 0 0 0 0 0 0 ...\n",
      " $ previous_cancellations        : int  0 0 0 0 0 0 0 0 0 0 ...\n",
      " $ previous_bookings_not_canceled: int  0 0 0 0 0 0 0 0 0 0 ...\n",
      " $ reserved_room_type            : Factor w/ 10 levels \"A\",\"B\",\"C\",\"D\",..: 3 3 1 1 1 1 3 3 1 4 ...\n",
      " $ assigned_room_type            : Factor w/ 12 levels \"A\",\"B\",\"C\",\"D\",..: 3 3 3 1 1 1 3 3 1 4 ...\n",
      " $ booking_changes               : int  3 4 0 0 0 0 0 0 0 0 ...\n",
      " $ deposit_type                  : Factor w/ 3 levels \"No Deposit\",\"Non Refund\",..: 1 1 1 1 1 1 1 1 1 1 ...\n",
      " $ agent                         : Factor w/ 334 levels \"1\",\"10\",\"103\",..: 334 334 334 157 103 103 334 156 103 40 ...\n",
      " $ company                       : Factor w/ 353 levels \"10\",\"100\",\"101\",..: 353 353 353 353 353 353 353 353 353 353 ...\n",
      " $ days_in_waiting_list          : int  0 0 0 0 0 0 0 0 0 0 ...\n",
      " $ customer_type                 : Factor w/ 4 levels \"Contract\",\"Group\",..: 3 3 3 3 3 3 3 3 3 3 ...\n",
      " $ adr                           : num  0 0 75 75 98 ...\n",
      " $ required_car_parking_spaces   : int  0 0 0 0 0 0 0 0 0 0 ...\n",
      " $ total_of_special_requests     : int  0 0 0 0 1 1 0 1 1 0 ...\n",
      " $ reservation_status            : Factor w/ 3 levels \"Canceled\",\"Check-Out\",..: 2 2 2 2 2 2 2 2 1 1 ...\n",
      " $ reservation_status_date       : Factor w/ 926 levels \"2014-10-17\",\"2014-11-18\",..: 122 122 123 123 124 124 124 124 73 62 ...\n"
     ]
    }
   ],
   "source": [
    "str(data)"
   ]
  },
  {
   "cell_type": "code",
   "execution_count": 13,
   "id": "fcd62cdf",
   "metadata": {},
   "outputs": [
    {
     "data": {
      "text/html": [
       "<dl class=dl-horizontal>\n",
       "\t<dt>hotel</dt>\n",
       "\t\t<dd>0</dd>\n",
       "\t<dt>is_canceled</dt>\n",
       "\t\t<dd>0</dd>\n",
       "\t<dt>lead_time</dt>\n",
       "\t\t<dd>0</dd>\n",
       "\t<dt>arrival_date_year</dt>\n",
       "\t\t<dd>0</dd>\n",
       "\t<dt>arrival_date_month</dt>\n",
       "\t\t<dd>0</dd>\n",
       "\t<dt>arrival_date_week_number</dt>\n",
       "\t\t<dd>0</dd>\n",
       "\t<dt>arrival_date_day_of_month</dt>\n",
       "\t\t<dd>0</dd>\n",
       "\t<dt>stays_in_weekend_nights</dt>\n",
       "\t\t<dd>0</dd>\n",
       "\t<dt>stays_in_week_nights</dt>\n",
       "\t\t<dd>0</dd>\n",
       "\t<dt>adults</dt>\n",
       "\t\t<dd>0</dd>\n",
       "\t<dt>children</dt>\n",
       "\t\t<dd>4</dd>\n",
       "\t<dt>babies</dt>\n",
       "\t\t<dd>0</dd>\n",
       "\t<dt>meal</dt>\n",
       "\t\t<dd>0</dd>\n",
       "\t<dt>country</dt>\n",
       "\t\t<dd>488</dd>\n",
       "\t<dt>market_segment</dt>\n",
       "\t\t<dd>0</dd>\n",
       "\t<dt>distribution_channel</dt>\n",
       "\t\t<dd>0</dd>\n",
       "\t<dt>is_repeated_guest</dt>\n",
       "\t\t<dd>0</dd>\n",
       "\t<dt>previous_cancellations</dt>\n",
       "\t\t<dd>0</dd>\n",
       "\t<dt>previous_bookings_not_canceled</dt>\n",
       "\t\t<dd>0</dd>\n",
       "\t<dt>reserved_room_type</dt>\n",
       "\t\t<dd>0</dd>\n",
       "\t<dt>assigned_room_type</dt>\n",
       "\t\t<dd>0</dd>\n",
       "\t<dt>booking_changes</dt>\n",
       "\t\t<dd>0</dd>\n",
       "\t<dt>deposit_type</dt>\n",
       "\t\t<dd>0</dd>\n",
       "\t<dt>agent</dt>\n",
       "\t\t<dd>16340</dd>\n",
       "\t<dt>company</dt>\n",
       "\t\t<dd>112593</dd>\n",
       "\t<dt>days_in_waiting_list</dt>\n",
       "\t\t<dd>0</dd>\n",
       "\t<dt>customer_type</dt>\n",
       "\t\t<dd>0</dd>\n",
       "\t<dt>adr</dt>\n",
       "\t\t<dd>0</dd>\n",
       "\t<dt>required_car_parking_spaces</dt>\n",
       "\t\t<dd>0</dd>\n",
       "\t<dt>total_of_special_requests</dt>\n",
       "\t\t<dd>0</dd>\n",
       "\t<dt>reservation_status</dt>\n",
       "\t\t<dd>0</dd>\n",
       "\t<dt>reservation_status_date</dt>\n",
       "\t\t<dd>0</dd>\n",
       "</dl>\n"
      ],
      "text/latex": [
       "\\begin{description*}\n",
       "\\item[hotel] 0\n",
       "\\item[is\\textbackslash{}\\_canceled] 0\n",
       "\\item[lead\\textbackslash{}\\_time] 0\n",
       "\\item[arrival\\textbackslash{}\\_date\\textbackslash{}\\_year] 0\n",
       "\\item[arrival\\textbackslash{}\\_date\\textbackslash{}\\_month] 0\n",
       "\\item[arrival\\textbackslash{}\\_date\\textbackslash{}\\_week\\textbackslash{}\\_number] 0\n",
       "\\item[arrival\\textbackslash{}\\_date\\textbackslash{}\\_day\\textbackslash{}\\_of\\textbackslash{}\\_month] 0\n",
       "\\item[stays\\textbackslash{}\\_in\\textbackslash{}\\_weekend\\textbackslash{}\\_nights] 0\n",
       "\\item[stays\\textbackslash{}\\_in\\textbackslash{}\\_week\\textbackslash{}\\_nights] 0\n",
       "\\item[adults] 0\n",
       "\\item[children] 4\n",
       "\\item[babies] 0\n",
       "\\item[meal] 0\n",
       "\\item[country] 488\n",
       "\\item[market\\textbackslash{}\\_segment] 0\n",
       "\\item[distribution\\textbackslash{}\\_channel] 0\n",
       "\\item[is\\textbackslash{}\\_repeated\\textbackslash{}\\_guest] 0\n",
       "\\item[previous\\textbackslash{}\\_cancellations] 0\n",
       "\\item[previous\\textbackslash{}\\_bookings\\textbackslash{}\\_not\\textbackslash{}\\_canceled] 0\n",
       "\\item[reserved\\textbackslash{}\\_room\\textbackslash{}\\_type] 0\n",
       "\\item[assigned\\textbackslash{}\\_room\\textbackslash{}\\_type] 0\n",
       "\\item[booking\\textbackslash{}\\_changes] 0\n",
       "\\item[deposit\\textbackslash{}\\_type] 0\n",
       "\\item[agent] 16340\n",
       "\\item[company] 112593\n",
       "\\item[days\\textbackslash{}\\_in\\textbackslash{}\\_waiting\\textbackslash{}\\_list] 0\n",
       "\\item[customer\\textbackslash{}\\_type] 0\n",
       "\\item[adr] 0\n",
       "\\item[required\\textbackslash{}\\_car\\textbackslash{}\\_parking\\textbackslash{}\\_spaces] 0\n",
       "\\item[total\\textbackslash{}\\_of\\textbackslash{}\\_special\\textbackslash{}\\_requests] 0\n",
       "\\item[reservation\\textbackslash{}\\_status] 0\n",
       "\\item[reservation\\textbackslash{}\\_status\\textbackslash{}\\_date] 0\n",
       "\\end{description*}\n"
      ],
      "text/markdown": [
       "hotel\n",
       ":   0is_canceled\n",
       ":   0lead_time\n",
       ":   0arrival_date_year\n",
       ":   0arrival_date_month\n",
       ":   0arrival_date_week_number\n",
       ":   0arrival_date_day_of_month\n",
       ":   0stays_in_weekend_nights\n",
       ":   0stays_in_week_nights\n",
       ":   0adults\n",
       ":   0children\n",
       ":   4babies\n",
       ":   0meal\n",
       ":   0country\n",
       ":   488market_segment\n",
       ":   0distribution_channel\n",
       ":   0is_repeated_guest\n",
       ":   0previous_cancellations\n",
       ":   0previous_bookings_not_canceled\n",
       ":   0reserved_room_type\n",
       ":   0assigned_room_type\n",
       ":   0booking_changes\n",
       ":   0deposit_type\n",
       ":   0agent\n",
       ":   16340company\n",
       ":   112593days_in_waiting_list\n",
       ":   0customer_type\n",
       ":   0adr\n",
       ":   0required_car_parking_spaces\n",
       ":   0total_of_special_requests\n",
       ":   0reservation_status\n",
       ":   0reservation_status_date\n",
       ":   0\n",
       "\n"
      ],
      "text/plain": [
       "                         hotel                    is_canceled \n",
       "                             0                              0 \n",
       "                     lead_time              arrival_date_year \n",
       "                             0                              0 \n",
       "            arrival_date_month       arrival_date_week_number \n",
       "                             0                              0 \n",
       "     arrival_date_day_of_month        stays_in_weekend_nights \n",
       "                             0                              0 \n",
       "          stays_in_week_nights                         adults \n",
       "                             0                              0 \n",
       "                      children                         babies \n",
       "                             4                              0 \n",
       "                          meal                        country \n",
       "                             0                            488 \n",
       "                market_segment           distribution_channel \n",
       "                             0                              0 \n",
       "             is_repeated_guest         previous_cancellations \n",
       "                             0                              0 \n",
       "previous_bookings_not_canceled             reserved_room_type \n",
       "                             0                              0 \n",
       "            assigned_room_type                booking_changes \n",
       "                             0                              0 \n",
       "                  deposit_type                          agent \n",
       "                             0                          16340 \n",
       "                       company           days_in_waiting_list \n",
       "                        112593                              0 \n",
       "                 customer_type                            adr \n",
       "                             0                              0 \n",
       "   required_car_parking_spaces      total_of_special_requests \n",
       "                             0                              0 \n",
       "            reservation_status        reservation_status_date \n",
       "                             0                              0 "
      ]
     },
     "metadata": {},
     "output_type": "display_data"
    }
   ],
   "source": [
    "colSums(is.na(data) | data == \"NULL\")"
   ]
  },
  {
   "cell_type": "code",
   "execution_count": 17,
   "id": "7f768b51",
   "metadata": {},
   "outputs": [],
   "source": [
    "data$children[is.na(data$children)] = 0\n",
    "\n",
    "levels(data$country) <- c(levels(data$country), \"UNKNOWN\") \n",
    "data$country[data$country == \"NULL\"] <- \"UNKNOWN\"\n",
    "data$country = factor(data$country)\n",
    "\n",
    "levels(data$agent) <- c(levels(data$agent), '0')\n",
    "data$agent[data$agent == \"NULL\"] <- '0'\n",
    "data$agent = factor(data$agent)\n",
    "\n",
    "levels(data$company) <- c(levels(data$company), '0')\n",
    "data$company[data$company == \"NULL\"] <- '0'\n",
    "data$company = factor(data$company)"
   ]
  },
  {
   "cell_type": "code",
   "execution_count": 18,
   "id": "cc658cd7",
   "metadata": {},
   "outputs": [
    {
     "data": {
      "text/html": [
       "<dl class=dl-horizontal>\n",
       "\t<dt>hotel</dt>\n",
       "\t\t<dd>0</dd>\n",
       "\t<dt>is_canceled</dt>\n",
       "\t\t<dd>0</dd>\n",
       "\t<dt>lead_time</dt>\n",
       "\t\t<dd>0</dd>\n",
       "\t<dt>arrival_date_year</dt>\n",
       "\t\t<dd>0</dd>\n",
       "\t<dt>arrival_date_month</dt>\n",
       "\t\t<dd>0</dd>\n",
       "\t<dt>arrival_date_week_number</dt>\n",
       "\t\t<dd>0</dd>\n",
       "\t<dt>arrival_date_day_of_month</dt>\n",
       "\t\t<dd>0</dd>\n",
       "\t<dt>stays_in_weekend_nights</dt>\n",
       "\t\t<dd>0</dd>\n",
       "\t<dt>stays_in_week_nights</dt>\n",
       "\t\t<dd>0</dd>\n",
       "\t<dt>adults</dt>\n",
       "\t\t<dd>0</dd>\n",
       "\t<dt>children</dt>\n",
       "\t\t<dd>0</dd>\n",
       "\t<dt>babies</dt>\n",
       "\t\t<dd>0</dd>\n",
       "\t<dt>meal</dt>\n",
       "\t\t<dd>0</dd>\n",
       "\t<dt>country</dt>\n",
       "\t\t<dd>0</dd>\n",
       "\t<dt>market_segment</dt>\n",
       "\t\t<dd>0</dd>\n",
       "\t<dt>distribution_channel</dt>\n",
       "\t\t<dd>0</dd>\n",
       "\t<dt>is_repeated_guest</dt>\n",
       "\t\t<dd>0</dd>\n",
       "\t<dt>previous_cancellations</dt>\n",
       "\t\t<dd>0</dd>\n",
       "\t<dt>previous_bookings_not_canceled</dt>\n",
       "\t\t<dd>0</dd>\n",
       "\t<dt>reserved_room_type</dt>\n",
       "\t\t<dd>0</dd>\n",
       "\t<dt>assigned_room_type</dt>\n",
       "\t\t<dd>0</dd>\n",
       "\t<dt>booking_changes</dt>\n",
       "\t\t<dd>0</dd>\n",
       "\t<dt>deposit_type</dt>\n",
       "\t\t<dd>0</dd>\n",
       "\t<dt>agent</dt>\n",
       "\t\t<dd>0</dd>\n",
       "\t<dt>company</dt>\n",
       "\t\t<dd>0</dd>\n",
       "\t<dt>days_in_waiting_list</dt>\n",
       "\t\t<dd>0</dd>\n",
       "\t<dt>customer_type</dt>\n",
       "\t\t<dd>0</dd>\n",
       "\t<dt>adr</dt>\n",
       "\t\t<dd>0</dd>\n",
       "\t<dt>required_car_parking_spaces</dt>\n",
       "\t\t<dd>0</dd>\n",
       "\t<dt>total_of_special_requests</dt>\n",
       "\t\t<dd>0</dd>\n",
       "\t<dt>reservation_status</dt>\n",
       "\t\t<dd>0</dd>\n",
       "\t<dt>reservation_status_date</dt>\n",
       "\t\t<dd>0</dd>\n",
       "</dl>\n"
      ],
      "text/latex": [
       "\\begin{description*}\n",
       "\\item[hotel] 0\n",
       "\\item[is\\textbackslash{}\\_canceled] 0\n",
       "\\item[lead\\textbackslash{}\\_time] 0\n",
       "\\item[arrival\\textbackslash{}\\_date\\textbackslash{}\\_year] 0\n",
       "\\item[arrival\\textbackslash{}\\_date\\textbackslash{}\\_month] 0\n",
       "\\item[arrival\\textbackslash{}\\_date\\textbackslash{}\\_week\\textbackslash{}\\_number] 0\n",
       "\\item[arrival\\textbackslash{}\\_date\\textbackslash{}\\_day\\textbackslash{}\\_of\\textbackslash{}\\_month] 0\n",
       "\\item[stays\\textbackslash{}\\_in\\textbackslash{}\\_weekend\\textbackslash{}\\_nights] 0\n",
       "\\item[stays\\textbackslash{}\\_in\\textbackslash{}\\_week\\textbackslash{}\\_nights] 0\n",
       "\\item[adults] 0\n",
       "\\item[children] 0\n",
       "\\item[babies] 0\n",
       "\\item[meal] 0\n",
       "\\item[country] 0\n",
       "\\item[market\\textbackslash{}\\_segment] 0\n",
       "\\item[distribution\\textbackslash{}\\_channel] 0\n",
       "\\item[is\\textbackslash{}\\_repeated\\textbackslash{}\\_guest] 0\n",
       "\\item[previous\\textbackslash{}\\_cancellations] 0\n",
       "\\item[previous\\textbackslash{}\\_bookings\\textbackslash{}\\_not\\textbackslash{}\\_canceled] 0\n",
       "\\item[reserved\\textbackslash{}\\_room\\textbackslash{}\\_type] 0\n",
       "\\item[assigned\\textbackslash{}\\_room\\textbackslash{}\\_type] 0\n",
       "\\item[booking\\textbackslash{}\\_changes] 0\n",
       "\\item[deposit\\textbackslash{}\\_type] 0\n",
       "\\item[agent] 0\n",
       "\\item[company] 0\n",
       "\\item[days\\textbackslash{}\\_in\\textbackslash{}\\_waiting\\textbackslash{}\\_list] 0\n",
       "\\item[customer\\textbackslash{}\\_type] 0\n",
       "\\item[adr] 0\n",
       "\\item[required\\textbackslash{}\\_car\\textbackslash{}\\_parking\\textbackslash{}\\_spaces] 0\n",
       "\\item[total\\textbackslash{}\\_of\\textbackslash{}\\_special\\textbackslash{}\\_requests] 0\n",
       "\\item[reservation\\textbackslash{}\\_status] 0\n",
       "\\item[reservation\\textbackslash{}\\_status\\textbackslash{}\\_date] 0\n",
       "\\end{description*}\n"
      ],
      "text/markdown": [
       "hotel\n",
       ":   0is_canceled\n",
       ":   0lead_time\n",
       ":   0arrival_date_year\n",
       ":   0arrival_date_month\n",
       ":   0arrival_date_week_number\n",
       ":   0arrival_date_day_of_month\n",
       ":   0stays_in_weekend_nights\n",
       ":   0stays_in_week_nights\n",
       ":   0adults\n",
       ":   0children\n",
       ":   0babies\n",
       ":   0meal\n",
       ":   0country\n",
       ":   0market_segment\n",
       ":   0distribution_channel\n",
       ":   0is_repeated_guest\n",
       ":   0previous_cancellations\n",
       ":   0previous_bookings_not_canceled\n",
       ":   0reserved_room_type\n",
       ":   0assigned_room_type\n",
       ":   0booking_changes\n",
       ":   0deposit_type\n",
       ":   0agent\n",
       ":   0company\n",
       ":   0days_in_waiting_list\n",
       ":   0customer_type\n",
       ":   0adr\n",
       ":   0required_car_parking_spaces\n",
       ":   0total_of_special_requests\n",
       ":   0reservation_status\n",
       ":   0reservation_status_date\n",
       ":   0\n",
       "\n"
      ],
      "text/plain": [
       "                         hotel                    is_canceled \n",
       "                             0                              0 \n",
       "                     lead_time              arrival_date_year \n",
       "                             0                              0 \n",
       "            arrival_date_month       arrival_date_week_number \n",
       "                             0                              0 \n",
       "     arrival_date_day_of_month        stays_in_weekend_nights \n",
       "                             0                              0 \n",
       "          stays_in_week_nights                         adults \n",
       "                             0                              0 \n",
       "                      children                         babies \n",
       "                             0                              0 \n",
       "                          meal                        country \n",
       "                             0                              0 \n",
       "                market_segment           distribution_channel \n",
       "                             0                              0 \n",
       "             is_repeated_guest         previous_cancellations \n",
       "                             0                              0 \n",
       "previous_bookings_not_canceled             reserved_room_type \n",
       "                             0                              0 \n",
       "            assigned_room_type                booking_changes \n",
       "                             0                              0 \n",
       "                  deposit_type                          agent \n",
       "                             0                              0 \n",
       "                       company           days_in_waiting_list \n",
       "                             0                              0 \n",
       "                 customer_type                            adr \n",
       "                             0                              0 \n",
       "   required_car_parking_spaces      total_of_special_requests \n",
       "                             0                              0 \n",
       "            reservation_status        reservation_status_date \n",
       "                             0                              0 "
      ]
     },
     "metadata": {},
     "output_type": "display_data"
    }
   ],
   "source": [
    "colSums(is.na(data) | data == \"NULL\")"
   ]
  },
  {
   "cell_type": "code",
   "execution_count": 19,
   "id": "c05ddabe",
   "metadata": {},
   "outputs": [
    {
     "data": {
      "text/html": [
       "'Percentage data that has lead time greater than 400 days is 1.77%'"
      ],
      "text/latex": [
       "'Percentage data that has lead time greater than 400 days is 1.77\\%'"
      ],
      "text/markdown": [
       "'Percentage data that has lead time greater than 400 days is 1.77%'"
      ],
      "text/plain": [
       "[1] \"Percentage data that has lead time greater than 400 days is 1.77%\""
      ]
     },
     "metadata": {},
     "output_type": "display_data"
    }
   ],
   "source": [
    "threshold = 400\n",
    "outliers = data[data$lead_time > threshold, ]\n",
    "\n",
    "percentage = nrow(outliers)/nrow(data) * 100\n",
    "sprintf(\"Percentage data that has lead time greater than %d days is %.2f%%\", threshold, percentage)\n",
    "\n",
    "data = data[data$lead_time <= threshold, ]"
   ]
  },
  {
   "cell_type": "code",
   "execution_count": 31,
   "id": "1f82d4ae",
   "metadata": {},
   "outputs": [
    {
     "name": "stderr",
     "output_type": "stream",
     "text": [
      "Warning message in text.default(1.1 * P$x, 1.1 * P$y, labels[i], xpd = TRUE, adj = ifelse(P$x < :\n",
      "\"\"colors\" is not a graphical parameter\"Warning message in text.default(1.1 * P$x, 1.1 * P$y, labels[i], xpd = TRUE, adj = ifelse(P$x < :\n",
      "\"\"colors\" is not a graphical parameter\"Warning message in title(main = main, ...):\n",
      "\"\"colors\" is not a graphical parameter\""
     ]
    },
    {
     "data": {
      "image/png": "[encoded data removed]",
      "text/plain": [
       "plot without title"
      ]
     },
     "metadata": {},
     "output_type": "display_data"
    }
   ],
   "source": [
    "tb = table(data$hotel)\n",
    "pie(tb)"
   ]
  }
 ],
 "metadata": {
  "kernelspec": {
   "display_name": "R",
   "language": "R",
   "name": "ir"
  },
  "language_info": {
   "codemirror_mode": "r",
   "file_extension": ".r",
   "mimetype": "text/x-r-source",
   "name": "R",
   "pygments_lexer": "r",
   "version": "3.6.1"
  }
 },
 "nbformat": 4,
 "nbformat_minor": 5
}
