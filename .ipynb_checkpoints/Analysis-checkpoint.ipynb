{
 "cells": [
  {
   "cell_type": "code",
   "execution_count": 1,
   "id": "2a073455",
   "metadata": {
    "ExecuteTime": {
     "end_time": "2022-04-22T18:59:35.892473Z",
     "start_time": "2022-04-22T18:59:35.782Z"
    }
   },
   "outputs": [],
   "source": [
    "# required packages here"
   ]
  },
  {
   "cell_type": "code",
   "execution_count": 2,
   "id": "b5fd247b",
   "metadata": {
    "ExecuteTime": {
     "end_time": "2022-04-22T18:59:36.970222Z",
     "start_time": "2022-04-22T18:59:35.784Z"
    }
   },
   "outputs": [
    {
     "data": {
      "text/html": [
       "<ol class=list-inline>\n",
       "\t<li>119390</li>\n",
       "\t<li>32</li>\n",
       "</ol>\n"
      ],
      "text/latex": [
       "\\begin{enumerate*}\n",
       "\\item 119390\n",
       "\\item 32\n",
       "\\end{enumerate*}\n"
      ],
      "text/markdown": [
       "1. 119390\n",
       "2. 32\n",
       "\n",
       "\n"
      ],
      "text/plain": [
       "[1] 119390     32"
      ]
     },
     "metadata": {},
     "output_type": "display_data"
    }
   ],
   "source": [
    "data = read.csv('hotel_bookings.csv')\n",
    "dim(data)"
   ]
  },
  {
   "cell_type": "code",
   "execution_count": 3,
   "id": "40f025e9",
   "metadata": {
    "ExecuteTime": {
     "end_time": "2022-04-22T18:59:37.004895Z",
     "start_time": "2022-04-22T18:59:35.786Z"
    }
   },
   "outputs": [
    {
     "data": {
      "text/html": [
       "<table>\n",
       "<thead><tr><th scope=col>hotel</th><th scope=col>is_canceled</th><th scope=col>lead_time</th><th scope=col>arrival_date_year</th><th scope=col>arrival_date_month</th><th scope=col>arrival_date_week_number</th><th scope=col>arrival_date_day_of_month</th><th scope=col>stays_in_weekend_nights</th><th scope=col>stays_in_week_nights</th><th scope=col>adults</th><th scope=col>...</th><th scope=col>deposit_type</th><th scope=col>agent</th><th scope=col>company</th><th scope=col>days_in_waiting_list</th><th scope=col>customer_type</th><th scope=col>adr</th><th scope=col>required_car_parking_spaces</th><th scope=col>total_of_special_requests</th><th scope=col>reservation_status</th><th scope=col>reservation_status_date</th></tr></thead>\n",
       "<tbody>\n",
       "\t<tr><td>Resort Hotel</td><td>0           </td><td>342         </td><td>2015        </td><td>July        </td><td>27          </td><td>1           </td><td>0           </td><td>0           </td><td>2           </td><td>...         </td><td>No Deposit  </td><td>NULL        </td><td>NULL        </td><td>0           </td><td>Transient   </td><td> 0          </td><td>0           </td><td>0           </td><td>Check-Out   </td><td>2015-07-01  </td></tr>\n",
       "\t<tr><td>Resort Hotel</td><td>0           </td><td>737         </td><td>2015        </td><td>July        </td><td>27          </td><td>1           </td><td>0           </td><td>0           </td><td>2           </td><td>...         </td><td>No Deposit  </td><td>NULL        </td><td>NULL        </td><td>0           </td><td>Transient   </td><td> 0          </td><td>0           </td><td>0           </td><td>Check-Out   </td><td>2015-07-01  </td></tr>\n",
       "\t<tr><td>Resort Hotel</td><td>0           </td><td>  7         </td><td>2015        </td><td>July        </td><td>27          </td><td>1           </td><td>0           </td><td>1           </td><td>1           </td><td>...         </td><td>No Deposit  </td><td>NULL        </td><td>NULL        </td><td>0           </td><td>Transient   </td><td>75          </td><td>0           </td><td>0           </td><td>Check-Out   </td><td>2015-07-02  </td></tr>\n",
       "\t<tr><td>Resort Hotel</td><td>0           </td><td> 13         </td><td>2015        </td><td>July        </td><td>27          </td><td>1           </td><td>0           </td><td>1           </td><td>1           </td><td>...         </td><td>No Deposit  </td><td>304         </td><td>NULL        </td><td>0           </td><td>Transient   </td><td>75          </td><td>0           </td><td>0           </td><td>Check-Out   </td><td>2015-07-02  </td></tr>\n",
       "\t<tr><td>Resort Hotel</td><td>0           </td><td> 14         </td><td>2015        </td><td>July        </td><td>27          </td><td>1           </td><td>0           </td><td>2           </td><td>2           </td><td>...         </td><td>No Deposit  </td><td>240         </td><td>NULL        </td><td>0           </td><td>Transient   </td><td>98          </td><td>0           </td><td>1           </td><td>Check-Out   </td><td>2015-07-03  </td></tr>\n",
       "\t<tr><td>Resort Hotel</td><td>0           </td><td> 14         </td><td>2015        </td><td>July        </td><td>27          </td><td>1           </td><td>0           </td><td>2           </td><td>2           </td><td>...         </td><td>No Deposit  </td><td>240         </td><td>NULL        </td><td>0           </td><td>Transient   </td><td>98          </td><td>0           </td><td>1           </td><td>Check-Out   </td><td>2015-07-03  </td></tr>\n",
       "</tbody>\n",
       "</table>\n"
      ],
      "text/latex": [
       "\\begin{tabular}{r|llllllllllllllllllllllllllllllll}\n",
       " hotel & is\\_canceled & lead\\_time & arrival\\_date\\_year & arrival\\_date\\_month & arrival\\_date\\_week\\_number & arrival\\_date\\_day\\_of\\_month & stays\\_in\\_weekend\\_nights & stays\\_in\\_week\\_nights & adults & ... & deposit\\_type & agent & company & days\\_in\\_waiting\\_list & customer\\_type & adr & required\\_car\\_parking\\_spaces & total\\_of\\_special\\_requests & reservation\\_status & reservation\\_status\\_date\\\\\n",
       "\\hline\n",
       "\t Resort Hotel & 0            & 342          & 2015         & July         & 27           & 1            & 0            & 0            & 2            & ...          & No Deposit   & NULL         & NULL         & 0            & Transient    &  0           & 0            & 0            & Check-Out    & 2015-07-01  \\\\\n",
       "\t Resort Hotel & 0            & 737          & 2015         & July         & 27           & 1            & 0            & 0            & 2            & ...          & No Deposit   & NULL         & NULL         & 0            & Transient    &  0           & 0            & 0            & Check-Out    & 2015-07-01  \\\\\n",
       "\t Resort Hotel & 0            &   7          & 2015         & July         & 27           & 1            & 0            & 1            & 1            & ...          & No Deposit   & NULL         & NULL         & 0            & Transient    & 75           & 0            & 0            & Check-Out    & 2015-07-02  \\\\\n",
       "\t Resort Hotel & 0            &  13          & 2015         & July         & 27           & 1            & 0            & 1            & 1            & ...          & No Deposit   & 304          & NULL         & 0            & Transient    & 75           & 0            & 0            & Check-Out    & 2015-07-02  \\\\\n",
       "\t Resort Hotel & 0            &  14          & 2015         & July         & 27           & 1            & 0            & 2            & 2            & ...          & No Deposit   & 240          & NULL         & 0            & Transient    & 98           & 0            & 1            & Check-Out    & 2015-07-03  \\\\\n",
       "\t Resort Hotel & 0            &  14          & 2015         & July         & 27           & 1            & 0            & 2            & 2            & ...          & No Deposit   & 240          & NULL         & 0            & Transient    & 98           & 0            & 1            & Check-Out    & 2015-07-03  \\\\\n",
       "\\end{tabular}\n"
      ],
      "text/markdown": [
       "\n",
       "| hotel | is_canceled | lead_time | arrival_date_year | arrival_date_month | arrival_date_week_number | arrival_date_day_of_month | stays_in_weekend_nights | stays_in_week_nights | adults | ... | deposit_type | agent | company | days_in_waiting_list | customer_type | adr | required_car_parking_spaces | total_of_special_requests | reservation_status | reservation_status_date |\n",
       "|---|---|---|---|---|---|---|---|---|---|---|---|---|---|---|---|---|---|---|---|---|\n",
       "| Resort Hotel | 0            | 342          | 2015         | July         | 27           | 1            | 0            | 0            | 2            | ...          | No Deposit   | NULL         | NULL         | 0            | Transient    |  0           | 0            | 0            | Check-Out    | 2015-07-01   |\n",
       "| Resort Hotel | 0            | 737          | 2015         | July         | 27           | 1            | 0            | 0            | 2            | ...          | No Deposit   | NULL         | NULL         | 0            | Transient    |  0           | 0            | 0            | Check-Out    | 2015-07-01   |\n",
       "| Resort Hotel | 0            |   7          | 2015         | July         | 27           | 1            | 0            | 1            | 1            | ...          | No Deposit   | NULL         | NULL         | 0            | Transient    | 75           | 0            | 0            | Check-Out    | 2015-07-02   |\n",
       "| Resort Hotel | 0            |  13          | 2015         | July         | 27           | 1            | 0            | 1            | 1            | ...          | No Deposit   | 304          | NULL         | 0            | Transient    | 75           | 0            | 0            | Check-Out    | 2015-07-02   |\n",
       "| Resort Hotel | 0            |  14          | 2015         | July         | 27           | 1            | 0            | 2            | 2            | ...          | No Deposit   | 240          | NULL         | 0            | Transient    | 98           | 0            | 1            | Check-Out    | 2015-07-03   |\n",
       "| Resort Hotel | 0            |  14          | 2015         | July         | 27           | 1            | 0            | 2            | 2            | ...          | No Deposit   | 240          | NULL         | 0            | Transient    | 98           | 0            | 1            | Check-Out    | 2015-07-03   |\n",
       "\n"
      ],
      "text/plain": [
       "  hotel        is_canceled lead_time arrival_date_year arrival_date_month\n",
       "1 Resort Hotel 0           342       2015              July              \n",
       "2 Resort Hotel 0           737       2015              July              \n",
       "3 Resort Hotel 0             7       2015              July              \n",
       "4 Resort Hotel 0            13       2015              July              \n",
       "5 Resort Hotel 0            14       2015              July              \n",
       "6 Resort Hotel 0            14       2015              July              \n",
       "  arrival_date_week_number arrival_date_day_of_month stays_in_weekend_nights\n",
       "1 27                       1                         0                      \n",
       "2 27                       1                         0                      \n",
       "3 27                       1                         0                      \n",
       "4 27                       1                         0                      \n",
       "5 27                       1                         0                      \n",
       "6 27                       1                         0                      \n",
       "  stays_in_week_nights adults ... deposit_type agent company\n",
       "1 0                    2      ... No Deposit   NULL  NULL   \n",
       "2 0                    2      ... No Deposit   NULL  NULL   \n",
       "3 1                    1      ... No Deposit   NULL  NULL   \n",
       "4 1                    1      ... No Deposit   304   NULL   \n",
       "5 2                    2      ... No Deposit   240   NULL   \n",
       "6 2                    2      ... No Deposit   240   NULL   \n",
       "  days_in_waiting_list customer_type adr required_car_parking_spaces\n",
       "1 0                    Transient      0  0                          \n",
       "2 0                    Transient      0  0                          \n",
       "3 0                    Transient     75  0                          \n",
       "4 0                    Transient     75  0                          \n",
       "5 0                    Transient     98  0                          \n",
       "6 0                    Transient     98  0                          \n",
       "  total_of_special_requests reservation_status reservation_status_date\n",
       "1 0                         Check-Out          2015-07-01             \n",
       "2 0                         Check-Out          2015-07-01             \n",
       "3 0                         Check-Out          2015-07-02             \n",
       "4 0                         Check-Out          2015-07-02             \n",
       "5 1                         Check-Out          2015-07-03             \n",
       "6 1                         Check-Out          2015-07-03             "
      ]
     },
     "metadata": {},
     "output_type": "display_data"
    }
   ],
   "source": [
    "head(data)"
   ]
  }
 ],
 "metadata": {
  "kernelspec": {
   "display_name": "R",
   "language": "R",
   "name": "ir"
  },
  "language_info": {
   "codemirror_mode": "r",
   "file_extension": ".r",
   "mimetype": "text/x-r-source",
   "name": "R",
   "pygments_lexer": "r",
   "version": "3.6.1"
  },
  "toc": {
   "base_numbering": 1,
   "nav_menu": {},
   "number_sections": true,
   "sideBar": true,
   "skip_h1_title": false,
   "title_cell": "Table of Contents",
   "title_sidebar": "Contents",
   "toc_cell": false,
   "toc_position": {},
   "toc_section_display": true,
   "toc_window_display": false
  },
  "varInspector": {
   "cols": {
    "lenName": 16,
    "lenType": 16,
    "lenVar": 40
   },
   "kernels_config": {
    "python": {
     "delete_cmd_postfix": "",
     "delete_cmd_prefix": "del ",
     "library": "var_list.py",
     "varRefreshCmd": "print(var_dic_list())"
    },
    "r": {
     "delete_cmd_postfix": ") ",
     "delete_cmd_prefix": "rm(",
     "library": "var_list.r",
     "varRefreshCmd": "cat(var_dic_list()) "
    }
   },
   "types_to_exclude": [
    "module",
    "function",
    "builtin_function_or_method",
    "instance",
    "_Feature"
   ],
   "window_display": false
  }
 },
 "nbformat": 4,
 "nbformat_minor": 5
}
