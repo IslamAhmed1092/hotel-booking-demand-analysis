{
 "cells": [
  {
   "cell_type": "code",
   "execution_count": 1,
   "id": "2acf4918",
   "metadata": {
    "ExecuteTime": {
     "end_time": "2022-05-06T00:35:59.155429Z",
     "start_time": "2022-05-06T00:35:57.487862Z"
    }
   },
   "outputs": [],
   "source": [
    "import numpy as np\n",
    "import pandas as pd\n",
    "import matplotlib.pyplot as plt\n",
    "from sklearn.model_selection import train_test_split\n",
    "from sklearn.feature_selection import SelectKBest\n",
    "from sklearn.feature_selection import chi2\n",
    "import category_encoders as ce \n",
    "\n",
    "from sklearn.model_selection import GridSearchCV\n",
    "from sklearn.preprocessing import StandardScaler\n",
    "from sklearn.metrics import accuracy_score, confusion_matrix, classification_report\n",
    "from sklearn.linear_model import LogisticRegression\n",
    "from sklearn.neighbors import KNeighborsClassifier\n",
    "from sklearn.svm import SVC\n",
    "from sklearn.tree import DecisionTreeClassifier\n",
    "from sklearn.ensemble import RandomForestClassifier\n",
    "from sklearn.ensemble import RandomForestClassifier\n",
    "from sklearn.ensemble import AdaBoostClassifier\n",
    "from sklearn.ensemble import GradientBoostingClassifier\n",
    "from xgboost import XGBClassifier\n",
    "from catboost import CatBoostClassifier\n",
    "from sklearn.ensemble import ExtraTreesClassifier\n",
    "from lightgbm import LGBMClassifier\n",
    "from sklearn.ensemble import VotingClassifier"
   ]
  },
  {
   "cell_type": "code",
   "execution_count": 2,
   "id": "d6a80293",
   "metadata": {
    "ExecuteTime": {
     "end_time": "2022-05-06T00:35:59.504006Z",
     "start_time": "2022-05-06T00:35:59.157779Z"
    }
   },
   "outputs": [],
   "source": [
    "data = pd.read_csv('hotel_bookings.csv')"
   ]
  },
  {
   "cell_type": "code",
   "execution_count": 3,
   "id": "02dc906f",
   "metadata": {
    "ExecuteTime": {
     "end_time": "2022-05-06T00:35:59.535361Z",
     "start_time": "2022-05-06T00:35:59.505538Z"
    }
   },
   "outputs": [
    {
     "data": {
      "text/html": [
       "<div>\n",
       "<style scoped>\n",
       "    .dataframe tbody tr th:only-of-type {\n",
       "        vertical-align: middle;\n",
       "    }\n",
       "\n",
       "    .dataframe tbody tr th {\n",
       "        vertical-align: top;\n",
       "    }\n",
       "\n",
       "    .dataframe thead th {\n",
       "        text-align: right;\n",
       "    }\n",
       "</style>\n",
       "<table border=\"1\" class=\"dataframe\">\n",
       "  <thead>\n",
       "    <tr style=\"text-align: right;\">\n",
       "      <th></th>\n",
       "      <th>hotel</th>\n",
       "      <th>is_canceled</th>\n",
       "      <th>lead_time</th>\n",
       "      <th>arrival_date_year</th>\n",
       "      <th>arrival_date_month</th>\n",
       "      <th>arrival_date_week_number</th>\n",
       "      <th>arrival_date_day_of_month</th>\n",
       "      <th>stays_in_weekend_nights</th>\n",
       "      <th>stays_in_week_nights</th>\n",
       "      <th>adults</th>\n",
       "      <th>...</th>\n",
       "      <th>deposit_type</th>\n",
       "      <th>agent</th>\n",
       "      <th>company</th>\n",
       "      <th>days_in_waiting_list</th>\n",
       "      <th>customer_type</th>\n",
       "      <th>adr</th>\n",
       "      <th>required_car_parking_spaces</th>\n",
       "      <th>total_of_special_requests</th>\n",
       "      <th>reservation_status</th>\n",
       "      <th>reservation_status_date</th>\n",
       "    </tr>\n",
       "  </thead>\n",
       "  <tbody>\n",
       "    <tr>\n",
       "      <th>0</th>\n",
       "      <td>Resort Hotel</td>\n",
       "      <td>0</td>\n",
       "      <td>342</td>\n",
       "      <td>2015</td>\n",
       "      <td>July</td>\n",
       "      <td>27</td>\n",
       "      <td>1</td>\n",
       "      <td>0</td>\n",
       "      <td>0</td>\n",
       "      <td>2</td>\n",
       "      <td>...</td>\n",
       "      <td>No Deposit</td>\n",
       "      <td>NaN</td>\n",
       "      <td>NaN</td>\n",
       "      <td>0</td>\n",
       "      <td>Transient</td>\n",
       "      <td>0.0</td>\n",
       "      <td>0</td>\n",
       "      <td>0</td>\n",
       "      <td>Check-Out</td>\n",
       "      <td>2015-07-01</td>\n",
       "    </tr>\n",
       "    <tr>\n",
       "      <th>1</th>\n",
       "      <td>Resort Hotel</td>\n",
       "      <td>0</td>\n",
       "      <td>737</td>\n",
       "      <td>2015</td>\n",
       "      <td>July</td>\n",
       "      <td>27</td>\n",
       "      <td>1</td>\n",
       "      <td>0</td>\n",
       "      <td>0</td>\n",
       "      <td>2</td>\n",
       "      <td>...</td>\n",
       "      <td>No Deposit</td>\n",
       "      <td>NaN</td>\n",
       "      <td>NaN</td>\n",
       "      <td>0</td>\n",
       "      <td>Transient</td>\n",
       "      <td>0.0</td>\n",
       "      <td>0</td>\n",
       "      <td>0</td>\n",
       "      <td>Check-Out</td>\n",
       "      <td>2015-07-01</td>\n",
       "    </tr>\n",
       "    <tr>\n",
       "      <th>2</th>\n",
       "      <td>Resort Hotel</td>\n",
       "      <td>0</td>\n",
       "      <td>7</td>\n",
       "      <td>2015</td>\n",
       "      <td>July</td>\n",
       "      <td>27</td>\n",
       "      <td>1</td>\n",
       "      <td>0</td>\n",
       "      <td>1</td>\n",
       "      <td>1</td>\n",
       "      <td>...</td>\n",
       "      <td>No Deposit</td>\n",
       "      <td>NaN</td>\n",
       "      <td>NaN</td>\n",
       "      <td>0</td>\n",
       "      <td>Transient</td>\n",
       "      <td>75.0</td>\n",
       "      <td>0</td>\n",
       "      <td>0</td>\n",
       "      <td>Check-Out</td>\n",
       "      <td>2015-07-02</td>\n",
       "    </tr>\n",
       "    <tr>\n",
       "      <th>3</th>\n",
       "      <td>Resort Hotel</td>\n",
       "      <td>0</td>\n",
       "      <td>13</td>\n",
       "      <td>2015</td>\n",
       "      <td>July</td>\n",
       "      <td>27</td>\n",
       "      <td>1</td>\n",
       "      <td>0</td>\n",
       "      <td>1</td>\n",
       "      <td>1</td>\n",
       "      <td>...</td>\n",
       "      <td>No Deposit</td>\n",
       "      <td>304.0</td>\n",
       "      <td>NaN</td>\n",
       "      <td>0</td>\n",
       "      <td>Transient</td>\n",
       "      <td>75.0</td>\n",
       "      <td>0</td>\n",
       "      <td>0</td>\n",
       "      <td>Check-Out</td>\n",
       "      <td>2015-07-02</td>\n",
       "    </tr>\n",
       "    <tr>\n",
       "      <th>4</th>\n",
       "      <td>Resort Hotel</td>\n",
       "      <td>0</td>\n",
       "      <td>14</td>\n",
       "      <td>2015</td>\n",
       "      <td>July</td>\n",
       "      <td>27</td>\n",
       "      <td>1</td>\n",
       "      <td>0</td>\n",
       "      <td>2</td>\n",
       "      <td>2</td>\n",
       "      <td>...</td>\n",
       "      <td>No Deposit</td>\n",
       "      <td>240.0</td>\n",
       "      <td>NaN</td>\n",
       "      <td>0</td>\n",
       "      <td>Transient</td>\n",
       "      <td>98.0</td>\n",
       "      <td>0</td>\n",
       "      <td>1</td>\n",
       "      <td>Check-Out</td>\n",
       "      <td>2015-07-03</td>\n",
       "    </tr>\n",
       "  </tbody>\n",
       "</table>\n",
       "<p>5 rows × 32 columns</p>\n",
       "</div>"
      ],
      "text/plain": [
       "          hotel  is_canceled  lead_time  arrival_date_year arrival_date_month  \\\n",
       "0  Resort Hotel            0        342               2015               July   \n",
       "1  Resort Hotel            0        737               2015               July   \n",
       "2  Resort Hotel            0          7               2015               July   \n",
       "3  Resort Hotel            0         13               2015               July   \n",
       "4  Resort Hotel            0         14               2015               July   \n",
       "\n",
       "   arrival_date_week_number  arrival_date_day_of_month  \\\n",
       "0                        27                          1   \n",
       "1                        27                          1   \n",
       "2                        27                          1   \n",
       "3                        27                          1   \n",
       "4                        27                          1   \n",
       "\n",
       "   stays_in_weekend_nights  stays_in_week_nights  adults  ...  deposit_type  \\\n",
       "0                        0                     0       2  ...    No Deposit   \n",
       "1                        0                     0       2  ...    No Deposit   \n",
       "2                        0                     1       1  ...    No Deposit   \n",
       "3                        0                     1       1  ...    No Deposit   \n",
       "4                        0                     2       2  ...    No Deposit   \n",
       "\n",
       "   agent company days_in_waiting_list customer_type   adr  \\\n",
       "0    NaN     NaN                    0     Transient   0.0   \n",
       "1    NaN     NaN                    0     Transient   0.0   \n",
       "2    NaN     NaN                    0     Transient  75.0   \n",
       "3  304.0     NaN                    0     Transient  75.0   \n",
       "4  240.0     NaN                    0     Transient  98.0   \n",
       "\n",
       "   required_car_parking_spaces  total_of_special_requests  reservation_status  \\\n",
       "0                            0                          0           Check-Out   \n",
       "1                            0                          0           Check-Out   \n",
       "2                            0                          0           Check-Out   \n",
       "3                            0                          0           Check-Out   \n",
       "4                            0                          1           Check-Out   \n",
       "\n",
       "  reservation_status_date  \n",
       "0              2015-07-01  \n",
       "1              2015-07-01  \n",
       "2              2015-07-02  \n",
       "3              2015-07-02  \n",
       "4              2015-07-03  \n",
       "\n",
       "[5 rows x 32 columns]"
      ]
     },
     "execution_count": 3,
     "metadata": {},
     "output_type": "execute_result"
    }
   ],
   "source": [
    "data.head()"
   ]
  },
  {
   "cell_type": "code",
   "execution_count": 4,
   "id": "ba09269f",
   "metadata": {
    "ExecuteTime": {
     "end_time": "2022-05-06T00:35:59.627070Z",
     "start_time": "2022-05-06T00:35:59.538889Z"
    }
   },
   "outputs": [
    {
     "data": {
      "text/plain": [
       "hotel                                  0\n",
       "is_canceled                            0\n",
       "lead_time                              0\n",
       "arrival_date_year                      0\n",
       "arrival_date_month                     0\n",
       "arrival_date_week_number               0\n",
       "arrival_date_day_of_month              0\n",
       "stays_in_weekend_nights                0\n",
       "stays_in_week_nights                   0\n",
       "adults                                 0\n",
       "children                               4\n",
       "babies                                 0\n",
       "meal                                   0\n",
       "country                              488\n",
       "market_segment                         0\n",
       "distribution_channel                   0\n",
       "is_repeated_guest                      0\n",
       "previous_cancellations                 0\n",
       "previous_bookings_not_canceled         0\n",
       "reserved_room_type                     0\n",
       "assigned_room_type                     0\n",
       "booking_changes                        0\n",
       "deposit_type                           0\n",
       "agent                              16340\n",
       "company                           112593\n",
       "days_in_waiting_list                   0\n",
       "customer_type                          0\n",
       "adr                                    0\n",
       "required_car_parking_spaces            0\n",
       "total_of_special_requests              0\n",
       "reservation_status                     0\n",
       "reservation_status_date                0\n",
       "dtype: int64"
      ]
     },
     "execution_count": 4,
     "metadata": {},
     "output_type": "execute_result"
    }
   ],
   "source": [
    "data.isnull().sum()"
   ]
  },
  {
   "cell_type": "code",
   "execution_count": 5,
   "id": "b5860a35",
   "metadata": {
    "ExecuteTime": {
     "end_time": "2022-05-06T00:35:59.659813Z",
     "start_time": "2022-05-06T00:35:59.629917Z"
    }
   },
   "outputs": [],
   "source": [
    "data = data.fillna({\"children\":0, \"country\":\"UNKNOWN\", \"agent\":0, \"company\":0})"
   ]
  },
  {
   "cell_type": "code",
   "execution_count": 6,
   "id": "002a1211",
   "metadata": {
    "ExecuteTime": {
     "end_time": "2022-05-06T00:35:59.761651Z",
     "start_time": "2022-05-06T00:35:59.661700Z"
    }
   },
   "outputs": [
    {
     "data": {
      "text/plain": [
       "hotel                             0\n",
       "is_canceled                       0\n",
       "lead_time                         0\n",
       "arrival_date_year                 0\n",
       "arrival_date_month                0\n",
       "arrival_date_week_number          0\n",
       "arrival_date_day_of_month         0\n",
       "stays_in_weekend_nights           0\n",
       "stays_in_week_nights              0\n",
       "adults                            0\n",
       "children                          0\n",
       "babies                            0\n",
       "meal                              0\n",
       "country                           0\n",
       "market_segment                    0\n",
       "distribution_channel              0\n",
       "is_repeated_guest                 0\n",
       "previous_cancellations            0\n",
       "previous_bookings_not_canceled    0\n",
       "reserved_room_type                0\n",
       "assigned_room_type                0\n",
       "booking_changes                   0\n",
       "deposit_type                      0\n",
       "agent                             0\n",
       "company                           0\n",
       "days_in_waiting_list              0\n",
       "customer_type                     0\n",
       "adr                               0\n",
       "required_car_parking_spaces       0\n",
       "total_of_special_requests         0\n",
       "reservation_status                0\n",
       "reservation_status_date           0\n",
       "dtype: int64"
      ]
     },
     "execution_count": 6,
     "metadata": {},
     "output_type": "execute_result"
    }
   ],
   "source": [
    "data.isnull().sum()"
   ]
  },
  {
   "cell_type": "code",
   "execution_count": 7,
   "id": "26754d1d",
   "metadata": {
    "ExecuteTime": {
     "end_time": "2022-05-06T00:35:59.772292Z",
     "start_time": "2022-05-06T00:35:59.763888Z"
    }
   },
   "outputs": [
    {
     "data": {
      "text/plain": [
       "hotel                              object\n",
       "is_canceled                         int64\n",
       "lead_time                           int64\n",
       "arrival_date_year                   int64\n",
       "arrival_date_month                 object\n",
       "arrival_date_week_number            int64\n",
       "arrival_date_day_of_month           int64\n",
       "stays_in_weekend_nights             int64\n",
       "stays_in_week_nights                int64\n",
       "adults                              int64\n",
       "children                          float64\n",
       "babies                              int64\n",
       "meal                               object\n",
       "country                            object\n",
       "market_segment                     object\n",
       "distribution_channel               object\n",
       "is_repeated_guest                   int64\n",
       "previous_cancellations              int64\n",
       "previous_bookings_not_canceled      int64\n",
       "reserved_room_type                 object\n",
       "assigned_room_type                 object\n",
       "booking_changes                     int64\n",
       "deposit_type                       object\n",
       "agent                             float64\n",
       "company                           float64\n",
       "days_in_waiting_list                int64\n",
       "customer_type                      object\n",
       "adr                               float64\n",
       "required_car_parking_spaces         int64\n",
       "total_of_special_requests           int64\n",
       "reservation_status                 object\n",
       "reservation_status_date            object\n",
       "dtype: object"
      ]
     },
     "execution_count": 7,
     "metadata": {},
     "output_type": "execute_result"
    }
   ],
   "source": [
    "data.dtypes"
   ]
  },
  {
   "cell_type": "code",
   "execution_count": 8,
   "id": "dca06928",
   "metadata": {
    "ExecuteTime": {
     "end_time": "2022-05-06T00:35:59.817913Z",
     "start_time": "2022-05-06T00:35:59.774792Z"
    }
   },
   "outputs": [],
   "source": [
    "threshold = 400\n",
    "data.drop(data.loc[data['lead_time'] > threshold].index, inplace=True)"
   ]
  },
  {
   "cell_type": "code",
   "execution_count": 9,
   "id": "9f09376e",
   "metadata": {
    "ExecuteTime": {
     "end_time": "2022-05-06T00:35:59.857758Z",
     "start_time": "2022-05-06T00:35:59.820204Z"
    }
   },
   "outputs": [],
   "source": [
    "data.drop(data.loc[(data['stays_in_week_nights'] + data['stays_in_weekend_nights']) <= 0].index, inplace=True)"
   ]
  },
  {
   "cell_type": "code",
   "execution_count": 10,
   "id": "0fe937c9",
   "metadata": {
    "ExecuteTime": {
     "end_time": "2022-05-06T00:35:59.900786Z",
     "start_time": "2022-05-06T00:35:59.861782Z"
    }
   },
   "outputs": [],
   "source": [
    "data.drop(data.loc[(data['adults'] + data['children'] + data['babies']) <= 0].index, inplace=True)"
   ]
  },
  {
   "cell_type": "code",
   "execution_count": 11,
   "id": "22bcf42b",
   "metadata": {
    "ExecuteTime": {
     "end_time": "2022-05-06T00:35:59.930228Z",
     "start_time": "2022-05-06T00:35:59.902266Z"
    }
   },
   "outputs": [],
   "source": [
    "filtered = (data['is_repeated_guest'] == 1) & ((data['previous_cancellations'] + data['previous_bookings_not_canceled']) == 0)\n",
    "data.drop(data.loc[filtered].index, inplace=True)"
   ]
  },
  {
   "cell_type": "code",
   "execution_count": 12,
   "id": "3b5af272",
   "metadata": {
    "ExecuteTime": {
     "end_time": "2022-05-06T00:35:59.962788Z",
     "start_time": "2022-05-06T00:35:59.931867Z"
    }
   },
   "outputs": [],
   "source": [
    "data.drop(data.loc[data['adr'] < 0].index, inplace=True)"
   ]
  },
  {
   "cell_type": "code",
   "execution_count": 13,
   "id": "c3be7165",
   "metadata": {
    "ExecuteTime": {
     "end_time": "2022-05-06T00:35:59.968171Z",
     "start_time": "2022-05-06T00:35:59.964098Z"
    }
   },
   "outputs": [
    {
     "data": {
      "text/plain": [
       "(116140, 32)"
      ]
     },
     "execution_count": 13,
     "metadata": {},
     "output_type": "execute_result"
    }
   ],
   "source": [
    "data.shape"
   ]
  },
  {
   "cell_type": "code",
   "execution_count": 14,
   "id": "2bc36836",
   "metadata": {
    "ExecuteTime": {
     "end_time": "2022-05-06T00:35:59.990935Z",
     "start_time": "2022-05-06T00:35:59.969565Z"
    }
   },
   "outputs": [],
   "source": [
    "data.drop(['reservation_status'], axis=1, inplace=True)"
   ]
  },
  {
   "cell_type": "code",
   "execution_count": 15,
   "id": "50bac43d",
   "metadata": {
    "ExecuteTime": {
     "end_time": "2022-05-06T00:36:00.206649Z",
     "start_time": "2022-05-06T00:35:59.993496Z"
    }
   },
   "outputs": [
    {
     "data": {
      "text/plain": [
       "is_canceled                       1.000000\n",
       "lead_time                         0.280478\n",
       "total_of_special_requests         0.227638\n",
       "required_car_parking_spaces       0.196022\n",
       "booking_changes                   0.141153\n",
       "previous_cancellations            0.111502\n",
       "company                           0.082371\n",
       "is_repeated_guest                 0.071373\n",
       "previous_bookings_not_canceled    0.057261\n",
       "adults                            0.056647\n",
       "days_in_waiting_list              0.054681\n",
       "adr                               0.050926\n",
       "agent                             0.041828\n",
       "babies                            0.031916\n",
       "stays_in_week_nights              0.025323\n",
       "arrival_date_year                 0.014869\n",
       "children                          0.008183\n",
       "arrival_date_day_of_month         0.004817\n",
       "arrival_date_week_number          0.004182\n",
       "stays_in_weekend_nights           0.003051\n",
       "Name: is_canceled, dtype: float64"
      ]
     },
     "execution_count": 15,
     "metadata": {},
     "output_type": "execute_result"
    }
   ],
   "source": [
    "data.corr()['is_canceled'].abs().sort_values(ascending=False)"
   ]
  },
  {
   "cell_type": "code",
   "execution_count": 16,
   "id": "c4617b0c",
   "metadata": {
    "ExecuteTime": {
     "end_time": "2022-05-06T00:36:00.235970Z",
     "start_time": "2022-05-06T00:36:00.208787Z"
    }
   },
   "outputs": [],
   "source": [
    "# date = pd.to_datetime(data['reservation_status_date'])\n",
    "\n",
    "# data['year'] = date.dt.year\n",
    "# data['month'] = date.dt.month\n",
    "# data['day'] = date.dt.day\n",
    "\n",
    "data.drop(['reservation_status_date'] , axis = 1, inplace = True)"
   ]
  },
  {
   "cell_type": "code",
   "execution_count": 17,
   "id": "bc5f54f5",
   "metadata": {
    "ExecuteTime": {
     "end_time": "2022-05-06T00:36:00.262666Z",
     "start_time": "2022-05-06T00:36:00.237818Z"
    }
   },
   "outputs": [],
   "source": [
    "X = data.drop(['is_canceled'], axis=1)\n",
    "y = data['is_canceled']"
   ]
  },
  {
   "cell_type": "code",
   "execution_count": 18,
   "id": "af6f2562",
   "metadata": {
    "ExecuteTime": {
     "end_time": "2022-05-06T00:36:00.422182Z",
     "start_time": "2022-05-06T00:36:00.264289Z"
    }
   },
   "outputs": [
    {
     "name": "stdout",
     "output_type": "stream",
     "text": [
      "meal(5): \n",
      "['BB' 'FB' 'HB' 'SC' 'Undefined']\n",
      "\n",
      "country(178): \n",
      "['GBR' 'PRT' 'USA' 'ESP' 'IRL' 'FRA' 'UNKNOWN' 'ROU' 'NOR' 'OMN' 'ARG'\n",
      " 'POL' 'DEU' 'BEL' 'CHE' 'CN' 'GRC' 'ITA' 'NLD' 'DNK' 'RUS' 'SWE' 'AUS'\n",
      " 'EST' 'CZE' 'BRA' 'FIN' 'MOZ' 'BWA' 'LUX' 'SVN' 'ALB' 'IND' 'CHN' 'MEX'\n",
      " 'MAR' 'UKR' 'SMR' 'LVA' 'PRI' 'SRB' 'CHL' 'AUT' 'BLR' 'LTU' 'TUR' 'ZAF'\n",
      " 'AGO' 'ISR' 'CYM' 'ZMB' 'CPV' 'ZWE' 'DZA' 'KOR' 'CRI' 'HUN' 'ARE' 'TUN'\n",
      " 'JAM' 'HRV' 'HKG' 'IRN' 'GEO' 'AND' 'GIB' 'URY' 'JEY' 'CAF' 'CYP' 'COL'\n",
      " 'GGY' 'KWT' 'NGA' 'MDV' 'VEN' 'SVK' 'FJI' 'KAZ' 'PAK' 'IDN' 'LBN' 'PHL'\n",
      " 'SEN' 'SYC' 'AZE' 'BHR' 'NZL' 'THA' 'DOM' 'MKD' 'MYS' 'ARM' 'JPN' 'LKA'\n",
      " 'CUB' 'CMR' 'BIH' 'MUS' 'COM' 'SUR' 'UGA' 'BGR' 'CIV' 'JOR' 'SYR' 'SGP'\n",
      " 'BDI' 'SAU' 'VNM' 'PLW' 'EGY' 'PER' 'MLT' 'MWI' 'ECU' 'MDG' 'ISL' 'UZB'\n",
      " 'NPL' 'BHS' 'MAC' 'TGO' 'TWN' 'DJI' 'STP' 'KNA' 'ETH' 'IRQ' 'HND' 'RWA'\n",
      " 'QAT' 'KHM' 'MCO' 'BGD' 'IMN' 'TJK' 'NIC' 'BEN' 'VGB' 'TZA' 'GAB' 'GHA'\n",
      " 'TMP' 'GLP' 'KEN' 'LIE' 'GNB' 'MNE' 'UMI' 'MYT' 'FRO' 'MMR' 'PAN' 'BFA'\n",
      " 'LBY' 'MLI' 'NAM' 'BOL' 'PRY' 'BRB' 'ABW' 'AIA' 'SLV' 'DMA' 'PYF' 'GUY'\n",
      " 'LCA' 'ATA' 'GTM' 'ASM' 'MRT' 'NCL' 'KIR' 'SDN' 'ATF' 'SLE' 'LAO']\n",
      "\n",
      "customer_type(4): \n",
      "['Transient' 'Contract' 'Transient-Party' 'Group']\n",
      "\n",
      "distribution_channel(5): \n",
      "['Direct' 'Corporate' 'TA/TO' 'Undefined' 'GDS']\n",
      "\n",
      "market_segment(8): \n",
      "['Direct' 'Corporate' 'Online TA' 'Offline TA/TO' 'Complementary' 'Groups'\n",
      " 'Undefined' 'Aviation']\n",
      "\n",
      "reserved_room_type(9): \n",
      "['A' 'C' 'D' 'E' 'G' 'F' 'H' 'L' 'B']\n",
      "\n",
      "assigned_room_type(11): \n",
      "['C' 'A' 'D' 'E' 'G' 'F' 'I' 'B' 'H' 'L' 'K']\n",
      "\n",
      "arrival_date_month(12): \n",
      "['July' 'August' 'September' 'October' 'November' 'December' 'January'\n",
      " 'February' 'March' 'April' 'May' 'June']\n",
      "\n",
      "deposit_type(3): \n",
      "['No Deposit' 'Refundable' 'Non Refund']\n",
      "\n",
      "hotel(2): \n",
      "['Resort Hotel' 'City Hotel']\n",
      "\n"
     ]
    }
   ],
   "source": [
    "numericalFeatures = list(X._get_numeric_data().columns)\n",
    "categoricalFeatures = list(set(X.columns) - set(numericalFeatures))\n",
    "\n",
    "for col in categoricalFeatures:\n",
    "    print(f\"{col}({X[col].unique().size}): \\n{X[col].unique()}\\n\") "
   ]
  },
  {
   "cell_type": "code",
   "execution_count": 19,
   "id": "9c7f66d9",
   "metadata": {
    "ExecuteTime": {
     "end_time": "2022-05-06T00:36:00.481772Z",
     "start_time": "2022-05-06T00:36:00.424190Z"
    },
    "scrolled": false
   },
   "outputs": [
    {
     "name": "stdout",
     "output_type": "stream",
     "text": [
      "(81298, 29)\n",
      "(34842, 29)\n",
      "(81298,)\n",
      "(34842,)\n"
     ]
    }
   ],
   "source": [
    "X_train, X_test, y_train, y_test = train_test_split(X, y, test_size=0.3)\n",
    "print(X_train.shape)\n",
    "print(X_test.shape)\n",
    "print(y_train.shape)\n",
    "print(y_test.shape)"
   ]
  },
  {
   "cell_type": "code",
   "execution_count": 20,
   "id": "e87fed22",
   "metadata": {
    "ExecuteTime": {
     "end_time": "2022-05-06T00:36:01.335975Z",
     "start_time": "2022-05-06T00:36:00.483622Z"
    }
   },
   "outputs": [],
   "source": [
    "encoder = ce.cat_boost.CatBoostEncoder(cols = categoricalFeatures)\n",
    "encoder.fit(X_train, y_train)\n",
    "X_train = encoder.transform(X_train)\n",
    "X_test = encoder.transform(X_test)\n",
    "\n",
    "# X_enc = X"
   ]
  },
  {
   "cell_type": "code",
   "execution_count": 21,
   "id": "79f9d33a",
   "metadata": {
    "ExecuteTime": {
     "end_time": "2022-05-06T00:36:01.361008Z",
     "start_time": "2022-05-06T00:36:01.337471Z"
    }
   },
   "outputs": [
    {
     "data": {
      "text/html": [
       "<div>\n",
       "<style scoped>\n",
       "    .dataframe tbody tr th:only-of-type {\n",
       "        vertical-align: middle;\n",
       "    }\n",
       "\n",
       "    .dataframe tbody tr th {\n",
       "        vertical-align: top;\n",
       "    }\n",
       "\n",
       "    .dataframe thead th {\n",
       "        text-align: right;\n",
       "    }\n",
       "</style>\n",
       "<table border=\"1\" class=\"dataframe\">\n",
       "  <thead>\n",
       "    <tr style=\"text-align: right;\">\n",
       "      <th></th>\n",
       "      <th>hotel</th>\n",
       "      <th>lead_time</th>\n",
       "      <th>arrival_date_year</th>\n",
       "      <th>arrival_date_month</th>\n",
       "      <th>arrival_date_week_number</th>\n",
       "      <th>arrival_date_day_of_month</th>\n",
       "      <th>stays_in_weekend_nights</th>\n",
       "      <th>stays_in_week_nights</th>\n",
       "      <th>adults</th>\n",
       "      <th>children</th>\n",
       "      <th>...</th>\n",
       "      <th>assigned_room_type</th>\n",
       "      <th>booking_changes</th>\n",
       "      <th>deposit_type</th>\n",
       "      <th>agent</th>\n",
       "      <th>company</th>\n",
       "      <th>days_in_waiting_list</th>\n",
       "      <th>customer_type</th>\n",
       "      <th>adr</th>\n",
       "      <th>required_car_parking_spaces</th>\n",
       "      <th>total_of_special_requests</th>\n",
       "    </tr>\n",
       "  </thead>\n",
       "  <tbody>\n",
       "    <tr>\n",
       "      <th>15234</th>\n",
       "      <td>0.281068</td>\n",
       "      <td>0</td>\n",
       "      <td>2016</td>\n",
       "      <td>0.319760</td>\n",
       "      <td>10</td>\n",
       "      <td>1</td>\n",
       "      <td>0</td>\n",
       "      <td>3</td>\n",
       "      <td>1</td>\n",
       "      <td>0.0</td>\n",
       "      <td>...</td>\n",
       "      <td>0.251118</td>\n",
       "      <td>2</td>\n",
       "      <td>0.286885</td>\n",
       "      <td>47.0</td>\n",
       "      <td>0.0</td>\n",
       "      <td>0</td>\n",
       "      <td>0.401368</td>\n",
       "      <td>30.0</td>\n",
       "      <td>0</td>\n",
       "      <td>0</td>\n",
       "    </tr>\n",
       "    <tr>\n",
       "      <th>22794</th>\n",
       "      <td>0.281068</td>\n",
       "      <td>20</td>\n",
       "      <td>2016</td>\n",
       "      <td>0.402724</td>\n",
       "      <td>15</td>\n",
       "      <td>4</td>\n",
       "      <td>1</td>\n",
       "      <td>1</td>\n",
       "      <td>2</td>\n",
       "      <td>0.0</td>\n",
       "      <td>...</td>\n",
       "      <td>0.251118</td>\n",
       "      <td>1</td>\n",
       "      <td>0.286885</td>\n",
       "      <td>250.0</td>\n",
       "      <td>0.0</td>\n",
       "      <td>0</td>\n",
       "      <td>0.401368</td>\n",
       "      <td>89.0</td>\n",
       "      <td>0</td>\n",
       "      <td>0</td>\n",
       "    </tr>\n",
       "    <tr>\n",
       "      <th>105910</th>\n",
       "      <td>0.411091</td>\n",
       "      <td>2</td>\n",
       "      <td>2017</td>\n",
       "      <td>0.415226</td>\n",
       "      <td>26</td>\n",
       "      <td>28</td>\n",
       "      <td>0</td>\n",
       "      <td>1</td>\n",
       "      <td>1</td>\n",
       "      <td>0.0</td>\n",
       "      <td>...</td>\n",
       "      <td>0.251118</td>\n",
       "      <td>1</td>\n",
       "      <td>0.286885</td>\n",
       "      <td>0.0</td>\n",
       "      <td>45.0</td>\n",
       "      <td>0</td>\n",
       "      <td>0.401368</td>\n",
       "      <td>0.0</td>\n",
       "      <td>0</td>\n",
       "      <td>2</td>\n",
       "    </tr>\n",
       "    <tr>\n",
       "      <th>62154</th>\n",
       "      <td>0.411091</td>\n",
       "      <td>27</td>\n",
       "      <td>2017</td>\n",
       "      <td>0.302612</td>\n",
       "      <td>1</td>\n",
       "      <td>3</td>\n",
       "      <td>0</td>\n",
       "      <td>2</td>\n",
       "      <td>2</td>\n",
       "      <td>0.0</td>\n",
       "      <td>...</td>\n",
       "      <td>0.439127</td>\n",
       "      <td>0</td>\n",
       "      <td>0.286885</td>\n",
       "      <td>9.0</td>\n",
       "      <td>0.0</td>\n",
       "      <td>0</td>\n",
       "      <td>0.401368</td>\n",
       "      <td>106.0</td>\n",
       "      <td>0</td>\n",
       "      <td>1</td>\n",
       "    </tr>\n",
       "    <tr>\n",
       "      <th>14121</th>\n",
       "      <td>0.281068</td>\n",
       "      <td>6</td>\n",
       "      <td>2017</td>\n",
       "      <td>0.334910</td>\n",
       "      <td>5</td>\n",
       "      <td>1</td>\n",
       "      <td>0</td>\n",
       "      <td>2</td>\n",
       "      <td>1</td>\n",
       "      <td>0.0</td>\n",
       "      <td>...</td>\n",
       "      <td>0.022905</td>\n",
       "      <td>0</td>\n",
       "      <td>0.286885</td>\n",
       "      <td>0.0</td>\n",
       "      <td>356.0</td>\n",
       "      <td>0</td>\n",
       "      <td>0.257620</td>\n",
       "      <td>0.0</td>\n",
       "      <td>0</td>\n",
       "      <td>1</td>\n",
       "    </tr>\n",
       "  </tbody>\n",
       "</table>\n",
       "<p>5 rows × 29 columns</p>\n",
       "</div>"
      ],
      "text/plain": [
       "           hotel  lead_time  arrival_date_year  arrival_date_month  \\\n",
       "15234   0.281068          0               2016            0.319760   \n",
       "22794   0.281068         20               2016            0.402724   \n",
       "105910  0.411091          2               2017            0.415226   \n",
       "62154   0.411091         27               2017            0.302612   \n",
       "14121   0.281068          6               2017            0.334910   \n",
       "\n",
       "        arrival_date_week_number  arrival_date_day_of_month  \\\n",
       "15234                         10                          1   \n",
       "22794                         15                          4   \n",
       "105910                        26                         28   \n",
       "62154                          1                          3   \n",
       "14121                          5                          1   \n",
       "\n",
       "        stays_in_weekend_nights  stays_in_week_nights  adults  children  ...  \\\n",
       "15234                         0                     3       1       0.0  ...   \n",
       "22794                         1                     1       2       0.0  ...   \n",
       "105910                        0                     1       1       0.0  ...   \n",
       "62154                         0                     2       2       0.0  ...   \n",
       "14121                         0                     2       1       0.0  ...   \n",
       "\n",
       "        assigned_room_type  booking_changes  deposit_type  agent  company  \\\n",
       "15234             0.251118                2      0.286885   47.0      0.0   \n",
       "22794             0.251118                1      0.286885  250.0      0.0   \n",
       "105910            0.251118                1      0.286885    0.0     45.0   \n",
       "62154             0.439127                0      0.286885    9.0      0.0   \n",
       "14121             0.022905                0      0.286885    0.0    356.0   \n",
       "\n",
       "        days_in_waiting_list  customer_type    adr  \\\n",
       "15234                      0       0.401368   30.0   \n",
       "22794                      0       0.401368   89.0   \n",
       "105910                     0       0.401368    0.0   \n",
       "62154                      0       0.401368  106.0   \n",
       "14121                      0       0.257620    0.0   \n",
       "\n",
       "        required_car_parking_spaces  total_of_special_requests  \n",
       "15234                             0                          0  \n",
       "22794                             0                          0  \n",
       "105910                            0                          2  \n",
       "62154                             0                          1  \n",
       "14121                             0                          1  \n",
       "\n",
       "[5 rows x 29 columns]"
      ]
     },
     "execution_count": 21,
     "metadata": {},
     "output_type": "execute_result"
    }
   ],
   "source": [
    "X_train.head()"
   ]
  },
  {
   "cell_type": "code",
   "execution_count": 22,
   "id": "da471727",
   "metadata": {
    "ExecuteTime": {
     "end_time": "2022-05-06T00:36:01.468685Z",
     "start_time": "2022-05-06T00:36:01.364217Z"
    }
   },
   "outputs": [],
   "source": [
    "scaler = StandardScaler().fit(X_train,y_train)\n",
    "X_train = pd.DataFrame(scaler.transform(X_train), columns=X_train.columns)\n",
    "X_test = pd.DataFrame(scaler.transform(X_test), columns=X_test.columns)"
   ]
  },
  {
   "cell_type": "code",
   "execution_count": 23,
   "id": "07209f3a",
   "metadata": {
    "ExecuteTime": {
     "end_time": "2022-05-06T00:36:01.472866Z",
     "start_time": "2022-05-06T00:36:01.470246Z"
    }
   },
   "outputs": [],
   "source": [
    "# fs = SelectKBest(score_func=chi2, k='all')\n",
    "# fs.fit(X_enc, y)\n",
    "# columns = X_enc.columns.to_list()\n",
    "# scores = {columns[i]:fs.scores_[i] for i in range(len(columns))}\n",
    "# dict(sorted(scores.items(), key=lambda item: item[1], reverse=True))"
   ]
  },
  {
   "cell_type": "code",
   "execution_count": 24,
   "id": "b01e616e",
   "metadata": {
    "ExecuteTime": {
     "end_time": "2022-05-06T00:36:01.478445Z",
     "start_time": "2022-05-06T00:36:01.474850Z"
    }
   },
   "outputs": [],
   "source": [
    "y_train = y_train.reset_index(drop=True)\n",
    "# X_train = X_train[:10000]\n",
    "# y_train = y_train[:10000]\n",
    "\n",
    "y_test = y_test.reset_index(drop=True)\n",
    "# X_test = X_test[:10000]\n",
    "# y_test = y_test[:10000]"
   ]
  },
  {
   "cell_type": "code",
   "execution_count": 25,
   "id": "93334565",
   "metadata": {
    "ExecuteTime": {
     "end_time": "2022-05-06T00:36:01.486958Z",
     "start_time": "2022-05-06T00:36:01.480463Z"
    }
   },
   "outputs": [],
   "source": [
    "train = pd.concat([X_train[:10000], y_train[:10000]], axis=1, join='inner')\n",
    "test = pd.concat([X_test[:10000], y_test[:10000]], axis=1, join='inner')"
   ]
  },
  {
   "cell_type": "code",
   "execution_count": 26,
   "id": "af074601",
   "metadata": {
    "ExecuteTime": {
     "end_time": "2022-05-06T00:36:02.453430Z",
     "start_time": "2022-05-06T00:36:01.488981Z"
    }
   },
   "outputs": [],
   "source": [
    "train.to_csv('train.csv',index=False, header=False)\n",
    "X_test[:10000].to_csv('test.csv',index=False, header=False)"
   ]
  },
  {
   "cell_type": "code",
   "execution_count": 27,
   "id": "bd701ff0",
   "metadata": {
    "ExecuteTime": {
     "end_time": "2022-05-06T00:36:03.187843Z",
     "start_time": "2022-05-06T00:36:02.455192Z"
    }
   },
   "outputs": [
    {
     "name": "stdout",
     "output_type": "stream",
     "text": [
      "Accuracy Score of Logistic Regression is : 0.8036852075081797\n",
      "Confusion Matrix : \n",
      "[[20114  1928]\n",
      " [ 4912  7888]]\n",
      "Classification Report : \n",
      "              precision    recall  f1-score   support\n",
      "\n",
      "           0       0.80      0.91      0.85     22042\n",
      "           1       0.80      0.62      0.70     12800\n",
      "\n",
      "    accuracy                           0.80     34842\n",
      "   macro avg       0.80      0.76      0.78     34842\n",
      "weighted avg       0.80      0.80      0.80     34842\n",
      "\n"
     ]
    }
   ],
   "source": [
    "lr = LogisticRegression(max_iter=2000)\n",
    "lr.fit(X_train, y_train)\n",
    "\n",
    "y_pred_lr = lr.predict(X_test)\n",
    "\n",
    "acc_lr = accuracy_score(y_test, y_pred_lr)\n",
    "conf = confusion_matrix(y_test, y_pred_lr)\n",
    "clf_report = classification_report(y_test, y_pred_lr)\n",
    "\n",
    "print(f\"Accuracy Score of Logistic Regression is : {acc_lr}\")\n",
    "print(f\"Confusion Matrix : \\n{conf}\")\n",
    "print(f\"Classification Report : \\n{clf_report}\")"
   ]
  },
  {
   "cell_type": "code",
   "execution_count": 28,
   "id": "ba6bcecd",
   "metadata": {
    "ExecuteTime": {
     "end_time": "2022-05-06T00:36:04.129807Z",
     "start_time": "2022-05-06T00:36:03.193051Z"
    }
   },
   "outputs": [
    {
     "name": "stdout",
     "output_type": "stream",
     "text": [
      "Accuracy Score of Decision Tree is : 0.8503243212215142\n",
      "Confusion Matrix : \n",
      "[[19315  2727]\n",
      " [ 2488 10312]]\n",
      "Classification Report : \n",
      "              precision    recall  f1-score   support\n",
      "\n",
      "           0       0.89      0.88      0.88     22042\n",
      "           1       0.79      0.81      0.80     12800\n",
      "\n",
      "    accuracy                           0.85     34842\n",
      "   macro avg       0.84      0.84      0.84     34842\n",
      "weighted avg       0.85      0.85      0.85     34842\n",
      "\n"
     ]
    }
   ],
   "source": [
    "dtc = DecisionTreeClassifier()\n",
    "dtc.fit(X_train, y_train)\n",
    "\n",
    "y_pred_dtc = dtc.predict(X_test)\n",
    "\n",
    "acc_dtc = accuracy_score(y_test, y_pred_dtc)\n",
    "conf = confusion_matrix(y_test, y_pred_dtc)\n",
    "clf_report = classification_report(y_test, y_pred_dtc)\n",
    "\n",
    "print(f\"Accuracy Score of Decision Tree is : {acc_dtc}\")\n",
    "print(f\"Confusion Matrix : \\n{conf}\")\n",
    "print(f\"Classification Report : \\n{clf_report}\")"
   ]
  },
  {
   "cell_type": "code",
   "execution_count": 29,
   "id": "584e48e6",
   "metadata": {
    "ExecuteTime": {
     "end_time": "2022-05-06T00:36:12.682884Z",
     "start_time": "2022-05-06T00:36:04.131371Z"
    }
   },
   "outputs": [
    {
     "name": "stdout",
     "output_type": "stream",
     "text": [
      "Accuracy Score of Random Forest is : 0.8919981631364445\n",
      "Confusion Matrix : \n",
      "[[20612  1430]\n",
      " [ 2333 10467]]\n",
      "Classification Report : \n",
      "              precision    recall  f1-score   support\n",
      "\n",
      "           0       0.90      0.94      0.92     22042\n",
      "           1       0.88      0.82      0.85     12800\n",
      "\n",
      "    accuracy                           0.89     34842\n",
      "   macro avg       0.89      0.88      0.88     34842\n",
      "weighted avg       0.89      0.89      0.89     34842\n",
      "\n"
     ]
    }
   ],
   "source": [
    "rd_clf = RandomForestClassifier()\n",
    "rd_clf.fit(X_train, y_train)\n",
    "\n",
    "y_pred_rd_clf = rd_clf.predict(X_test)\n",
    "\n",
    "acc_rd_clf = accuracy_score(y_test, y_pred_rd_clf)\n",
    "conf = confusion_matrix(y_test, y_pred_rd_clf)\n",
    "clf_report = classification_report(y_test, y_pred_rd_clf)\n",
    "\n",
    "print(f\"Accuracy Score of Random Forest is : {acc_rd_clf}\")\n",
    "print(f\"Confusion Matrix : \\n{conf}\")\n",
    "print(f\"Classification Report : \\n{clf_report}\")"
   ]
  },
  {
   "cell_type": "code",
   "execution_count": 30,
   "id": "00588bda",
   "metadata": {
    "ExecuteTime": {
     "end_time": "2022-05-06T00:37:18.424506Z",
     "start_time": "2022-05-06T00:36:12.683874Z"
    }
   },
   "outputs": [
    {
     "name": "stdout",
     "output_type": "stream",
     "text": [
      "Accuracy Score of KNN is : 0.8393318408816945\n",
      "Confusion Matrix : \n",
      "[[19578  2464]\n",
      " [ 3134  9666]]\n",
      "Classification Report : \n",
      "              precision    recall  f1-score   support\n",
      "\n",
      "           0       0.86      0.89      0.87     22042\n",
      "           1       0.80      0.76      0.78     12800\n",
      "\n",
      "    accuracy                           0.84     34842\n",
      "   macro avg       0.83      0.82      0.83     34842\n",
      "weighted avg       0.84      0.84      0.84     34842\n",
      "\n"
     ]
    }
   ],
   "source": [
    "knn = KNeighborsClassifier()\n",
    "knn.fit(X_train, y_train)\n",
    "\n",
    "y_pred_knn = knn.predict(X_test)\n",
    "\n",
    "acc_knn = accuracy_score(y_test, y_pred_knn)\n",
    "conf = confusion_matrix(y_test, y_pred_knn)\n",
    "clf_report = classification_report(y_test, y_pred_knn)\n",
    "\n",
    "print(f\"Accuracy Score of KNN is : {acc_knn}\")\n",
    "print(f\"Confusion Matrix : \\n{conf}\")\n",
    "print(f\"Classification Report : \\n{clf_report}\")"
   ]
  },
  {
   "cell_type": "code",
   "execution_count": 31,
   "id": "642f488b",
   "metadata": {
    "ExecuteTime": {
     "end_time": "2022-05-06T00:37:19.866219Z",
     "start_time": "2022-05-06T00:37:18.425581Z"
    },
    "scrolled": false
   },
   "outputs": [
    {
     "name": "stdout",
     "output_type": "stream",
     "text": [
      "Accuracy: 0.8782216864703519\n",
      "Classification Report : \n",
      "              precision    recall  f1-score   support\n",
      "\n",
      "           0       0.90      0.91      0.90     22042\n",
      "           1       0.85      0.82      0.83     12800\n",
      "\n",
      "    accuracy                           0.88     34842\n",
      "   macro avg       0.87      0.87      0.87     34842\n",
      "weighted avg       0.88      0.88      0.88     34842\n",
      "\n"
     ]
    }
   ],
   "source": [
    "cat = CatBoostClassifier(iterations=100, silent=True)\n",
    "cat.fit(X_train, y_train)\n",
    "\n",
    "y_pred_cat = cat.predict(X_test)\n",
    "\n",
    "acc_cat = accuracy_score(y_test, y_pred_cat)\n",
    "clf_report = classification_report(y_test, y_pred_cat)\n",
    "print(f'Accuracy: {acc_cat}')\n",
    "print(f'Classification Report : \\n{clf_report}')"
   ]
  },
  {
   "cell_type": "code",
   "execution_count": null,
   "id": "6d02ec85",
   "metadata": {},
   "outputs": [],
   "source": []
  }
 ],
 "metadata": {
  "kernelspec": {
   "display_name": "Python 3 (ipykernel)",
   "language": "python",
   "name": "python3"
  },
  "language_info": {
   "codemirror_mode": {
    "name": "ipython",
    "version": 3
   },
   "file_extension": ".py",
   "mimetype": "text/x-python",
   "name": "python",
   "nbconvert_exporter": "python",
   "pygments_lexer": "ipython3",
   "version": "3.9.7"
  },
  "latex_envs": {
   "LaTeX_envs_menu_present": true,
   "autoclose": false,
   "autocomplete": true,
   "bibliofile": "biblio.bib",
   "cite_by": "apalike",
   "current_citInitial": 1,
   "eqLabelWithNumbers": true,
   "eqNumInitial": 1,
   "hotkeys": {
    "equation": "Ctrl-E",
    "itemize": "Ctrl-I"
   },
   "labels_anchors": false,
   "latex_user_defs": false,
   "report_style_numbering": false,
   "user_envs_cfg": false
  },
  "toc": {
   "base_numbering": 1,
   "nav_menu": {},
   "number_sections": true,
   "sideBar": true,
   "skip_h1_title": false,
   "title_cell": "Table of Contents",
   "title_sidebar": "Contents",
   "toc_cell": false,
   "toc_position": {},
   "toc_section_display": true,
   "toc_window_display": false
  },
  "varInspector": {
   "cols": {
    "lenName": 16,
    "lenType": 16,
    "lenVar": 40
   },
   "kernels_config": {
    "python": {
     "delete_cmd_postfix": "",
     "delete_cmd_prefix": "del ",
     "library": "var_list.py",
     "varRefreshCmd": "print(var_dic_list())"
    },
    "r": {
     "delete_cmd_postfix": ") ",
     "delete_cmd_prefix": "rm(",
     "library": "var_list.r",
     "varRefreshCmd": "cat(var_dic_list()) "
    }
   },
   "types_to_exclude": [
    "module",
    "function",
    "builtin_function_or_method",
    "instance",
    "_Feature"
   ],
   "window_display": false
  }
 },
 "nbformat": 4,
 "nbformat_minor": 5
}
