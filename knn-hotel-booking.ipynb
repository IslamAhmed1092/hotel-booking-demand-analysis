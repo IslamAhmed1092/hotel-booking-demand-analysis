{
 "cells": [
  {
   "cell_type": "markdown",
   "id": "6ad1c02f",
   "metadata": {},
   "source": [
    "# Installing Dependecies"
   ]
  },
  {
   "cell_type": "code",
   "execution_count": 220,
   "id": "e7ca1078",
   "metadata": {
    "scrolled": true
   },
   "outputs": [
    {
     "name": "stdout",
     "output_type": "stream",
     "text": [
      "\n",
      "  There is a binary version available but the source version is later:\n",
      "      binary source needs_compilation\n",
      "class 7.3-19 7.3-20              TRUE\n",
      "\n"
     ]
    },
    {
     "name": "stderr",
     "output_type": "stream",
     "text": [
      "installing the source package 'class'\n",
      "\n",
      "Warning message in install.packages(\"class\"):\n",
      "\"installation of package 'class' had non-zero exit status\""
     ]
    }
   ],
   "source": [
    "install.packages(\"class\")"
   ]
  },
  {
   "cell_type": "code",
   "execution_count": 1,
   "id": "15bf756e",
   "metadata": {},
   "outputs": [],
   "source": [
    "library(class)"
   ]
  },
  {
   "cell_type": "markdown",
   "id": "32c1b543",
   "metadata": {},
   "source": [
    "# Reading Data"
   ]
  },
  {
   "cell_type": "code",
   "execution_count": 2,
   "id": "dba9d549",
   "metadata": {},
   "outputs": [
    {
     "data": {
      "text/html": [
       "<ol class=list-inline>\n",
       "\t<li>119390</li>\n",
       "\t<li>32</li>\n",
       "</ol>\n"
      ],
      "text/latex": [
       "\\begin{enumerate*}\n",
       "\\item 119390\n",
       "\\item 32\n",
       "\\end{enumerate*}\n"
      ],
      "text/markdown": [
       "1. 119390\n",
       "2. 32\n",
       "\n",
       "\n"
      ],
      "text/plain": [
       "[1] 119390     32"
      ]
     },
     "metadata": {},
     "output_type": "display_data"
    }
   ],
   "source": [
    "data <- read.csv(\"hotel_bookings.csv\", stringsAsFactors = 0)\n",
    "dim(data)"
   ]
  },
  {
   "cell_type": "markdown",
   "id": "bd929707",
   "metadata": {},
   "source": [
    "# Preprocessing\n"
   ]
  },
  {
   "cell_type": "code",
   "execution_count": 3,
   "id": "ef43cf54",
   "metadata": {},
   "outputs": [
    {
     "data": {
      "text/html": [
       "'Percentage data that has lead time greater than 400 days is 1.77%'"
      ],
      "text/latex": [
       "'Percentage data that has lead time greater than 400 days is 1.77\\%'"
      ],
      "text/markdown": [
       "'Percentage data that has lead time greater than 400 days is 1.77%'"
      ],
      "text/plain": [
       "[1] \"Percentage data that has lead time greater than 400 days is 1.77%\""
      ]
     },
     "metadata": {},
     "output_type": "display_data"
    }
   ],
   "source": [
    "data$children[is.na(data$children)] = 0\n",
    "\n",
    "levels(data$country) <- c(levels(data$country), \"UNKNOWN\") \n",
    "data$country[data$country == \"NULL\"] <- \"UNKNOWN\"\n",
    "data$country = factor(data$country)\n",
    "\n",
    "levels(data$agent) <- c(levels(data$agent), '0')\n",
    "data$agent[data$agent == \"NULL\"] <- '0'\n",
    "data$agent = factor(data$agent)\n",
    "\n",
    "levels(data$company) <- c(levels(data$company), '0')\n",
    "data$company[data$company == \"NULL\"] <- '0'\n",
    "data$company = factor(data$company)\n",
    "\n",
    "threshold = 400\n",
    "outliers = data[data$lead_time > threshold, ]\n",
    "\n",
    "percentage = nrow(outliers)/nrow(data) * 100\n",
    "sprintf(\"Percentage data that has lead time greater than %d days is %.2f%%\", threshold, percentage)\n",
    "\n",
    "data = data[data$lead_time <= threshold, ]"
   ]
  },
  {
   "cell_type": "markdown",
   "id": "a585da08",
   "metadata": {},
   "source": [
    "# attribute selection"
   ]
  },
  {
   "cell_type": "code",
   "execution_count": 21,
   "id": "906399b6",
   "metadata": {},
   "outputs": [
    {
     "data": {
      "text/html": [
       "<ol class=list-inline>\n",
       "\t<li>'hotel'</li>\n",
       "\t<li>'is_canceled'</li>\n",
       "\t<li>'lead_time'</li>\n",
       "\t<li>'arrival_date_year'</li>\n",
       "\t<li>'arrival_date_month'</li>\n",
       "\t<li>'arrival_date_week_number'</li>\n",
       "\t<li>'arrival_date_day_of_month'</li>\n",
       "\t<li>'stays_in_weekend_nights'</li>\n",
       "\t<li>'stays_in_week_nights'</li>\n",
       "\t<li>'adults'</li>\n",
       "\t<li>'children'</li>\n",
       "\t<li>'babies'</li>\n",
       "\t<li>'meal'</li>\n",
       "\t<li>'country'</li>\n",
       "\t<li>'market_segment'</li>\n",
       "\t<li>'distribution_channel'</li>\n",
       "\t<li>'is_repeated_guest'</li>\n",
       "\t<li>'previous_cancellations'</li>\n",
       "\t<li>'previous_bookings_not_canceled'</li>\n",
       "\t<li>'reserved_room_type'</li>\n",
       "\t<li>'assigned_room_type'</li>\n",
       "\t<li>'booking_changes'</li>\n",
       "\t<li>'deposit_type'</li>\n",
       "\t<li>'agent'</li>\n",
       "\t<li>'company'</li>\n",
       "\t<li>'days_in_waiting_list'</li>\n",
       "\t<li>'customer_type'</li>\n",
       "\t<li>'adr'</li>\n",
       "\t<li>'required_car_parking_spaces'</li>\n",
       "\t<li>'total_of_special_requests'</li>\n",
       "\t<li>'reservation_status'</li>\n",
       "\t<li>'reservation_status_date'</li>\n",
       "</ol>\n"
      ],
      "text/latex": [
       "\\begin{enumerate*}\n",
       "\\item 'hotel'\n",
       "\\item 'is\\_canceled'\n",
       "\\item 'lead\\_time'\n",
       "\\item 'arrival\\_date\\_year'\n",
       "\\item 'arrival\\_date\\_month'\n",
       "\\item 'arrival\\_date\\_week\\_number'\n",
       "\\item 'arrival\\_date\\_day\\_of\\_month'\n",
       "\\item 'stays\\_in\\_weekend\\_nights'\n",
       "\\item 'stays\\_in\\_week\\_nights'\n",
       "\\item 'adults'\n",
       "\\item 'children'\n",
       "\\item 'babies'\n",
       "\\item 'meal'\n",
       "\\item 'country'\n",
       "\\item 'market\\_segment'\n",
       "\\item 'distribution\\_channel'\n",
       "\\item 'is\\_repeated\\_guest'\n",
       "\\item 'previous\\_cancellations'\n",
       "\\item 'previous\\_bookings\\_not\\_canceled'\n",
       "\\item 'reserved\\_room\\_type'\n",
       "\\item 'assigned\\_room\\_type'\n",
       "\\item 'booking\\_changes'\n",
       "\\item 'deposit\\_type'\n",
       "\\item 'agent'\n",
       "\\item 'company'\n",
       "\\item 'days\\_in\\_waiting\\_list'\n",
       "\\item 'customer\\_type'\n",
       "\\item 'adr'\n",
       "\\item 'required\\_car\\_parking\\_spaces'\n",
       "\\item 'total\\_of\\_special\\_requests'\n",
       "\\item 'reservation\\_status'\n",
       "\\item 'reservation\\_status\\_date'\n",
       "\\end{enumerate*}\n"
      ],
      "text/markdown": [
       "1. 'hotel'\n",
       "2. 'is_canceled'\n",
       "3. 'lead_time'\n",
       "4. 'arrival_date_year'\n",
       "5. 'arrival_date_month'\n",
       "6. 'arrival_date_week_number'\n",
       "7. 'arrival_date_day_of_month'\n",
       "8. 'stays_in_weekend_nights'\n",
       "9. 'stays_in_week_nights'\n",
       "10. 'adults'\n",
       "11. 'children'\n",
       "12. 'babies'\n",
       "13. 'meal'\n",
       "14. 'country'\n",
       "15. 'market_segment'\n",
       "16. 'distribution_channel'\n",
       "17. 'is_repeated_guest'\n",
       "18. 'previous_cancellations'\n",
       "19. 'previous_bookings_not_canceled'\n",
       "20. 'reserved_room_type'\n",
       "21. 'assigned_room_type'\n",
       "22. 'booking_changes'\n",
       "23. 'deposit_type'\n",
       "24. 'agent'\n",
       "25. 'company'\n",
       "26. 'days_in_waiting_list'\n",
       "27. 'customer_type'\n",
       "28. 'adr'\n",
       "29. 'required_car_parking_spaces'\n",
       "30. 'total_of_special_requests'\n",
       "31. 'reservation_status'\n",
       "32. 'reservation_status_date'\n",
       "\n",
       "\n"
      ],
      "text/plain": [
       " [1] \"hotel\"                          \"is_canceled\"                   \n",
       " [3] \"lead_time\"                      \"arrival_date_year\"             \n",
       " [5] \"arrival_date_month\"             \"arrival_date_week_number\"      \n",
       " [7] \"arrival_date_day_of_month\"      \"stays_in_weekend_nights\"       \n",
       " [9] \"stays_in_week_nights\"           \"adults\"                        \n",
       "[11] \"children\"                       \"babies\"                        \n",
       "[13] \"meal\"                           \"country\"                       \n",
       "[15] \"market_segment\"                 \"distribution_channel\"          \n",
       "[17] \"is_repeated_guest\"              \"previous_cancellations\"        \n",
       "[19] \"previous_bookings_not_canceled\" \"reserved_room_type\"            \n",
       "[21] \"assigned_room_type\"             \"booking_changes\"               \n",
       "[23] \"deposit_type\"                   \"agent\"                         \n",
       "[25] \"company\"                        \"days_in_waiting_list\"          \n",
       "[27] \"customer_type\"                  \"adr\"                           \n",
       "[29] \"required_car_parking_spaces\"    \"total_of_special_requests\"     \n",
       "[31] \"reservation_status\"             \"reservation_status_date\"       "
      ]
     },
     "metadata": {},
     "output_type": "display_data"
    }
   ],
   "source": [
    "selected_attrs=c(\"lead_time\",\"arrival_date_week_number\" ,\"babies\" ,\"required_car_parking_spaces\", \"total_of_special_requests\",\"children\")\n",
    "attributes(data)$names"
   ]
  },
  {
   "cell_type": "markdown",
   "id": "c439391e",
   "metadata": {},
   "source": [
    "# train"
   ]
  },
  {
   "cell_type": "code",
   "execution_count": 20,
   "id": "d85d1ff9",
   "metadata": {},
   "outputs": [
    {
     "data": {
      "text/html": [
       "<ol class=list-inline>\n",
       "\t<li>93820</li>\n",
       "\t<li>7</li>\n",
       "</ol>\n"
      ],
      "text/latex": [
       "\\begin{enumerate*}\n",
       "\\item 93820\n",
       "\\item 7\n",
       "\\end{enumerate*}\n"
      ],
      "text/markdown": [
       "1. 93820\n",
       "2. 7\n",
       "\n",
       "\n"
      ],
      "text/plain": [
       "[1] 93820     7"
      ]
     },
     "metadata": {},
     "output_type": "display_data"
    },
    {
     "data": {
      "text/html": [
       "<ol class=list-inline>\n",
       "\t<li>23456</li>\n",
       "\t<li>7</li>\n",
       "</ol>\n"
      ],
      "text/latex": [
       "\\begin{enumerate*}\n",
       "\\item 23456\n",
       "\\item 7\n",
       "\\end{enumerate*}\n"
      ],
      "text/markdown": [
       "1. 23456\n",
       "2. 7\n",
       "\n",
       "\n"
      ],
      "text/plain": [
       "[1] 23456     7"
      ]
     },
     "metadata": {},
     "output_type": "display_data"
    },
    {
     "ename": "ERROR",
     "evalue": "Error in x - min(x): non-numeric argument to binary operator\n",
     "output_type": "error",
     "traceback": [
      "Error in x - min(x): non-numeric argument to binary operator\nTraceback:\n",
      "1. as.data.frame(lapply(prc_train, normalize))",
      "2. lapply(prc_train, normalize)",
      "3. FUN(X[[i]], ...)"
     ]
    }
   ],
   "source": [
    "\n",
    "set.seed(101) # Set Seed so that same sample can be reproduced in future also\n",
    "# Now Selecting 75% of data as sample from total 'n' rows of the data  \n",
    "sample <- sample.int(n = nrow(data), size = floor(.8*nrow(data)), replace = F)\n",
    "train <- data[sample, ]\n",
    "# train= train$lead_time\n",
    "test  <- data[-sample, ]\n",
    "# test= test\n",
    "\n",
    "# attrs=c(lead_time,arrival_date_week_number ,babies ,required_car_parking_spaces, total_of_special_requests,children)\n",
    "prc_train = subset(train, select=selected_attrs)\n",
    "prc_test = subset(test, select=selected_attrs)\n",
    "dim(prc_train)\n",
    "dim(prc_test)\n",
    "\n",
    "normalize <- function(x) {\n",
    "return ((x - min(x)) / (max(x) - min(x))) }\n",
    "prc_train <- as.data.frame(lapply(prc_train, normalize))\n",
    "prc_test <- as.data.frame(lapply(prc_test, normalize))\n",
    "\n",
    "\n",
    "prc_test_pred <- knn(train = prc_train, test = prc_test,cl = train$is_canceled, k=10)\n"
   ]
  },
  {
   "cell_type": "markdown",
   "id": "4f0c6d9f",
   "metadata": {},
   "source": [
    "# accuracy "
   ]
  },
  {
   "cell_type": "code",
   "execution_count": 22,
   "id": "5ca292d2",
   "metadata": {},
   "outputs": [
    {
     "data": {
      "text/html": [
       "'knn classifier accuracy is 0.757631'"
      ],
      "text/latex": [
       "'knn classifier accuracy is 0.757631'"
      ],
      "text/markdown": [
       "'knn classifier accuracy is 0.757631'"
      ],
      "text/plain": [
       "[1] \"knn classifier accuracy is 0.757631\""
      ]
     },
     "metadata": {},
     "output_type": "display_data"
    }
   ],
   "source": [
    "accuracy =  sum(prc_test_pred==test$is_canceled ) / dim(test)[1]\n",
    "sprintf(\"knn classifier accuracy is %f\", accuracy)"
   ]
  }
 ],
 "metadata": {
  "kernelspec": {
   "display_name": "R",
   "language": "R",
   "name": "ir"
  },
  "language_info": {
   "codemirror_mode": "r",
   "file_extension": ".r",
   "mimetype": "text/x-r-source",
   "name": "R",
   "pygments_lexer": "r",
   "version": "3.6.1"
  }
 },
 "nbformat": 4,
 "nbformat_minor": 5
}
