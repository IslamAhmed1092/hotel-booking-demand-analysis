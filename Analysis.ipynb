{
 "cells": [
  {
   "cell_type": "markdown",
   "id": "c273d974",
   "metadata": {
    "ExecuteTime": {
     "end_time": "2022-04-26T00:12:25.125644Z",
     "start_time": "2022-04-26T00:12:25.097Z"
    }
   },
   "source": [
    "# Setup"
   ]
  },
  {
   "cell_type": "code",
   "execution_count": 1,
   "id": "2a073455",
   "metadata": {
    "ExecuteTime": {
     "end_time": "2022-04-26T00:13:05.203618Z",
     "start_time": "2022-04-26T00:13:05.084Z"
    },
    "vscode": {
     "languageId": "r"
    }
   },
   "outputs": [
    {
     "name": "stderr",
     "output_type": "stream",
     "text": [
      "Warning message:\n",
      "\"package 'party' was built under R version 4.1.3\"\n",
      "Loading required package: grid\n",
      "\n",
      "Loading required package: mvtnorm\n",
      "\n",
      "Loading required package: modeltools\n",
      "\n",
      "Loading required package: stats4\n",
      "\n",
      "Loading required package: strucchange\n",
      "\n",
      "Warning message:\n",
      "\"package 'strucchange' was built under R version 4.1.3\"\n",
      "Loading required package: zoo\n",
      "\n",
      "Warning message:\n",
      "\"package 'zoo' was built under R version 4.1.3\"\n",
      "\n",
      "Attaching package: 'zoo'\n",
      "\n",
      "\n",
      "The following objects are masked from 'package:base':\n",
      "\n",
      "    as.Date, as.Date.numeric\n",
      "\n",
      "\n",
      "Loading required package: sandwich\n",
      "\n",
      "Warning message:\n",
      "\"package 'sandwich' was built under R version 4.1.3\"\n",
      "Warning message:\n",
      "\"package 'tidyverse' was built under R version 4.1.3\"\n",
      "-- \u001b[1mAttaching packages\u001b[22m --------------------------------------- tidyverse 1.3.1 --\n",
      "\n",
      "\u001b[32mv\u001b[39m \u001b[34mggplot2\u001b[39m 3.3.5     \u001b[32mv\u001b[39m \u001b[34mpurrr  \u001b[39m 0.3.4\n",
      "\u001b[32mv\u001b[39m \u001b[34mtibble \u001b[39m 3.1.6     \u001b[32mv\u001b[39m \u001b[34mdplyr  \u001b[39m 1.0.8\n",
      "\u001b[32mv\u001b[39m \u001b[34mtidyr  \u001b[39m 1.2.0     \u001b[32mv\u001b[39m \u001b[34mstringr\u001b[39m 1.4.0\n",
      "\u001b[32mv\u001b[39m \u001b[34mreadr  \u001b[39m 2.1.2     \u001b[32mv\u001b[39m \u001b[34mforcats\u001b[39m 0.5.1\n",
      "\n",
      "Warning message:\n",
      "\"package 'ggplot2' was built under R version 4.1.3\"\n",
      "Warning message:\n",
      "\"package 'tibble' was built under R version 4.1.3\"\n",
      "Warning message:\n",
      "\"package 'tidyr' was built under R version 4.1.3\"\n",
      "Warning message:\n",
      "\"package 'readr' was built under R version 4.1.3\"\n",
      "Warning message:\n",
      "\"package 'purrr' was built under R version 4.1.3\"\n",
      "Warning message:\n",
      "\"package 'dplyr' was built under R version 4.1.3\"\n",
      "Warning message:\n",
      "\"package 'stringr' was built under R version 4.1.3\"\n",
      "Warning message:\n",
      "\"package 'forcats' was built under R version 4.1.3\"\n",
      "-- \u001b[1mConflicts\u001b[22m ------------------------------------------ tidyverse_conflicts() --\n",
      "\u001b[31mx\u001b[39m \u001b[34mstringr\u001b[39m::\u001b[32mboundary()\u001b[39m masks \u001b[34mstrucchange\u001b[39m::boundary()\n",
      "\u001b[31mx\u001b[39m \u001b[34mdplyr\u001b[39m::\u001b[32mfilter()\u001b[39m     masks \u001b[34mstats\u001b[39m::filter()\n",
      "\u001b[31mx\u001b[39m \u001b[34mdplyr\u001b[39m::\u001b[32mlag()\u001b[39m        masks \u001b[34mstats\u001b[39m::lag()\n",
      "\n"
     ]
    }
   ],
   "source": [
    "# required packages here\n",
    "library(party)\n",
    "library(tidyverse)"
   ]
  },
  {
   "cell_type": "code",
   "execution_count": 2,
   "id": "47465425",
   "metadata": {
    "ExecuteTime": {
     "end_time": "2022-04-26T00:13:06.267094Z",
     "start_time": "2022-04-26T00:13:05.088Z"
    },
    "vscode": {
     "languageId": "r"
    }
   },
   "outputs": [
    {
     "data": {
      "text/html": [
       "<style>\n",
       ".list-inline {list-style: none; margin:0; padding: 0}\n",
       ".list-inline>li {display: inline-block}\n",
       ".list-inline>li:not(:last-child)::after {content: \"\\00b7\"; padding: 0 .5ex}\n",
       "</style>\n",
       "<ol class=list-inline><li>119390</li><li>32</li></ol>\n"
      ],
      "text/latex": [
       "\\begin{enumerate*}\n",
       "\\item 119390\n",
       "\\item 32\n",
       "\\end{enumerate*}\n"
      ],
      "text/markdown": [
       "1. 119390\n",
       "2. 32\n",
       "\n",
       "\n"
      ],
      "text/plain": [
       "[1] 119390     32"
      ]
     },
     "metadata": {},
     "output_type": "display_data"
    }
   ],
   "source": [
    "data <- read.csv(\"hotel_bookings.csv\")\n",
    "dim(data)"
   ]
  },
  {
   "cell_type": "code",
   "execution_count": 3,
   "id": "f2262805",
   "metadata": {
    "ExecuteTime": {
     "end_time": "2022-04-26T00:13:06.285728Z",
     "start_time": "2022-04-26T00:13:05.091Z"
    },
    "vscode": {
     "languageId": "r"
    }
   },
   "outputs": [
    {
     "data": {
      "text/html": [
       "<table class=\"dataframe\">\n",
       "<caption>A data.frame: 6 × 32</caption>\n",
       "<thead>\n",
       "\t<tr><th></th><th scope=col>hotel</th><th scope=col>is_canceled</th><th scope=col>lead_time</th><th scope=col>arrival_date_year</th><th scope=col>arrival_date_month</th><th scope=col>arrival_date_week_number</th><th scope=col>arrival_date_day_of_month</th><th scope=col>stays_in_weekend_nights</th><th scope=col>stays_in_week_nights</th><th scope=col>adults</th><th scope=col>...</th><th scope=col>deposit_type</th><th scope=col>agent</th><th scope=col>company</th><th scope=col>days_in_waiting_list</th><th scope=col>customer_type</th><th scope=col>adr</th><th scope=col>required_car_parking_spaces</th><th scope=col>total_of_special_requests</th><th scope=col>reservation_status</th><th scope=col>reservation_status_date</th></tr>\n",
       "\t<tr><th></th><th scope=col>&lt;chr&gt;</th><th scope=col>&lt;int&gt;</th><th scope=col>&lt;int&gt;</th><th scope=col>&lt;int&gt;</th><th scope=col>&lt;chr&gt;</th><th scope=col>&lt;int&gt;</th><th scope=col>&lt;int&gt;</th><th scope=col>&lt;int&gt;</th><th scope=col>&lt;int&gt;</th><th scope=col>&lt;int&gt;</th><th scope=col>...</th><th scope=col>&lt;chr&gt;</th><th scope=col>&lt;chr&gt;</th><th scope=col>&lt;chr&gt;</th><th scope=col>&lt;int&gt;</th><th scope=col>&lt;chr&gt;</th><th scope=col>&lt;dbl&gt;</th><th scope=col>&lt;int&gt;</th><th scope=col>&lt;int&gt;</th><th scope=col>&lt;chr&gt;</th><th scope=col>&lt;chr&gt;</th></tr>\n",
       "</thead>\n",
       "<tbody>\n",
       "\t<tr><th scope=row>1</th><td>Resort Hotel</td><td>0</td><td>342</td><td>2015</td><td>July</td><td>27</td><td>1</td><td>0</td><td>0</td><td>2</td><td>...</td><td>No Deposit</td><td>NULL</td><td>NULL</td><td>0</td><td>Transient</td><td> 0</td><td>0</td><td>0</td><td>Check-Out</td><td>2015-07-01</td></tr>\n",
       "\t<tr><th scope=row>2</th><td>Resort Hotel</td><td>0</td><td>737</td><td>2015</td><td>July</td><td>27</td><td>1</td><td>0</td><td>0</td><td>2</td><td>...</td><td>No Deposit</td><td>NULL</td><td>NULL</td><td>0</td><td>Transient</td><td> 0</td><td>0</td><td>0</td><td>Check-Out</td><td>2015-07-01</td></tr>\n",
       "\t<tr><th scope=row>3</th><td>Resort Hotel</td><td>0</td><td>  7</td><td>2015</td><td>July</td><td>27</td><td>1</td><td>0</td><td>1</td><td>1</td><td>...</td><td>No Deposit</td><td>NULL</td><td>NULL</td><td>0</td><td>Transient</td><td>75</td><td>0</td><td>0</td><td>Check-Out</td><td>2015-07-02</td></tr>\n",
       "\t<tr><th scope=row>4</th><td>Resort Hotel</td><td>0</td><td> 13</td><td>2015</td><td>July</td><td>27</td><td>1</td><td>0</td><td>1</td><td>1</td><td>...</td><td>No Deposit</td><td>304 </td><td>NULL</td><td>0</td><td>Transient</td><td>75</td><td>0</td><td>0</td><td>Check-Out</td><td>2015-07-02</td></tr>\n",
       "\t<tr><th scope=row>5</th><td>Resort Hotel</td><td>0</td><td> 14</td><td>2015</td><td>July</td><td>27</td><td>1</td><td>0</td><td>2</td><td>2</td><td>...</td><td>No Deposit</td><td>240 </td><td>NULL</td><td>0</td><td>Transient</td><td>98</td><td>0</td><td>1</td><td>Check-Out</td><td>2015-07-03</td></tr>\n",
       "\t<tr><th scope=row>6</th><td>Resort Hotel</td><td>0</td><td> 14</td><td>2015</td><td>July</td><td>27</td><td>1</td><td>0</td><td>2</td><td>2</td><td>...</td><td>No Deposit</td><td>240 </td><td>NULL</td><td>0</td><td>Transient</td><td>98</td><td>0</td><td>1</td><td>Check-Out</td><td>2015-07-03</td></tr>\n",
       "</tbody>\n",
       "</table>\n"
      ],
      "text/latex": [
       "A data.frame: 6 × 32\n",
       "\\begin{tabular}{r|lllllllllllllllllllll}\n",
       "  & hotel & is\\_canceled & lead\\_time & arrival\\_date\\_year & arrival\\_date\\_month & arrival\\_date\\_week\\_number & arrival\\_date\\_day\\_of\\_month & stays\\_in\\_weekend\\_nights & stays\\_in\\_week\\_nights & adults & ... & deposit\\_type & agent & company & days\\_in\\_waiting\\_list & customer\\_type & adr & required\\_car\\_parking\\_spaces & total\\_of\\_special\\_requests & reservation\\_status & reservation\\_status\\_date\\\\\n",
       "  & <chr> & <int> & <int> & <int> & <chr> & <int> & <int> & <int> & <int> & <int> & ... & <chr> & <chr> & <chr> & <int> & <chr> & <dbl> & <int> & <int> & <chr> & <chr>\\\\\n",
       "\\hline\n",
       "\t1 & Resort Hotel & 0 & 342 & 2015 & July & 27 & 1 & 0 & 0 & 2 & ... & No Deposit & NULL & NULL & 0 & Transient &  0 & 0 & 0 & Check-Out & 2015-07-01\\\\\n",
       "\t2 & Resort Hotel & 0 & 737 & 2015 & July & 27 & 1 & 0 & 0 & 2 & ... & No Deposit & NULL & NULL & 0 & Transient &  0 & 0 & 0 & Check-Out & 2015-07-01\\\\\n",
       "\t3 & Resort Hotel & 0 &   7 & 2015 & July & 27 & 1 & 0 & 1 & 1 & ... & No Deposit & NULL & NULL & 0 & Transient & 75 & 0 & 0 & Check-Out & 2015-07-02\\\\\n",
       "\t4 & Resort Hotel & 0 &  13 & 2015 & July & 27 & 1 & 0 & 1 & 1 & ... & No Deposit & 304  & NULL & 0 & Transient & 75 & 0 & 0 & Check-Out & 2015-07-02\\\\\n",
       "\t5 & Resort Hotel & 0 &  14 & 2015 & July & 27 & 1 & 0 & 2 & 2 & ... & No Deposit & 240  & NULL & 0 & Transient & 98 & 0 & 1 & Check-Out & 2015-07-03\\\\\n",
       "\t6 & Resort Hotel & 0 &  14 & 2015 & July & 27 & 1 & 0 & 2 & 2 & ... & No Deposit & 240  & NULL & 0 & Transient & 98 & 0 & 1 & Check-Out & 2015-07-03\\\\\n",
       "\\end{tabular}\n"
      ],
      "text/markdown": [
       "\n",
       "A data.frame: 6 × 32\n",
       "\n",
       "| <!--/--> | hotel &lt;chr&gt; | is_canceled &lt;int&gt; | lead_time &lt;int&gt; | arrival_date_year &lt;int&gt; | arrival_date_month &lt;chr&gt; | arrival_date_week_number &lt;int&gt; | arrival_date_day_of_month &lt;int&gt; | stays_in_weekend_nights &lt;int&gt; | stays_in_week_nights &lt;int&gt; | adults &lt;int&gt; | ... ... | deposit_type &lt;chr&gt; | agent &lt;chr&gt; | company &lt;chr&gt; | days_in_waiting_list &lt;int&gt; | customer_type &lt;chr&gt; | adr &lt;dbl&gt; | required_car_parking_spaces &lt;int&gt; | total_of_special_requests &lt;int&gt; | reservation_status &lt;chr&gt; | reservation_status_date &lt;chr&gt; |\n",
       "|---|---|---|---|---|---|---|---|---|---|---|---|---|---|---|---|---|---|---|---|---|---|\n",
       "| 1 | Resort Hotel | 0 | 342 | 2015 | July | 27 | 1 | 0 | 0 | 2 | ... | No Deposit | NULL | NULL | 0 | Transient |  0 | 0 | 0 | Check-Out | 2015-07-01 |\n",
       "| 2 | Resort Hotel | 0 | 737 | 2015 | July | 27 | 1 | 0 | 0 | 2 | ... | No Deposit | NULL | NULL | 0 | Transient |  0 | 0 | 0 | Check-Out | 2015-07-01 |\n",
       "| 3 | Resort Hotel | 0 |   7 | 2015 | July | 27 | 1 | 0 | 1 | 1 | ... | No Deposit | NULL | NULL | 0 | Transient | 75 | 0 | 0 | Check-Out | 2015-07-02 |\n",
       "| 4 | Resort Hotel | 0 |  13 | 2015 | July | 27 | 1 | 0 | 1 | 1 | ... | No Deposit | 304  | NULL | 0 | Transient | 75 | 0 | 0 | Check-Out | 2015-07-02 |\n",
       "| 5 | Resort Hotel | 0 |  14 | 2015 | July | 27 | 1 | 0 | 2 | 2 | ... | No Deposit | 240  | NULL | 0 | Transient | 98 | 0 | 1 | Check-Out | 2015-07-03 |\n",
       "| 6 | Resort Hotel | 0 |  14 | 2015 | July | 27 | 1 | 0 | 2 | 2 | ... | No Deposit | 240  | NULL | 0 | Transient | 98 | 0 | 1 | Check-Out | 2015-07-03 |\n",
       "\n"
      ],
      "text/plain": [
       "  hotel        is_canceled lead_time arrival_date_year arrival_date_month\n",
       "1 Resort Hotel 0           342       2015              July              \n",
       "2 Resort Hotel 0           737       2015              July              \n",
       "3 Resort Hotel 0             7       2015              July              \n",
       "4 Resort Hotel 0            13       2015              July              \n",
       "5 Resort Hotel 0            14       2015              July              \n",
       "6 Resort Hotel 0            14       2015              July              \n",
       "  arrival_date_week_number arrival_date_day_of_month stays_in_weekend_nights\n",
       "1 27                       1                         0                      \n",
       "2 27                       1                         0                      \n",
       "3 27                       1                         0                      \n",
       "4 27                       1                         0                      \n",
       "5 27                       1                         0                      \n",
       "6 27                       1                         0                      \n",
       "  stays_in_week_nights adults ... deposit_type agent company\n",
       "1 0                    2      ... No Deposit   NULL  NULL   \n",
       "2 0                    2      ... No Deposit   NULL  NULL   \n",
       "3 1                    1      ... No Deposit   NULL  NULL   \n",
       "4 1                    1      ... No Deposit   304   NULL   \n",
       "5 2                    2      ... No Deposit   240   NULL   \n",
       "6 2                    2      ... No Deposit   240   NULL   \n",
       "  days_in_waiting_list customer_type adr required_car_parking_spaces\n",
       "1 0                    Transient      0  0                          \n",
       "2 0                    Transient      0  0                          \n",
       "3 0                    Transient     75  0                          \n",
       "4 0                    Transient     75  0                          \n",
       "5 0                    Transient     98  0                          \n",
       "6 0                    Transient     98  0                          \n",
       "  total_of_special_requests reservation_status reservation_status_date\n",
       "1 0                         Check-Out          2015-07-01             \n",
       "2 0                         Check-Out          2015-07-01             \n",
       "3 0                         Check-Out          2015-07-02             \n",
       "4 0                         Check-Out          2015-07-02             \n",
       "5 1                         Check-Out          2015-07-03             \n",
       "6 1                         Check-Out          2015-07-03             "
      ]
     },
     "metadata": {},
     "output_type": "display_data"
    }
   ],
   "source": [
    "head(data)"
   ]
  },
  {
   "cell_type": "code",
   "execution_count": 48,
   "id": "aabe6032",
   "metadata": {
    "ExecuteTime": {
     "end_time": "2022-04-26T00:13:06.315732Z",
     "start_time": "2022-04-26T00:13:05.093Z"
    },
    "vscode": {
     "languageId": "r"
    }
   },
   "outputs": [
    {
     "name": "stdout",
     "output_type": "stream",
     "text": [
      "'data.frame':\t116141 obs. of  30 variables:\n",
      " $ hotel                         : Factor w/ 2 levels \"City Hotel\",\"Resort Hotel\": 2 2 2 2 2 2 2 2 2 2 ...\n",
      " $ is_canceled                   : Factor w/ 2 levels \"0\",\"1\": 1 1 1 1 1 1 2 2 2 1 ...\n",
      " $ lead_time                     : int  7 13 14 14 0 9 85 75 23 35 ...\n",
      " $ arrival_date_year             : int  2015 2015 2015 2015 2015 2015 2015 2015 2015 2015 ...\n",
      " $ arrival_date_month            : Factor w/ 12 levels \"Jan\",\"Feb\",\"Mar\",..: 7 7 7 7 7 7 7 7 7 7 ...\n",
      " $ arrival_date_week_number      : int  27 27 27 27 27 27 27 27 27 27 ...\n",
      " $ arrival_date_day_of_month     : int  1 1 1 1 1 1 1 1 1 1 ...\n",
      " $ stays_in_weekend_nights       : int  0 0 0 0 0 0 0 0 0 0 ...\n",
      " $ stays_in_week_nights          : int  1 1 2 2 2 2 3 3 4 4 ...\n",
      " $ adults                        : int  1 1 2 2 2 2 2 2 2 2 ...\n",
      " $ children                      : num  0 0 0 0 0 0 0 0 0 0 ...\n",
      " $ babies                        : int  0 0 0 0 0 0 0 0 0 0 ...\n",
      " $ meal                          : Factor w/ 5 levels \"BB\",\"FB\",\"HB\",..: 1 1 1 1 1 2 1 3 1 3 ...\n",
      " $ country                       : Factor w/ 178 levels \"ABW\",\"AGO\",\"AIA\",..: 60 60 60 60 136 136 136 136 136 136 ...\n",
      " $ market_segment                : Factor w/ 8 levels \"Aviation\",\"Complementary\",..: 4 3 7 7 4 4 7 6 7 7 ...\n",
      " $ distribution_channel          : Factor w/ 5 levels \"Corporate\",\"Direct\",..: 2 1 4 4 2 2 4 4 4 4 ...\n",
      " $ is_repeated_guest             : int  0 0 0 0 0 0 0 0 0 0 ...\n",
      " $ previous_cancellations        : int  0 0 0 0 0 0 0 0 0 0 ...\n",
      " $ previous_bookings_not_canceled: int  0 0 0 0 0 0 0 0 0 0 ...\n",
      " $ reserved_room_type            : Factor w/ 9 levels \"A\",\"B\",\"C\",\"D\",..: 1 1 1 1 3 3 1 4 5 4 ...\n",
      " $ assigned_room_type            : Factor w/ 11 levels \"A\",\"B\",\"C\",\"D\",..: 3 1 1 1 3 3 1 4 5 4 ...\n",
      " $ booking_changes               : int  0 0 0 0 0 0 0 0 0 0 ...\n",
      " $ deposit_type                  : Factor w/ 3 levels \"No Deposit\",\"Non Refund\",..: 1 1 1 1 1 1 1 1 1 1 ...\n",
      " $ agent                         : Factor w/ 334 levels \"0\",\"1\",\"10\",\"103\",..: 1 158 104 104 1 157 104 41 104 104 ...\n",
      " $ company                       : Factor w/ 353 levels \"0\",\"10\",\"100\",..: 1 1 1 1 1 1 1 1 1 1 ...\n",
      " $ days_in_waiting_list          : int  0 0 0 0 0 0 0 0 0 0 ...\n",
      " $ customer_type                 : Factor w/ 4 levels \"Contract\",\"Group\",..: 3 3 3 3 3 3 3 3 3 3 ...\n",
      " $ adr                           : num  75 75 98 98 107 ...\n",
      " $ required_car_parking_spaces   : int  0 0 0 0 0 0 0 0 0 0 ...\n",
      " $ total_of_special_requests     : int  0 0 1 1 0 1 1 0 0 0 ...\n"
     ]
    }
   ],
   "source": [
    "str(data)"
   ]
  },
  {
   "cell_type": "code",
   "execution_count": 5,
   "id": "dfae005d",
   "metadata": {
    "ExecuteTime": {
     "end_time": "2022-04-26T00:13:06.335615Z",
     "start_time": "2022-04-26T00:13:05.096Z"
    },
    "scrolled": false,
    "vscode": {
     "languageId": "r"
    }
   },
   "outputs": [],
   "source": [
    "purple <- \"#633ebb\"\n",
    "light_purple <- \"#A85CF9\"\n",
    "red <- \"#f13c59\"\n",
    "light_blue <- \"#c6d1ff\"\n",
    "blue <- \"#40DFEF\"\n",
    "\n",
    "beige <- \"#fec57e\"\n",
    "colors <- c(light_purple, light_blue)"
   ]
  },
  {
   "cell_type": "markdown",
   "id": "138e635a",
   "metadata": {},
   "source": [
    "# Data Preprocessing"
   ]
  },
  {
   "cell_type": "markdown",
   "id": "8b5ded9c",
   "metadata": {},
   "source": [
    "### Changing values of Arrival date months to a smaller representation"
   ]
  },
  {
   "cell_type": "code",
   "execution_count": 6,
   "id": "d504e108",
   "metadata": {
    "ExecuteTime": {
     "end_time": "2022-04-26T00:13:06.365468Z",
     "start_time": "2022-04-26T00:13:05.099Z"
    },
    "scrolled": true,
    "vscode": {
     "languageId": "r"
    }
   },
   "outputs": [
    {
     "data": {
      "text/html": [
       "<style>\n",
       ".list-inline {list-style: none; margin:0; padding: 0}\n",
       ".list-inline>li {display: inline-block}\n",
       ".list-inline>li:not(:last-child)::after {content: \"\\00b7\"; padding: 0 .5ex}\n",
       "</style>\n",
       "<ol class=list-inline><li>'Jan'</li><li>'Feb'</li><li>'Mar'</li><li>'Apr'</li><li>'May'</li><li>'Jun'</li><li>'Jul'</li><li>'Aug'</li><li>'Sep'</li><li>'Oct'</li><li>'Nov'</li><li>'Dec'</li></ol>\n"
      ],
      "text/latex": [
       "\\begin{enumerate*}\n",
       "\\item 'Jan'\n",
       "\\item 'Feb'\n",
       "\\item 'Mar'\n",
       "\\item 'Apr'\n",
       "\\item 'May'\n",
       "\\item 'Jun'\n",
       "\\item 'Jul'\n",
       "\\item 'Aug'\n",
       "\\item 'Sep'\n",
       "\\item 'Oct'\n",
       "\\item 'Nov'\n",
       "\\item 'Dec'\n",
       "\\end{enumerate*}\n"
      ],
      "text/markdown": [
       "1. 'Jan'\n",
       "2. 'Feb'\n",
       "3. 'Mar'\n",
       "4. 'Apr'\n",
       "5. 'May'\n",
       "6. 'Jun'\n",
       "7. 'Jul'\n",
       "8. 'Aug'\n",
       "9. 'Sep'\n",
       "10. 'Oct'\n",
       "11. 'Nov'\n",
       "12. 'Dec'\n",
       "\n",
       "\n"
      ],
      "text/plain": [
       " [1] \"Jan\" \"Feb\" \"Mar\" \"Apr\" \"May\" \"Jun\" \"Jul\" \"Aug\" \"Sep\" \"Oct\" \"Nov\" \"Dec\""
      ]
     },
     "metadata": {},
     "output_type": "display_data"
    },
    {
     "data": {
      "text/plain": [
       "\n",
       "  Jan   Feb   Mar   Apr   May   Jun   Jul   Aug   Sep   Oct   Nov   Dec \n",
       " 5929  8068  9794 11089 11791 10939 12661 13877 10508 11160  6794  6780 "
      ]
     },
     "metadata": {},
     "output_type": "display_data"
    }
   ],
   "source": [
    "data$arrival_date_month <- factor(data$arrival_date_month)   \n",
    "levels(data$arrival_date_month) <- list(Jan = \"January\",\n",
    "                                       Feb = \"February\",\n",
    "                                       Mar = \"March\",\n",
    "                                       Apr = \"April\",\n",
    "                                       May = \"May\",\n",
    "                                       Jun = \"June\",\n",
    "                                       Jul = \"July\",\n",
    "                                       Aug = \"August\",\n",
    "                                       Sep = \"September\",\n",
    "                                       Oct = \"October\",\n",
    "                                       Nov = \"November\",\n",
    "                                       Dec = \"December\")\n",
    "\n",
    "levels(data$arrival_date_month)\n",
    "table(data$arrival_date_month)"
   ]
  },
  {
   "cell_type": "markdown",
   "id": "1c0235d4",
   "metadata": {},
   "source": [
    "### Remove reservation status from data"
   ]
  },
  {
   "cell_type": "code",
   "execution_count": 7,
   "id": "73435429",
   "metadata": {
    "vscode": {
     "languageId": "r"
    }
   },
   "outputs": [
    {
     "data": {
      "text/html": [
       "<style>\n",
       ".list-inline {list-style: none; margin:0; padding: 0}\n",
       ".list-inline>li {display: inline-block}\n",
       ".list-inline>li:not(:last-child)::after {content: \"\\00b7\"; padding: 0 .5ex}\n",
       "</style>\n",
       "<ol class=list-inline><li>119390</li><li>30</li></ol>\n"
      ],
      "text/latex": [
       "\\begin{enumerate*}\n",
       "\\item 119390\n",
       "\\item 30\n",
       "\\end{enumerate*}\n"
      ],
      "text/markdown": [
       "1. 119390\n",
       "2. 30\n",
       "\n",
       "\n"
      ],
      "text/plain": [
       "[1] 119390     30"
      ]
     },
     "metadata": {},
     "output_type": "display_data"
    }
   ],
   "source": [
    "data <- within(data, rm(\"reservation_status\", \"reservation_status_date\"))\n",
    "dim(data)"
   ]
  },
  {
   "cell_type": "markdown",
   "id": "eaf36765",
   "metadata": {},
   "source": [
    "### Check for missing and NULL values"
   ]
  },
  {
   "cell_type": "code",
   "execution_count": 8,
   "id": "16a72146",
   "metadata": {
    "ExecuteTime": {
     "end_time": "2022-04-26T00:13:06.766335Z",
     "start_time": "2022-04-26T00:13:05.103Z"
    },
    "vscode": {
     "languageId": "r"
    }
   },
   "outputs": [
    {
     "data": {
      "text/html": [
       "<style>\n",
       ".dl-inline {width: auto; margin:0; padding: 0}\n",
       ".dl-inline>dt, .dl-inline>dd {float: none; width: auto; display: inline-block}\n",
       ".dl-inline>dt::after {content: \":\\0020\"; padding-right: .5ex}\n",
       ".dl-inline>dt:not(:first-of-type) {padding-left: .5ex}\n",
       "</style><dl class=dl-inline><dt>hotel</dt><dd>0</dd><dt>is_canceled</dt><dd>0</dd><dt>lead_time</dt><dd>0</dd><dt>arrival_date_year</dt><dd>0</dd><dt>arrival_date_month</dt><dd>0</dd><dt>arrival_date_week_number</dt><dd>0</dd><dt>arrival_date_day_of_month</dt><dd>0</dd><dt>stays_in_weekend_nights</dt><dd>0</dd><dt>stays_in_week_nights</dt><dd>0</dd><dt>adults</dt><dd>0</dd><dt>children</dt><dd>4</dd><dt>babies</dt><dd>0</dd><dt>meal</dt><dd>0</dd><dt>country</dt><dd>488</dd><dt>market_segment</dt><dd>0</dd><dt>distribution_channel</dt><dd>0</dd><dt>is_repeated_guest</dt><dd>0</dd><dt>previous_cancellations</dt><dd>0</dd><dt>previous_bookings_not_canceled</dt><dd>0</dd><dt>reserved_room_type</dt><dd>0</dd><dt>assigned_room_type</dt><dd>0</dd><dt>booking_changes</dt><dd>0</dd><dt>deposit_type</dt><dd>0</dd><dt>agent</dt><dd>16340</dd><dt>company</dt><dd>112593</dd><dt>days_in_waiting_list</dt><dd>0</dd><dt>customer_type</dt><dd>0</dd><dt>adr</dt><dd>0</dd><dt>required_car_parking_spaces</dt><dd>0</dd><dt>total_of_special_requests</dt><dd>0</dd></dl>\n"
      ],
      "text/latex": [
       "\\begin{description*}\n",
       "\\item[hotel] 0\n",
       "\\item[is\\textbackslash{}\\_canceled] 0\n",
       "\\item[lead\\textbackslash{}\\_time] 0\n",
       "\\item[arrival\\textbackslash{}\\_date\\textbackslash{}\\_year] 0\n",
       "\\item[arrival\\textbackslash{}\\_date\\textbackslash{}\\_month] 0\n",
       "\\item[arrival\\textbackslash{}\\_date\\textbackslash{}\\_week\\textbackslash{}\\_number] 0\n",
       "\\item[arrival\\textbackslash{}\\_date\\textbackslash{}\\_day\\textbackslash{}\\_of\\textbackslash{}\\_month] 0\n",
       "\\item[stays\\textbackslash{}\\_in\\textbackslash{}\\_weekend\\textbackslash{}\\_nights] 0\n",
       "\\item[stays\\textbackslash{}\\_in\\textbackslash{}\\_week\\textbackslash{}\\_nights] 0\n",
       "\\item[adults] 0\n",
       "\\item[children] 4\n",
       "\\item[babies] 0\n",
       "\\item[meal] 0\n",
       "\\item[country] 488\n",
       "\\item[market\\textbackslash{}\\_segment] 0\n",
       "\\item[distribution\\textbackslash{}\\_channel] 0\n",
       "\\item[is\\textbackslash{}\\_repeated\\textbackslash{}\\_guest] 0\n",
       "\\item[previous\\textbackslash{}\\_cancellations] 0\n",
       "\\item[previous\\textbackslash{}\\_bookings\\textbackslash{}\\_not\\textbackslash{}\\_canceled] 0\n",
       "\\item[reserved\\textbackslash{}\\_room\\textbackslash{}\\_type] 0\n",
       "\\item[assigned\\textbackslash{}\\_room\\textbackslash{}\\_type] 0\n",
       "\\item[booking\\textbackslash{}\\_changes] 0\n",
       "\\item[deposit\\textbackslash{}\\_type] 0\n",
       "\\item[agent] 16340\n",
       "\\item[company] 112593\n",
       "\\item[days\\textbackslash{}\\_in\\textbackslash{}\\_waiting\\textbackslash{}\\_list] 0\n",
       "\\item[customer\\textbackslash{}\\_type] 0\n",
       "\\item[adr] 0\n",
       "\\item[required\\textbackslash{}\\_car\\textbackslash{}\\_parking\\textbackslash{}\\_spaces] 0\n",
       "\\item[total\\textbackslash{}\\_of\\textbackslash{}\\_special\\textbackslash{}\\_requests] 0\n",
       "\\end{description*}\n"
      ],
      "text/markdown": [
       "hotel\n",
       ":   0is_canceled\n",
       ":   0lead_time\n",
       ":   0arrival_date_year\n",
       ":   0arrival_date_month\n",
       ":   0arrival_date_week_number\n",
       ":   0arrival_date_day_of_month\n",
       ":   0stays_in_weekend_nights\n",
       ":   0stays_in_week_nights\n",
       ":   0adults\n",
       ":   0children\n",
       ":   4babies\n",
       ":   0meal\n",
       ":   0country\n",
       ":   488market_segment\n",
       ":   0distribution_channel\n",
       ":   0is_repeated_guest\n",
       ":   0previous_cancellations\n",
       ":   0previous_bookings_not_canceled\n",
       ":   0reserved_room_type\n",
       ":   0assigned_room_type\n",
       ":   0booking_changes\n",
       ":   0deposit_type\n",
       ":   0agent\n",
       ":   16340company\n",
       ":   112593days_in_waiting_list\n",
       ":   0customer_type\n",
       ":   0adr\n",
       ":   0required_car_parking_spaces\n",
       ":   0total_of_special_requests\n",
       ":   0\n",
       "\n"
      ],
      "text/plain": [
       "                         hotel                    is_canceled \n",
       "                             0                              0 \n",
       "                     lead_time              arrival_date_year \n",
       "                             0                              0 \n",
       "            arrival_date_month       arrival_date_week_number \n",
       "                             0                              0 \n",
       "     arrival_date_day_of_month        stays_in_weekend_nights \n",
       "                             0                              0 \n",
       "          stays_in_week_nights                         adults \n",
       "                             0                              0 \n",
       "                      children                         babies \n",
       "                             4                              0 \n",
       "                          meal                        country \n",
       "                             0                            488 \n",
       "                market_segment           distribution_channel \n",
       "                             0                              0 \n",
       "             is_repeated_guest         previous_cancellations \n",
       "                             0                              0 \n",
       "previous_bookings_not_canceled             reserved_room_type \n",
       "                             0                              0 \n",
       "            assigned_room_type                booking_changes \n",
       "                             0                              0 \n",
       "                  deposit_type                          agent \n",
       "                             0                          16340 \n",
       "                       company           days_in_waiting_list \n",
       "                        112593                              0 \n",
       "                 customer_type                            adr \n",
       "                             0                              0 \n",
       "   required_car_parking_spaces      total_of_special_requests \n",
       "                             0                              0 "
      ]
     },
     "metadata": {},
     "output_type": "display_data"
    }
   ],
   "source": [
    "colSums(is.na(data) | data == \"NULL\")"
   ]
  },
  {
   "cell_type": "markdown",
   "id": "0544d00b",
   "metadata": {},
   "source": [
    "### Replacing missing and null values for the features:\n",
    "* **children**: we put 0 for the missing values\n",
    "* **country**: we replace \"NULL\" with \"UNKNOWN\"\n",
    "* **agent**: we replace \"NULL\" with \"0\"\n",
    "* **company**: we replace \"NULL\" with \"0\""
   ]
  },
  {
   "cell_type": "code",
   "execution_count": 9,
   "id": "6c1707ea",
   "metadata": {
    "ExecuteTime": {
     "end_time": "2022-04-26T00:13:06.810131Z",
     "start_time": "2022-04-26T00:13:05.105Z"
    },
    "scrolled": false,
    "vscode": {
     "languageId": "r"
    }
   },
   "outputs": [],
   "source": [
    "data$children[is.na(data$children)] = 0\n",
    "\n",
    "levels(data$country) <- c(levels(data$country), \"UNKNOWN\") \n",
    "data$country[data$country == \"NULL\"] <- \"UNKNOWN\"\n",
    "data$country = factor(data$country)\n",
    "\n",
    "levels(data$agent) <- c(levels(data$agent), '0')\n",
    "data$agent[data$agent == \"NULL\"] <- '0'\n",
    "data$agent = factor(data$agent)\n",
    "\n",
    "levels(data$company) <- c(levels(data$company), '0')\n",
    "data$company[data$company == \"NULL\"] <- '0'\n",
    "data$company = factor(data$company)"
   ]
  },
  {
   "cell_type": "markdown",
   "id": "9406056a",
   "metadata": {},
   "source": [
    "### Checking again to make sure that we replaced them"
   ]
  },
  {
   "cell_type": "code",
   "execution_count": 10,
   "id": "1b87b2b5",
   "metadata": {
    "ExecuteTime": {
     "end_time": "2022-04-26T00:13:07.204631Z",
     "start_time": "2022-04-26T00:13:05.109Z"
    },
    "vscode": {
     "languageId": "r"
    }
   },
   "outputs": [
    {
     "data": {
      "text/html": [
       "<style>\n",
       ".dl-inline {width: auto; margin:0; padding: 0}\n",
       ".dl-inline>dt, .dl-inline>dd {float: none; width: auto; display: inline-block}\n",
       ".dl-inline>dt::after {content: \":\\0020\"; padding-right: .5ex}\n",
       ".dl-inline>dt:not(:first-of-type) {padding-left: .5ex}\n",
       "</style><dl class=dl-inline><dt>hotel</dt><dd>0</dd><dt>is_canceled</dt><dd>0</dd><dt>lead_time</dt><dd>0</dd><dt>arrival_date_year</dt><dd>0</dd><dt>arrival_date_month</dt><dd>0</dd><dt>arrival_date_week_number</dt><dd>0</dd><dt>arrival_date_day_of_month</dt><dd>0</dd><dt>stays_in_weekend_nights</dt><dd>0</dd><dt>stays_in_week_nights</dt><dd>0</dd><dt>adults</dt><dd>0</dd><dt>children</dt><dd>0</dd><dt>babies</dt><dd>0</dd><dt>meal</dt><dd>0</dd><dt>country</dt><dd>0</dd><dt>market_segment</dt><dd>0</dd><dt>distribution_channel</dt><dd>0</dd><dt>is_repeated_guest</dt><dd>0</dd><dt>previous_cancellations</dt><dd>0</dd><dt>previous_bookings_not_canceled</dt><dd>0</dd><dt>reserved_room_type</dt><dd>0</dd><dt>assigned_room_type</dt><dd>0</dd><dt>booking_changes</dt><dd>0</dd><dt>deposit_type</dt><dd>0</dd><dt>agent</dt><dd>0</dd><dt>company</dt><dd>0</dd><dt>days_in_waiting_list</dt><dd>0</dd><dt>customer_type</dt><dd>0</dd><dt>adr</dt><dd>0</dd><dt>required_car_parking_spaces</dt><dd>0</dd><dt>total_of_special_requests</dt><dd>0</dd></dl>\n"
      ],
      "text/latex": [
       "\\begin{description*}\n",
       "\\item[hotel] 0\n",
       "\\item[is\\textbackslash{}\\_canceled] 0\n",
       "\\item[lead\\textbackslash{}\\_time] 0\n",
       "\\item[arrival\\textbackslash{}\\_date\\textbackslash{}\\_year] 0\n",
       "\\item[arrival\\textbackslash{}\\_date\\textbackslash{}\\_month] 0\n",
       "\\item[arrival\\textbackslash{}\\_date\\textbackslash{}\\_week\\textbackslash{}\\_number] 0\n",
       "\\item[arrival\\textbackslash{}\\_date\\textbackslash{}\\_day\\textbackslash{}\\_of\\textbackslash{}\\_month] 0\n",
       "\\item[stays\\textbackslash{}\\_in\\textbackslash{}\\_weekend\\textbackslash{}\\_nights] 0\n",
       "\\item[stays\\textbackslash{}\\_in\\textbackslash{}\\_week\\textbackslash{}\\_nights] 0\n",
       "\\item[adults] 0\n",
       "\\item[children] 0\n",
       "\\item[babies] 0\n",
       "\\item[meal] 0\n",
       "\\item[country] 0\n",
       "\\item[market\\textbackslash{}\\_segment] 0\n",
       "\\item[distribution\\textbackslash{}\\_channel] 0\n",
       "\\item[is\\textbackslash{}\\_repeated\\textbackslash{}\\_guest] 0\n",
       "\\item[previous\\textbackslash{}\\_cancellations] 0\n",
       "\\item[previous\\textbackslash{}\\_bookings\\textbackslash{}\\_not\\textbackslash{}\\_canceled] 0\n",
       "\\item[reserved\\textbackslash{}\\_room\\textbackslash{}\\_type] 0\n",
       "\\item[assigned\\textbackslash{}\\_room\\textbackslash{}\\_type] 0\n",
       "\\item[booking\\textbackslash{}\\_changes] 0\n",
       "\\item[deposit\\textbackslash{}\\_type] 0\n",
       "\\item[agent] 0\n",
       "\\item[company] 0\n",
       "\\item[days\\textbackslash{}\\_in\\textbackslash{}\\_waiting\\textbackslash{}\\_list] 0\n",
       "\\item[customer\\textbackslash{}\\_type] 0\n",
       "\\item[adr] 0\n",
       "\\item[required\\textbackslash{}\\_car\\textbackslash{}\\_parking\\textbackslash{}\\_spaces] 0\n",
       "\\item[total\\textbackslash{}\\_of\\textbackslash{}\\_special\\textbackslash{}\\_requests] 0\n",
       "\\end{description*}\n"
      ],
      "text/markdown": [
       "hotel\n",
       ":   0is_canceled\n",
       ":   0lead_time\n",
       ":   0arrival_date_year\n",
       ":   0arrival_date_month\n",
       ":   0arrival_date_week_number\n",
       ":   0arrival_date_day_of_month\n",
       ":   0stays_in_weekend_nights\n",
       ":   0stays_in_week_nights\n",
       ":   0adults\n",
       ":   0children\n",
       ":   0babies\n",
       ":   0meal\n",
       ":   0country\n",
       ":   0market_segment\n",
       ":   0distribution_channel\n",
       ":   0is_repeated_guest\n",
       ":   0previous_cancellations\n",
       ":   0previous_bookings_not_canceled\n",
       ":   0reserved_room_type\n",
       ":   0assigned_room_type\n",
       ":   0booking_changes\n",
       ":   0deposit_type\n",
       ":   0agent\n",
       ":   0company\n",
       ":   0days_in_waiting_list\n",
       ":   0customer_type\n",
       ":   0adr\n",
       ":   0required_car_parking_spaces\n",
       ":   0total_of_special_requests\n",
       ":   0\n",
       "\n"
      ],
      "text/plain": [
       "                         hotel                    is_canceled \n",
       "                             0                              0 \n",
       "                     lead_time              arrival_date_year \n",
       "                             0                              0 \n",
       "            arrival_date_month       arrival_date_week_number \n",
       "                             0                              0 \n",
       "     arrival_date_day_of_month        stays_in_weekend_nights \n",
       "                             0                              0 \n",
       "          stays_in_week_nights                         adults \n",
       "                             0                              0 \n",
       "                      children                         babies \n",
       "                             0                              0 \n",
       "                          meal                        country \n",
       "                             0                              0 \n",
       "                market_segment           distribution_channel \n",
       "                             0                              0 \n",
       "             is_repeated_guest         previous_cancellations \n",
       "                             0                              0 \n",
       "previous_bookings_not_canceled             reserved_room_type \n",
       "                             0                              0 \n",
       "            assigned_room_type                booking_changes \n",
       "                             0                              0 \n",
       "                  deposit_type                          agent \n",
       "                             0                              0 \n",
       "                       company           days_in_waiting_list \n",
       "                             0                              0 \n",
       "                 customer_type                            adr \n",
       "                             0                              0 \n",
       "   required_car_parking_spaces      total_of_special_requests \n",
       "                             0                              0 "
      ]
     },
     "metadata": {},
     "output_type": "display_data"
    }
   ],
   "source": [
    "colSums(is.na(data) | data == \"NULL\")"
   ]
  },
  {
   "cell_type": "markdown",
   "id": "19b59feb",
   "metadata": {},
   "source": [
    "### Removing the outliers in lead time\n",
    "We assume that the guest is allowed to reserve a room up to 400 days in advance.  \n",
    "So, we remove the guests with more than 400 lead time which represent about 1.77%."
   ]
  },
  {
   "cell_type": "code",
   "execution_count": 11,
   "id": "1d0579f8",
   "metadata": {
    "ExecuteTime": {
     "end_time": "2022-04-26T00:13:07.289899Z",
     "start_time": "2022-04-26T00:13:05.112Z"
    },
    "vscode": {
     "languageId": "r"
    }
   },
   "outputs": [
    {
     "data": {
      "text/html": [
       "'Percentage data that has lead time greater than 400 days is 1.77%'"
      ],
      "text/latex": [
       "'Percentage data that has lead time greater than 400 days is 1.77\\%'"
      ],
      "text/markdown": [
       "'Percentage data that has lead time greater than 400 days is 1.77%'"
      ],
      "text/plain": [
       "[1] \"Percentage data that has lead time greater than 400 days is 1.77%\""
      ]
     },
     "metadata": {},
     "output_type": "display_data"
    }
   ],
   "source": [
    "threshold = 400\n",
    "outliers = data[data$lead_time > threshold, ]\n",
    "\n",
    "percentage = nrow(outliers)/nrow(data) * 100\n",
    "sprintf(\"Percentage data that has lead time greater than %d days is %.2f%%\", threshold, percentage)\n",
    "\n",
    "data = data[data$lead_time <= threshold, ]"
   ]
  },
  {
   "cell_type": "markdown",
   "id": "1261be3d",
   "metadata": {},
   "source": [
    "### Dropping entries with 0 total nights"
   ]
  },
  {
   "cell_type": "code",
   "execution_count": 12,
   "id": "731d0fa2",
   "metadata": {
    "ExecuteTime": {
     "end_time": "2022-04-26T00:13:07.353825Z",
     "start_time": "2022-04-26T00:13:05.114Z"
    },
    "vscode": {
     "languageId": "r"
    }
   },
   "outputs": [],
   "source": [
    "data = data[data$stays_in_weekend_nights + data$stays_in_week_nights > 0,]"
   ]
  },
  {
   "cell_type": "markdown",
   "id": "917438bb",
   "metadata": {},
   "source": [
    "### Dropping entries with 0 guests"
   ]
  },
  {
   "cell_type": "code",
   "execution_count": 13,
   "id": "a3b35122",
   "metadata": {
    "ExecuteTime": {
     "end_time": "2022-04-26T00:13:07.416871Z",
     "start_time": "2022-04-26T00:13:05.117Z"
    },
    "vscode": {
     "languageId": "r"
    }
   },
   "outputs": [],
   "source": [
    "data = data[data$adults + data$children + data$babies > 0,]"
   ]
  },
  {
   "cell_type": "markdown",
   "id": "21ace796",
   "metadata": {},
   "source": [
    "### Dropping entries of repeat guests with no previous data\n",
    "repeat guests should have at least one previous booking"
   ]
  },
  {
   "cell_type": "code",
   "execution_count": 14,
   "id": "11b801c1",
   "metadata": {
    "ExecuteTime": {
     "end_time": "2022-04-26T00:13:07.480737Z",
     "start_time": "2022-04-26T00:13:05.120Z"
    },
    "vscode": {
     "languageId": "r"
    }
   },
   "outputs": [],
   "source": [
    "filtered = !(data$is_repeated_guest==1 & (data$previous_cancellations + data$previous_bookings_not_canceled == 0))\n",
    "data = data[filtered,]"
   ]
  },
  {
   "cell_type": "markdown",
   "id": "9ea31635",
   "metadata": {},
   "source": [
    "### Convert character to factor"
   ]
  },
  {
   "cell_type": "code",
   "execution_count": 43,
   "id": "135c9280",
   "metadata": {
    "vscode": {
     "languageId": "r"
    }
   },
   "outputs": [
    {
     "data": {
      "text/html": [
       "<style>\n",
       ".list-inline {list-style: none; margin:0; padding: 0}\n",
       ".list-inline>li {display: inline-block}\n",
       ".list-inline>li:not(:last-child)::after {content: \"\\00b7\"; padding: 0 .5ex}\n",
       "</style>\n",
       "<ol class=list-inline><li>'lead_time'</li><li>'arrival_date_year'</li><li>'arrival_date_week_number'</li><li>'arrival_date_day_of_month'</li><li>'stays_in_weekend_nights'</li><li>'stays_in_week_nights'</li><li>'adults'</li><li>'children'</li><li>'babies'</li><li>'is_repeated_guest'</li><li>'previous_cancellations'</li><li>'previous_bookings_not_canceled'</li><li>'booking_changes'</li><li>'days_in_waiting_list'</li><li>'adr'</li><li>'required_car_parking_spaces'</li><li>'total_of_special_requests'</li></ol>\n"
      ],
      "text/latex": [
       "\\begin{enumerate*}\n",
       "\\item 'lead\\_time'\n",
       "\\item 'arrival\\_date\\_year'\n",
       "\\item 'arrival\\_date\\_week\\_number'\n",
       "\\item 'arrival\\_date\\_day\\_of\\_month'\n",
       "\\item 'stays\\_in\\_weekend\\_nights'\n",
       "\\item 'stays\\_in\\_week\\_nights'\n",
       "\\item 'adults'\n",
       "\\item 'children'\n",
       "\\item 'babies'\n",
       "\\item 'is\\_repeated\\_guest'\n",
       "\\item 'previous\\_cancellations'\n",
       "\\item 'previous\\_bookings\\_not\\_canceled'\n",
       "\\item 'booking\\_changes'\n",
       "\\item 'days\\_in\\_waiting\\_list'\n",
       "\\item 'adr'\n",
       "\\item 'required\\_car\\_parking\\_spaces'\n",
       "\\item 'total\\_of\\_special\\_requests'\n",
       "\\end{enumerate*}\n"
      ],
      "text/markdown": [
       "1. 'lead_time'\n",
       "2. 'arrival_date_year'\n",
       "3. 'arrival_date_week_number'\n",
       "4. 'arrival_date_day_of_month'\n",
       "5. 'stays_in_weekend_nights'\n",
       "6. 'stays_in_week_nights'\n",
       "7. 'adults'\n",
       "8. 'children'\n",
       "9. 'babies'\n",
       "10. 'is_repeated_guest'\n",
       "11. 'previous_cancellations'\n",
       "12. 'previous_bookings_not_canceled'\n",
       "13. 'booking_changes'\n",
       "14. 'days_in_waiting_list'\n",
       "15. 'adr'\n",
       "16. 'required_car_parking_spaces'\n",
       "17. 'total_of_special_requests'\n",
       "\n",
       "\n"
      ],
      "text/plain": [
       " [1] \"lead_time\"                      \"arrival_date_year\"             \n",
       " [3] \"arrival_date_week_number\"       \"arrival_date_day_of_month\"     \n",
       " [5] \"stays_in_weekend_nights\"        \"stays_in_week_nights\"          \n",
       " [7] \"adults\"                         \"children\"                      \n",
       " [9] \"babies\"                         \"is_repeated_guest\"             \n",
       "[11] \"previous_cancellations\"         \"previous_bookings_not_canceled\"\n",
       "[13] \"booking_changes\"                \"days_in_waiting_list\"          \n",
       "[15] \"adr\"                            \"required_car_parking_spaces\"   \n",
       "[17] \"total_of_special_requests\"     "
      ]
     },
     "metadata": {},
     "output_type": "display_data"
    },
    {
     "data": {
      "text/html": [],
      "text/latex": [],
      "text/markdown": [],
      "text/plain": [
       "character(0)"
      ]
     },
     "metadata": {},
     "output_type": "display_data"
    },
    {
     "data": {
      "text/html": [
       "<style>\n",
       ".list-inline {list-style: none; margin:0; padding: 0}\n",
       ".list-inline>li {display: inline-block}\n",
       ".list-inline>li:not(:last-child)::after {content: \"\\00b7\"; padding: 0 .5ex}\n",
       "</style>\n",
       "<ol class=list-inline><li>'lead_time'</li><li>'arrival_date_year'</li><li>'arrival_date_week_number'</li><li>'arrival_date_day_of_month'</li><li>'stays_in_weekend_nights'</li><li>'stays_in_week_nights'</li><li>'adults'</li><li>'children'</li><li>'babies'</li><li>'is_repeated_guest'</li><li>'previous_cancellations'</li><li>'previous_bookings_not_canceled'</li><li>'booking_changes'</li><li>'days_in_waiting_list'</li><li>'adr'</li><li>'required_car_parking_spaces'</li><li>'total_of_special_requests'</li></ol>\n"
      ],
      "text/latex": [
       "\\begin{enumerate*}\n",
       "\\item 'lead\\_time'\n",
       "\\item 'arrival\\_date\\_year'\n",
       "\\item 'arrival\\_date\\_week\\_number'\n",
       "\\item 'arrival\\_date\\_day\\_of\\_month'\n",
       "\\item 'stays\\_in\\_weekend\\_nights'\n",
       "\\item 'stays\\_in\\_week\\_nights'\n",
       "\\item 'adults'\n",
       "\\item 'children'\n",
       "\\item 'babies'\n",
       "\\item 'is\\_repeated\\_guest'\n",
       "\\item 'previous\\_cancellations'\n",
       "\\item 'previous\\_bookings\\_not\\_canceled'\n",
       "\\item 'booking\\_changes'\n",
       "\\item 'days\\_in\\_waiting\\_list'\n",
       "\\item 'adr'\n",
       "\\item 'required\\_car\\_parking\\_spaces'\n",
       "\\item 'total\\_of\\_special\\_requests'\n",
       "\\end{enumerate*}\n"
      ],
      "text/markdown": [
       "1. 'lead_time'\n",
       "2. 'arrival_date_year'\n",
       "3. 'arrival_date_week_number'\n",
       "4. 'arrival_date_day_of_month'\n",
       "5. 'stays_in_weekend_nights'\n",
       "6. 'stays_in_week_nights'\n",
       "7. 'adults'\n",
       "8. 'children'\n",
       "9. 'babies'\n",
       "10. 'is_repeated_guest'\n",
       "11. 'previous_cancellations'\n",
       "12. 'previous_bookings_not_canceled'\n",
       "13. 'booking_changes'\n",
       "14. 'days_in_waiting_list'\n",
       "15. 'adr'\n",
       "16. 'required_car_parking_spaces'\n",
       "17. 'total_of_special_requests'\n",
       "\n",
       "\n"
      ],
      "text/plain": [
       " [1] \"lead_time\"                      \"arrival_date_year\"             \n",
       " [3] \"arrival_date_week_number\"       \"arrival_date_day_of_month\"     \n",
       " [5] \"stays_in_weekend_nights\"        \"stays_in_week_nights\"          \n",
       " [7] \"adults\"                         \"children\"                      \n",
       " [9] \"babies\"                         \"is_repeated_guest\"             \n",
       "[11] \"previous_cancellations\"         \"previous_bookings_not_canceled\"\n",
       "[13] \"booking_changes\"                \"days_in_waiting_list\"          \n",
       "[15] \"adr\"                            \"required_car_parking_spaces\"   \n",
       "[17] \"total_of_special_requests\"     "
      ]
     },
     "metadata": {},
     "output_type": "display_data"
    }
   ],
   "source": [
    "char_colnames <- colnames(data %>% select_if(is.character))\n",
    "int_colnames <- colnames(data %>% select_if(is.numeric))\n",
    "int_colnames\n",
    "char_colnames\n",
    "\n",
    "data[char_colnames] <- lapply(data[char_colnames], factor)\n",
    "data[,\"is_canceled\"] <- as.factor(data[,\"is_canceled\"])\n"
   ]
  },
  {
   "cell_type": "markdown",
   "id": "01456728",
   "metadata": {},
   "source": [
    "**checking dimensions of the remaining data**"
   ]
  },
  {
   "cell_type": "code",
   "execution_count": 44,
   "id": "0c728c5c",
   "metadata": {
    "ExecuteTime": {
     "end_time": "2022-04-26T00:13:07.493766Z",
     "start_time": "2022-04-26T00:13:05.123Z"
    },
    "vscode": {
     "languageId": "r"
    }
   },
   "outputs": [
    {
     "data": {
      "text/html": [
       "<style>\n",
       ".list-inline {list-style: none; margin:0; padding: 0}\n",
       ".list-inline>li {display: inline-block}\n",
       ".list-inline>li:not(:last-child)::after {content: \"\\00b7\"; padding: 0 .5ex}\n",
       "</style>\n",
       "<ol class=list-inline><li>116141</li><li>30</li></ol>\n"
      ],
      "text/latex": [
       "\\begin{enumerate*}\n",
       "\\item 116141\n",
       "\\item 30\n",
       "\\end{enumerate*}\n"
      ],
      "text/markdown": [
       "1. 116141\n",
       "2. 30\n",
       "\n",
       "\n"
      ],
      "text/plain": [
       "[1] 116141     30"
      ]
     },
     "metadata": {},
     "output_type": "display_data"
    }
   ],
   "source": [
    "dim(data)"
   ]
  },
  {
   "cell_type": "markdown",
   "id": "075f20d3",
   "metadata": {},
   "source": [
    "# Classifiers "
   ]
  },
  {
   "cell_type": "markdown",
   "id": "088ea6f7",
   "metadata": {},
   "source": [
    "### Data splitting"
   ]
  },
  {
   "cell_type": "code",
   "execution_count": 45,
   "id": "d1368662",
   "metadata": {
    "vscode": {
     "languageId": "r"
    }
   },
   "outputs": [
    {
     "data": {
      "text/html": [
       "<style>\n",
       ".list-inline {list-style: none; margin:0; padding: 0}\n",
       ".list-inline>li {display: inline-block}\n",
       ".list-inline>li:not(:last-child)::after {content: \"\\00b7\"; padding: 0 .5ex}\n",
       "</style>\n",
       "<ol class=list-inline><li>92912</li><li>30</li></ol>\n"
      ],
      "text/latex": [
       "\\begin{enumerate*}\n",
       "\\item 92912\n",
       "\\item 30\n",
       "\\end{enumerate*}\n"
      ],
      "text/markdown": [
       "1. 92912\n",
       "2. 30\n",
       "\n",
       "\n"
      ],
      "text/plain": [
       "[1] 92912    30"
      ]
     },
     "metadata": {},
     "output_type": "display_data"
    },
    {
     "data": {
      "text/html": [
       "<style>\n",
       ".list-inline {list-style: none; margin:0; padding: 0}\n",
       ".list-inline>li {display: inline-block}\n",
       ".list-inline>li:not(:last-child)::after {content: \"\\00b7\"; padding: 0 .5ex}\n",
       "</style>\n",
       "<ol class=list-inline><li>23229</li><li>30</li></ol>\n"
      ],
      "text/latex": [
       "\\begin{enumerate*}\n",
       "\\item 23229\n",
       "\\item 30\n",
       "\\end{enumerate*}\n"
      ],
      "text/markdown": [
       "1. 23229\n",
       "2. 30\n",
       "\n",
       "\n"
      ],
      "text/plain": [
       "[1] 23229    30"
      ]
     },
     "metadata": {},
     "output_type": "display_data"
    }
   ],
   "source": [
    "set.seed(101) # Set Seed so that same sample can be reproduced in future also\n",
    "# Now Selecting 75% of data as sample from total 'n' rows of the data  \n",
    "sample <- sample.int(n = nrow(data), size = floor(.8*nrow(data)), replace = F)\n",
    "train <- data[sample, ]\n",
    "test  <- data[-sample, ]\n",
    "dim(train)\n",
    "dim(test)\n"
   ]
  },
  {
   "cell_type": "code",
   "execution_count": 46,
   "id": "6b0f3b12",
   "metadata": {
    "vscode": {
     "languageId": "r"
    }
   },
   "outputs": [],
   "source": [
    "tree <- ctree(\n",
    "  is_canceled ~ . , train)\n"
   ]
  },
  {
   "cell_type": "code",
   "execution_count": 49,
   "id": "33368128",
   "metadata": {
    "vscode": {
     "languageId": "r"
    }
   },
   "outputs": [
    {
     "data": {
      "text/plain": [
       "     \n",
       "tpred     0     1\n",
       "    0 53242  6511\n",
       "    1  5646 27513"
      ]
     },
     "metadata": {},
     "output_type": "display_data"
    }
   ],
   "source": [
    "tpred <- predict(tree, train, type= \"response\")\n",
    "table(tpred, train$is_canceled)"
   ]
  },
  {
   "cell_type": "code",
   "execution_count": 52,
   "id": "eea2001e",
   "metadata": {
    "vscode": {
     "languageId": "r"
    }
   },
   "outputs": [
    {
     "data": {
      "text/html": [
       "86.0088682250635"
      ],
      "text/latex": [
       "86.0088682250635"
      ],
      "text/markdown": [
       "86.0088682250635"
      ],
      "text/plain": [
       "[1] 86.00887"
      ]
     },
     "metadata": {},
     "output_type": "display_data"
    }
   ],
   "source": [
    "tpred <- predict(tree, test, type=\"response\")\n",
    "mean(tpred == test$is_canceled)*100"
   ]
  },
  {
   "cell_type": "markdown",
   "id": "795fe0a0",
   "metadata": {},
   "source": [
    "# Data Visualization"
   ]
  },
  {
   "cell_type": "markdown",
   "id": "717b6001",
   "metadata": {},
   "source": [
    "### Which hotel has more bookings?"
   ]
  },
  {
   "cell_type": "code",
   "execution_count": 19,
   "id": "40f025e9",
   "metadata": {
    "ExecuteTime": {
     "end_time": "2022-04-26T00:13:07.587921Z",
     "start_time": "2022-04-26T00:13:05.127Z"
    },
    "vscode": {
     "languageId": "r"
    }
   },
   "outputs": [
    {
     "data": {
      "image/png": "[encoded data removed]",
      "text/plain": [
       "Plot with title \"Hotel Types Rate\""
      ]
     },
     "metadata": {
      "image/png": {
       "height": 420,
       "width": 420
      }
     },
     "output_type": "display_data"
    }
   ],
   "source": [
    "hotel <- table(data$hotel)\n",
    "hotel_types <- c(\"City Hotel\", \"Resort Hotel\")\n",
    "\n",
    "pie_percent<- paste(hotel_types, round(100*hotel/sum(hotel), 1), sep=\"\\n\") \n",
    "pie_percent<- paste(pie_percent, \"%\", sep=\"\") \n",
    "pie(hotel, main = \"Hotel Types Rate\", labels=pie_percent, col = colors)"
   ]
  },
  {
   "cell_type": "markdown",
   "id": "7e7d8a33",
   "metadata": {},
   "source": [
    "The figure shows that City hotel has much more bookings in the period\n",
    "between the 1st of July of 2015 and the 31st of August 2017"
   ]
  },
  {
   "cell_type": "markdown",
   "id": "f91ca04a",
   "metadata": {},
   "source": [
    "### How likely are guests to cancel their booking in both hotels?"
   ]
  },
  {
   "cell_type": "code",
   "execution_count": 20,
   "id": "6fc15a24",
   "metadata": {
    "ExecuteTime": {
     "end_time": "2022-04-26T00:13:07.668272Z",
     "start_time": "2022-04-26T00:13:05.131Z"
    },
    "vscode": {
     "languageId": "r"
    }
   },
   "outputs": [
    {
     "data": {
      "image/png": "[encoded data removed]",
      "text/plain": [
       "Plot with title \"Cancellation Rate\""
      ]
     },
     "metadata": {
      "image/png": {
       "height": 420,
       "width": 420
      }
     },
     "output_type": "display_data"
    }
   ],
   "source": [
    "cancel <- table(data$is_canceled)\n",
    "cancel_label <- c(\"Not Cancelled\", \"Cancelled\")\n",
    "\n",
    "pie_percent<- paste(cancel_label, round(100*cancel/sum(cancel), 1), sep=\"\\n\") \n",
    "pie_percent<- paste(pie_percent, \"%\", sep=\"\") \n",
    "pie(hotel, main = \"Cancellation Rate\", labels=pie_percent, col = colors)"
   ]
  },
  {
   "cell_type": "markdown",
   "id": "425a6871",
   "metadata": {
    "ExecuteTime": {
     "end_time": "2022-04-25T21:43:31.963225Z",
     "start_time": "2022-04-25T21:43:31.952Z"
    }
   },
   "source": [
    "More than one third of the bookings are being cancelled"
   ]
  },
  {
   "cell_type": "code",
   "execution_count": 21,
   "id": "b5fd247b",
   "metadata": {
    "ExecuteTime": {
     "end_time": "2022-04-26T00:13:07.730533Z",
     "start_time": "2022-04-26T00:13:05.134Z"
    },
    "vscode": {
     "languageId": "r"
    }
   },
   "outputs": [
    {
     "data": {
      "image/png": "[encoded data removed]",
      "text/plain": [
       "Plot with title \"Cancellation percentage for City and Resort Hotels\""
      ]
     },
     "metadata": {
      "image/png": {
       "height": 420,
       "width": 420
      }
     },
     "output_type": "display_data"
    }
   ],
   "source": [
    "labels <- c(\"not cancelled\", \"cancelled\")\n",
    "\n",
    "hotel_cancel <- t(prop.table(table(data$hotel, data$is_canceled), margin = 1)*100)\n",
    "\n",
    "barplot(hotel_cancel, main = \"Cancellation percentage for City and Resort Hotels\", \n",
    "        , ylim= c(0,100), ylab = \"cancellation percentage\", legend.text = labels, col = colors)"
   ]
  },
  {
   "cell_type": "markdown",
   "id": "494075ff",
   "metadata": {},
   "source": [
    "Most of the Cancellations happen in City hotel which has about 42% cancellations of all its bookings"
   ]
  },
  {
   "cell_type": "markdown",
   "id": "35a141c3",
   "metadata": {},
   "source": [
    "### Which month has the highest booking rate for each hotel? "
   ]
  },
  {
   "cell_type": "code",
   "execution_count": 22,
   "id": "ad854c37",
   "metadata": {
    "ExecuteTime": {
     "end_time": "2022-04-26T00:13:07.889099Z",
     "start_time": "2022-04-26T00:13:05.137Z"
    },
    "vscode": {
     "languageId": "r"
    }
   },
   "outputs": [
    {
     "data": {
      "text/plain": [
       "\n",
       "  Jan   Feb   Mar   Apr   May   Jun   Jul   Aug   Sep   Oct   Nov   Dec \n",
       " 5758  7886  9607 11008 11418 10771 12158 13503 10132 10794  6594  6512 "
      ]
     },
     "metadata": {},
     "output_type": "display_data"
    },
    {
     "data": {
      "text/plain": [
       "\n",
       " Jan  Feb  Mar  Apr  May  Jun  Jul  Aug  Sep  Oct  Nov  Dec \n",
       "3635 4847 6320 7435 8008 7764 7641 8669 7066 7304 4198 3933 "
      ]
     },
     "metadata": {},
     "output_type": "display_data"
    },
    {
     "data": {
      "image/png": "[encoded data removed]",
      "text/plain": [
       "Plot with title \"Bookings count for each month\""
      ]
     },
     "metadata": {
      "image/png": {
       "height": 420,
       "width": 420
      }
     },
     "output_type": "display_data"
    }
   ],
   "source": [
    "hotel_month <- table(data$hotel, data$arrival_date_month)\n",
    "table(data$arrival_date_month)\n",
    "city_month = table(data[data$hotel=='City Hotel',]$arrival_date_month)\n",
    "resort_month = table(data[data$hotel=='Resort Hotel',]$arrival_date_month)\n",
    "city_month\n",
    "plot(city_month, xlab = \"Month\", ylab = \"count\", main = \"Bookings count for each month\", type=\"l\", col = \"#8300fd\")\n",
    "lines(resort_month, col = red, type=\"l\")\n",
    "legend(\"topleft\", legend=c(\"City\", \"Resort\"),\n",
    "       col=colors, lty=c(1,1))"
   ]
  },
  {
   "cell_type": "markdown",
   "id": "2f8762e4",
   "metadata": {},
   "source": [
    "As the figure shows, the two hotels reach their highest booking rate in the summer especially in August  \n",
    "and their lowest booking rate comes between December and January.  \n",
    "The changes in the two graph show that they almost have the same ups and downs but city hotel has higher rate all the time.\n"
   ]
  },
  {
   "cell_type": "markdown",
   "id": "fcbdf3e6",
   "metadata": {},
   "source": [
    "### How does meal choice affect the guest probability of cancellation?\n",
    "It might be strange but this experiment shows that the people who order the full board meal  \n",
    "are more likely to cancel their booking and the people who don't order any meal are more  \n",
    "likely not to cancel"
   ]
  },
  {
   "cell_type": "code",
   "execution_count": 23,
   "id": "8dd148ee",
   "metadata": {
    "ExecuteTime": {
     "end_time": "2022-04-26T00:13:07.975973Z",
     "start_time": "2022-04-26T00:13:05.141Z"
    },
    "scrolled": false,
    "vscode": {
     "languageId": "r"
    }
   },
   "outputs": [
    {
     "data": {
      "image/png": "[encoded data removed]",
      "text/plain": [
       "Plot with title \"Meal choice effect on Cancellation\""
      ]
     },
     "metadata": {
      "image/png": {
       "height": 420,
       "width": 420
      }
     },
     "output_type": "display_data"
    }
   ],
   "source": [
    "labels <- c(\"not cancelled\", \"cancelled\")\n",
    "\n",
    "mean_cancel <- t(prop.table(table(data$meal, data$is_canceled), margin = 1) * 100)\n",
    "\n",
    "barplot(mean_cancel, beside = T, main = \"Meal choice effect on Cancellation\", \n",
    "        ylab = \"cancellation percentage\", ylim = c(0,100), legend.text = labels, col=colors)\n",
    "# barplot(mean_cancel[, -c(2, 5)], legend.text = labels, col=colors)\n",
    "# barplot(mean_cancel[, c(2, 5)], legend.text = labels, col=colors)"
   ]
  },
  {
   "cell_type": "markdown",
   "id": "ac655c17",
   "metadata": {},
   "source": [
    "### How many repeat guests does each hotel have?"
   ]
  },
  {
   "cell_type": "code",
   "execution_count": 24,
   "id": "656a0957",
   "metadata": {
    "ExecuteTime": {
     "end_time": "2022-04-26T00:13:08.189329Z",
     "start_time": "2022-04-26T00:13:05.144Z"
    },
    "vscode": {
     "languageId": "r"
    }
   },
   "outputs": [
    {
     "data": {
      "image/png": "[encoded data removed]",
      "text/plain": [
       "Plot with title \"City Hotel\""
      ]
     },
     "metadata": {
      "image/png": {
       "height": 420,
       "width": 420
      }
     },
     "output_type": "display_data"
    },
    {
     "data": {
      "image/png": "[encoded data removed]",
      "text/plain": [
       "Plot with title \"Resort Hotel\""
      ]
     },
     "metadata": {
      "image/png": {
       "height": 420,
       "width": 420
      }
     },
     "output_type": "display_data"
    }
   ],
   "source": [
    "hotel_repeted <- table(data$is_repeated_guest, data$hotel)\n",
    "\n",
    "repeat_city <- table(data[data$hotel == \"City Hotel\",]$is_repeated_guest)\n",
    "repeat_resort <- table(data[data$hotel == \"Resort Hotel\",]$is_repeated_guest)\n",
    "\n",
    "repeat_labels <- c(\"New Guest\",\"Repeat Guest\")\n",
    "\n",
    "pie_percent<- paste(repeat_labels, round(100*repeat_city/sum(repeat_city), 1), sep=\"\\n\") \n",
    "pie_percent<- paste(pie_percent, \"%\", sep=\"\") \n",
    "pie(repeat_city, labels=pie_percent, main = \"City Hotel\", col = colors)\n",
    "\n",
    "pie_percent<- paste(repeat_labels, round(100*repeat_resort/sum(repeat_resort), 1), sep=\"\\n\") \n",
    "pie_percent<- paste(pie_percent, \"%\", sep=\"\") \n",
    "pie(repeat_resort, labels=pie_percent, main = \"Resort Hotel\", col = colors)"
   ]
  },
  {
   "cell_type": "markdown",
   "id": "9c2e3444",
   "metadata": {},
   "source": [
    " It's clear that most of the guests of the two hotels don't book in them again and  \n",
    " only less than 4% return back to the hotels.  \n",
    " So, the hotels should seach for the reasons behind that."
   ]
  },
  {
   "cell_type": "markdown",
   "id": "914ce5b8",
   "metadata": {},
   "source": [
    "### How many times do the repeat guests come back to each hotel?"
   ]
  },
  {
   "cell_type": "code",
   "execution_count": 25,
   "id": "1d925af9",
   "metadata": {
    "ExecuteTime": {
     "end_time": "2022-04-26T00:13:08.281806Z",
     "start_time": "2022-04-26T00:13:05.147Z"
    },
    "vscode": {
     "languageId": "r"
    }
   },
   "outputs": [
    {
     "data": {
      "image/png": "[encoded data removed]",
      "text/plain": [
       "plot without title"
      ]
     },
     "metadata": {
      "image/png": {
       "height": 420,
       "width": 420
      }
     },
     "output_type": "display_data"
    }
   ],
   "source": [
    "barplot(table(data$previous_bookings_not_canceled)[-1], col = c(purple))"
   ]
  },
  {
   "cell_type": "markdown",
   "id": "835d67c9",
   "metadata": {},
   "source": [
    "Most of the repeat guests have only one previous visit and  \n",
    "the number decreases with increasing the number of visits"
   ]
  },
  {
   "cell_type": "markdown",
   "id": "5b826f9f",
   "metadata": {},
   "source": [
    "### Which month has the highest cancellations?"
   ]
  },
  {
   "cell_type": "code",
   "execution_count": 26,
   "id": "aa156408",
   "metadata": {
    "ExecuteTime": {
     "end_time": "2022-04-26T00:13:08.370880Z",
     "start_time": "2022-04-26T00:13:05.151Z"
    },
    "vscode": {
     "languageId": "r"
    }
   },
   "outputs": [
    {
     "data": {
      "image/png": "[encoded data removed]",
      "text/plain": [
       "Plot with title \"Number of cancellations on each month\""
      ]
     },
     "metadata": {
      "image/png": {
       "height": 420,
       "width": 420
      }
     },
     "output_type": "display_data"
    }
   ],
   "source": [
    "labels <- c(\"not cancelled\", \"cancelled\")\n",
    "\n",
    "month_cancel <- table(data$is_canceled, data$arrival_date_month)\n",
    "\n",
    "barplot(month_cancel, beside = T, main = \"Number of cancellations on each month\",\n",
    "        ylab = \"Number of bookings\",legend.text = labels, col = colors)\n"
   ]
  },
  {
   "cell_type": "markdown",
   "id": "d4034050",
   "metadata": {},
   "source": [
    "Since August is the highest in the bookings, it's also the highest one in cancellation.  \n",
    "It's also obvious that the cancellations increase in the summer and decrease in the winter.  \n",
    "January has the lowest number of cancellations."
   ]
  },
  {
   "cell_type": "markdown",
   "id": "e9f5f35a",
   "metadata": {},
   "source": [
    "### Where are the guests from?"
   ]
  },
  {
   "cell_type": "code",
   "execution_count": 27,
   "id": "e65f5359",
   "metadata": {
    "ExecuteTime": {
     "end_time": "2022-04-26T00:13:08.485118Z",
     "start_time": "2022-04-26T00:13:05.155Z"
    },
    "vscode": {
     "languageId": "r"
    }
   },
   "outputs": [
    {
     "name": "stdout",
     "output_type": "stream",
     "text": [
      "  AUT    CN   CHE   USA   NLD   BRA   BEL   IRL   ITA   DEU   ESP   FRA   GBR \n",
      " 1256  1267  1720  2066  2094  2212  2334  3363  3746  7016  8528 10350 11868 \n",
      "  PRT OTHER \n",
      "46223 12098 \n"
     ]
    },
    {
     "data": {
      "image/png": "[encoded data removed]",
      "text/plain": [
       "Plot with title \"Guests Countries\""
      ]
     },
     "metadata": {
      "image/png": {
       "height": 420,
       "width": 420
      }
     },
     "output_type": "display_data"
    }
   ],
   "source": [
    "th = 1200\n",
    "countries = table(data$country)\n",
    "filtered_countries = countries[countries > th]\n",
    "filtered_countries = sort(filtered_countries)\n",
    "filtered_countries[\"OTHER\"] = sum(countries[countries <= th])\n",
    "print(filtered_countries)\n",
    "\n",
    "labels = names(filtered_countries)\n",
    "\n",
    "pie_percent<- paste(labels, round(100*filtered_countries/sum(filtered_countries), 1), sep=\" \") \n",
    "pie_percent<- paste(pie_percent, \"%\", sep=\"\")\n",
    "\n",
    "pie(filtered_countries, main = \"Guests Countries\", labels=pie_percent, col = rainbow(length(filtered_countries)))"
   ]
  },
  {
   "cell_type": "markdown",
   "id": "7845fee4",
   "metadata": {},
   "source": [
    "The guests come from many different countries, but most of them come from Portuguese which is the country of the hotels."
   ]
  },
  {
   "cell_type": "markdown",
   "id": "556bba14",
   "metadata": {},
   "source": [
    "### Does assigning a different room type than the reserved one affect the chance of cancellation?\n",
    "Sometimes the assigned room type differs from the reserved room type due to   \n",
    "hotel operation reasons (e.g. overbooking) or by customer request."
   ]
  },
  {
   "cell_type": "code",
   "execution_count": 28,
   "id": "0caca5bb",
   "metadata": {
    "ExecuteTime": {
     "end_time": "2022-04-26T00:13:08.610717Z",
     "start_time": "2022-04-26T00:13:05.159Z"
    },
    "vscode": {
     "languageId": "r"
    }
   },
   "outputs": [
    {
     "data": {
      "image/png": "[encoded data removed]",
      "text/plain": [
       "Plot with title \"Assigned Room Type Vs Reserved Room Type\""
      ]
     },
     "metadata": {
      "image/png": {
       "height": 420,
       "width": 420
      }
     },
     "output_type": "display_data"
    }
   ],
   "source": [
    "room_types = c(\"A\", \"B\", \"C\", \"D\", \"E\", \"F\", \"G\", \"H\", \"I\", \"K\",\"L\", \"P\")\n",
    "f1 = factor(data$assigned_room_type, levels = room_types)\n",
    "f2 = factor(data$reserved_room_type, levels = room_types)\n",
    "\n",
    "\n",
    "labels <- c(\"not cancelled\", \"cancelled\")\n",
    "\n",
    "room_cancel <- prop.table(table(f1 == f2, data$is_canceled), margin=1)*100\n",
    "rownames(room_cancel) = c(\"Different\", \"Same\")\n",
    "room_cancel <- t(room_cancel)\n",
    "\n",
    "barplot(room_cancel, main = \"Assigned Room Type Vs Reserved Room Type\",\n",
    "        ylab = \"cancellation percentage\",legend.text = labels, col = colors)"
   ]
  },
  {
   "cell_type": "markdown",
   "id": "ac6bd287",
   "metadata": {},
   "source": [
    "Unexpectedly, The guests who are assigned a room type different than the reserved one are  more likely not to cancel the booking.  \n",
    "This can be because some of the differences were by the customers' requests and not all of them due to overbooking."
   ]
  },
  {
   "cell_type": "markdown",
   "id": "26b9a34f",
   "metadata": {},
   "source": [
    "### What is the effect of the Deposit type on the likelihood of cancellation?"
   ]
  },
  {
   "cell_type": "code",
   "execution_count": 29,
   "id": "1039f11b",
   "metadata": {
    "ExecuteTime": {
     "end_time": "2022-04-26T00:13:08.700268Z",
     "start_time": "2022-04-26T00:13:05.162Z"
    },
    "scrolled": false,
    "vscode": {
     "languageId": "r"
    }
   },
   "outputs": [
    {
     "data": {
      "text/plain": [
       "   \n",
       "    No Deposit Non Refund Refundable\n",
       "  0 71.3501305  0.6935545 77.5000000\n",
       "  1 28.6498695 99.3064455 22.5000000"
      ]
     },
     "metadata": {},
     "output_type": "display_data"
    },
    {
     "data": {
      "image/png": "[encoded data removed]",
      "text/plain": [
       "Plot with title \"Cancellations based on Deposit Type\""
      ]
     },
     "metadata": {
      "image/png": {
       "height": 420,
       "width": 420
      }
     },
     "output_type": "display_data"
    }
   ],
   "source": [
    "labels <- c(\"not cancelled\", \"cancelled\")\n",
    "\n",
    "deposit_cancellation <- t(prop.table(table(data$deposit_type, data$is_canceled), margin=1)*100)\n",
    "deposit_cancellation\n",
    "\n",
    "barplot(deposit_cancellation, beside = T, ylim = c(0,100),\n",
    "        main = \"Cancellations based on Deposit Type\",ylab = \"cancellation percentage\",legend.text = labels, col = colors)\n"
   ]
  },
  {
   "cell_type": "markdown",
   "id": "04c66f54",
   "metadata": {},
   "source": [
    "Another unusual pattern in the data, The figure shows that almost all the people that made a deposit  \n",
    "in the value of the total stay cost (Non Refund) cancel their bookings."
   ]
  },
  {
   "cell_type": "markdown",
   "id": "64acbdfb",
   "metadata": {},
   "source": [
    "### How many nights do the guests stay in each hotel?"
   ]
  },
  {
   "cell_type": "code",
   "execution_count": 30,
   "id": "92db2c45",
   "metadata": {
    "ExecuteTime": {
     "end_time": "2022-04-26T00:13:08.794035Z",
     "start_time": "2022-04-26T00:13:05.166Z"
    },
    "scrolled": false,
    "vscode": {
     "languageId": "r"
    }
   },
   "outputs": [
    {
     "data": {
      "image/png": "[encoded data removed]",
      "text/plain": [
       "Plot with title \"Total nights at the hotel\""
      ]
     },
     "metadata": {
      "image/png": {
       "height": 420,
       "width": 420
      }
     },
     "output_type": "display_data"
    }
   ],
   "source": [
    "labels <- c(\"City Hotel\", \"Resort Hotel\")\n",
    "\n",
    "\n",
    "total_nights = data$stays_in_weekend_nights + data$stays_in_week_nights\n",
    "hotel_nights = prop.table(table(total_nights, data$hotel), margin=2)*100\n",
    "hotel_nights = t(hotel_nights)\n",
    "\n",
    "barplot(hotel_nights, beside = T, ylim = c(0,30), main = \"Total nights at the hotel\",\n",
    "        xlab = 'Total Nights', ylab = 'bookings percentage', legend.text = labels, col = colors)"
   ]
  },
  {
   "cell_type": "markdown",
   "id": "268799e4",
   "metadata": {},
   "source": [
    "Most of the guests book one or two or three nights in the two hotels."
   ]
  }
 ],
 "metadata": {
  "interpreter": {
   "hash": "1c9532bd79b42f5530805fab16ceedafca76f4a2d066218c15aef07d125e86ac"
  },
  "kernelspec": {
   "display_name": "R",
   "language": "R",
   "name": "ir"
  },
  "language_info": {
   "codemirror_mode": "r",
   "file_extension": ".r",
   "mimetype": "text/x-r-source",
   "name": "R",
   "pygments_lexer": "r",
   "version": "4.1.2"
  },
  "toc": {
   "base_numbering": 1,
   "nav_menu": {},
   "number_sections": false,
   "sideBar": true,
   "skip_h1_title": false,
   "title_cell": "Table of Contents",
   "title_sidebar": "Contents",
   "toc_cell": false,
   "toc_position": {},
   "toc_section_display": true,
   "toc_window_display": false
  },
  "varInspector": {
   "cols": {
    "lenName": 16,
    "lenType": 16,
    "lenVar": 40
   },
   "kernels_config": {
    "python": {
     "delete_cmd_postfix": "",
     "delete_cmd_prefix": "del ",
     "library": "var_list.py",
     "varRefreshCmd": "print(var_dic_list())"
    },
    "r": {
     "delete_cmd_postfix": ") ",
     "delete_cmd_prefix": "rm(",
     "library": "var_list.r",
     "varRefreshCmd": "cat(var_dic_list()) "
    }
   },
   "types_to_exclude": [
    "module",
    "function",
    "builtin_function_or_method",
    "instance",
    "_Feature"
   ],
   "window_display": false
  }
 },
 "nbformat": 4,
 "nbformat_minor": 5
}
