{
 "cells": [
  {
   "cell_type": "markdown",
   "id": "c273d974",
   "metadata": {},
   "source": [
    "# Setup"
   ]
  },
  {
   "cell_type": "code",
   "execution_count": 28,
   "id": "2a073455",
   "metadata": {
    "ExecuteTime": {
     "end_time": "2022-05-18T12:38:06.261755Z",
     "start_time": "2022-05-18T12:38:06.228Z"
    },
    "vscode": {
     "languageId": "r"
    }
   },
   "outputs": [],
   "source": [
    "# required packages here\n",
    "library(party)\n",
    "library(tidyverse)\n",
    "library(randomForest)\n",
    "library(class)\n",
    "library(e1071)"
   ]
  },
  {
   "cell_type": "code",
   "execution_count": 83,
   "id": "47465425",
   "metadata": {
    "ExecuteTime": {
     "end_time": "2022-05-18T12:46:54.426071Z",
     "start_time": "2022-05-18T12:46:53.666Z"
    },
    "vscode": {
     "languageId": "r"
    }
   },
   "outputs": [
    {
     "data": {
      "text/html": [
       "<style>\n",
       ".list-inline {list-style: none; margin:0; padding: 0}\n",
       ".list-inline>li {display: inline-block}\n",
       ".list-inline>li:not(:last-child)::after {content: \"\\00b7\"; padding: 0 .5ex}\n",
       "</style>\n",
       "<ol class=list-inline><li>119390</li><li>32</li></ol>\n"
      ],
      "text/latex": [
       "\\begin{enumerate*}\n",
       "\\item 119390\n",
       "\\item 32\n",
       "\\end{enumerate*}\n"
      ],
      "text/markdown": [
       "1. 119390\n",
       "2. 32\n",
       "\n",
       "\n"
      ],
      "text/plain": [
       "[1] 119390     32"
      ]
     },
     "metadata": {},
     "output_type": "display_data"
    }
   ],
   "source": [
    "data <- read.csv(\"hotel_bookings.csv\")\n",
    "dim(data)"
   ]
  },
  {
   "cell_type": "code",
   "execution_count": 84,
   "id": "f2262805",
   "metadata": {
    "ExecuteTime": {
     "end_time": "2022-05-18T12:46:54.463009Z",
     "start_time": "2022-05-18T12:46:54.235Z"
    },
    "vscode": {
     "languageId": "r"
    }
   },
   "outputs": [
    {
     "data": {
      "text/html": [
       "<table class=\"dataframe\">\n",
       "<caption>A data.frame: 6 × 32</caption>\n",
       "<thead>\n",
       "\t<tr><th></th><th scope=col>hotel</th><th scope=col>is_canceled</th><th scope=col>lead_time</th><th scope=col>arrival_date_year</th><th scope=col>arrival_date_month</th><th scope=col>arrival_date_week_number</th><th scope=col>arrival_date_day_of_month</th><th scope=col>stays_in_weekend_nights</th><th scope=col>stays_in_week_nights</th><th scope=col>adults</th><th scope=col>...</th><th scope=col>deposit_type</th><th scope=col>agent</th><th scope=col>company</th><th scope=col>days_in_waiting_list</th><th scope=col>customer_type</th><th scope=col>adr</th><th scope=col>required_car_parking_spaces</th><th scope=col>total_of_special_requests</th><th scope=col>reservation_status</th><th scope=col>reservation_status_date</th></tr>\n",
       "\t<tr><th></th><th scope=col>&lt;chr&gt;</th><th scope=col>&lt;int&gt;</th><th scope=col>&lt;int&gt;</th><th scope=col>&lt;int&gt;</th><th scope=col>&lt;chr&gt;</th><th scope=col>&lt;int&gt;</th><th scope=col>&lt;int&gt;</th><th scope=col>&lt;int&gt;</th><th scope=col>&lt;int&gt;</th><th scope=col>&lt;int&gt;</th><th scope=col>...</th><th scope=col>&lt;chr&gt;</th><th scope=col>&lt;chr&gt;</th><th scope=col>&lt;chr&gt;</th><th scope=col>&lt;int&gt;</th><th scope=col>&lt;chr&gt;</th><th scope=col>&lt;dbl&gt;</th><th scope=col>&lt;int&gt;</th><th scope=col>&lt;int&gt;</th><th scope=col>&lt;chr&gt;</th><th scope=col>&lt;chr&gt;</th></tr>\n",
       "</thead>\n",
       "<tbody>\n",
       "\t<tr><th scope=row>1</th><td>Resort Hotel</td><td>0</td><td>342</td><td>2015</td><td>July</td><td>27</td><td>1</td><td>0</td><td>0</td><td>2</td><td>...</td><td>No Deposit</td><td>NULL</td><td>NULL</td><td>0</td><td>Transient</td><td> 0</td><td>0</td><td>0</td><td>Check-Out</td><td>2015-07-01</td></tr>\n",
       "\t<tr><th scope=row>2</th><td>Resort Hotel</td><td>0</td><td>737</td><td>2015</td><td>July</td><td>27</td><td>1</td><td>0</td><td>0</td><td>2</td><td>...</td><td>No Deposit</td><td>NULL</td><td>NULL</td><td>0</td><td>Transient</td><td> 0</td><td>0</td><td>0</td><td>Check-Out</td><td>2015-07-01</td></tr>\n",
       "\t<tr><th scope=row>3</th><td>Resort Hotel</td><td>0</td><td>  7</td><td>2015</td><td>July</td><td>27</td><td>1</td><td>0</td><td>1</td><td>1</td><td>...</td><td>No Deposit</td><td>NULL</td><td>NULL</td><td>0</td><td>Transient</td><td>75</td><td>0</td><td>0</td><td>Check-Out</td><td>2015-07-02</td></tr>\n",
       "\t<tr><th scope=row>4</th><td>Resort Hotel</td><td>0</td><td> 13</td><td>2015</td><td>July</td><td>27</td><td>1</td><td>0</td><td>1</td><td>1</td><td>...</td><td>No Deposit</td><td>304 </td><td>NULL</td><td>0</td><td>Transient</td><td>75</td><td>0</td><td>0</td><td>Check-Out</td><td>2015-07-02</td></tr>\n",
       "\t<tr><th scope=row>5</th><td>Resort Hotel</td><td>0</td><td> 14</td><td>2015</td><td>July</td><td>27</td><td>1</td><td>0</td><td>2</td><td>2</td><td>...</td><td>No Deposit</td><td>240 </td><td>NULL</td><td>0</td><td>Transient</td><td>98</td><td>0</td><td>1</td><td>Check-Out</td><td>2015-07-03</td></tr>\n",
       "\t<tr><th scope=row>6</th><td>Resort Hotel</td><td>0</td><td> 14</td><td>2015</td><td>July</td><td>27</td><td>1</td><td>0</td><td>2</td><td>2</td><td>...</td><td>No Deposit</td><td>240 </td><td>NULL</td><td>0</td><td>Transient</td><td>98</td><td>0</td><td>1</td><td>Check-Out</td><td>2015-07-03</td></tr>\n",
       "</tbody>\n",
       "</table>\n"
      ],
      "text/latex": [
       "A data.frame: 6 × 32\n",
       "\\begin{tabular}{r|lllllllllllllllllllll}\n",
       "  & hotel & is\\_canceled & lead\\_time & arrival\\_date\\_year & arrival\\_date\\_month & arrival\\_date\\_week\\_number & arrival\\_date\\_day\\_of\\_month & stays\\_in\\_weekend\\_nights & stays\\_in\\_week\\_nights & adults & ... & deposit\\_type & agent & company & days\\_in\\_waiting\\_list & customer\\_type & adr & required\\_car\\_parking\\_spaces & total\\_of\\_special\\_requests & reservation\\_status & reservation\\_status\\_date\\\\\n",
       "  & <chr> & <int> & <int> & <int> & <chr> & <int> & <int> & <int> & <int> & <int> & ... & <chr> & <chr> & <chr> & <int> & <chr> & <dbl> & <int> & <int> & <chr> & <chr>\\\\\n",
       "\\hline\n",
       "\t1 & Resort Hotel & 0 & 342 & 2015 & July & 27 & 1 & 0 & 0 & 2 & ... & No Deposit & NULL & NULL & 0 & Transient &  0 & 0 & 0 & Check-Out & 2015-07-01\\\\\n",
       "\t2 & Resort Hotel & 0 & 737 & 2015 & July & 27 & 1 & 0 & 0 & 2 & ... & No Deposit & NULL & NULL & 0 & Transient &  0 & 0 & 0 & Check-Out & 2015-07-01\\\\\n",
       "\t3 & Resort Hotel & 0 &   7 & 2015 & July & 27 & 1 & 0 & 1 & 1 & ... & No Deposit & NULL & NULL & 0 & Transient & 75 & 0 & 0 & Check-Out & 2015-07-02\\\\\n",
       "\t4 & Resort Hotel & 0 &  13 & 2015 & July & 27 & 1 & 0 & 1 & 1 & ... & No Deposit & 304  & NULL & 0 & Transient & 75 & 0 & 0 & Check-Out & 2015-07-02\\\\\n",
       "\t5 & Resort Hotel & 0 &  14 & 2015 & July & 27 & 1 & 0 & 2 & 2 & ... & No Deposit & 240  & NULL & 0 & Transient & 98 & 0 & 1 & Check-Out & 2015-07-03\\\\\n",
       "\t6 & Resort Hotel & 0 &  14 & 2015 & July & 27 & 1 & 0 & 2 & 2 & ... & No Deposit & 240  & NULL & 0 & Transient & 98 & 0 & 1 & Check-Out & 2015-07-03\\\\\n",
       "\\end{tabular}\n"
      ],
      "text/markdown": [
       "\n",
       "A data.frame: 6 × 32\n",
       "\n",
       "| <!--/--> | hotel &lt;chr&gt; | is_canceled &lt;int&gt; | lead_time &lt;int&gt; | arrival_date_year &lt;int&gt; | arrival_date_month &lt;chr&gt; | arrival_date_week_number &lt;int&gt; | arrival_date_day_of_month &lt;int&gt; | stays_in_weekend_nights &lt;int&gt; | stays_in_week_nights &lt;int&gt; | adults &lt;int&gt; | ... ... | deposit_type &lt;chr&gt; | agent &lt;chr&gt; | company &lt;chr&gt; | days_in_waiting_list &lt;int&gt; | customer_type &lt;chr&gt; | adr &lt;dbl&gt; | required_car_parking_spaces &lt;int&gt; | total_of_special_requests &lt;int&gt; | reservation_status &lt;chr&gt; | reservation_status_date &lt;chr&gt; |\n",
       "|---|---|---|---|---|---|---|---|---|---|---|---|---|---|---|---|---|---|---|---|---|---|\n",
       "| 1 | Resort Hotel | 0 | 342 | 2015 | July | 27 | 1 | 0 | 0 | 2 | ... | No Deposit | NULL | NULL | 0 | Transient |  0 | 0 | 0 | Check-Out | 2015-07-01 |\n",
       "| 2 | Resort Hotel | 0 | 737 | 2015 | July | 27 | 1 | 0 | 0 | 2 | ... | No Deposit | NULL | NULL | 0 | Transient |  0 | 0 | 0 | Check-Out | 2015-07-01 |\n",
       "| 3 | Resort Hotel | 0 |   7 | 2015 | July | 27 | 1 | 0 | 1 | 1 | ... | No Deposit | NULL | NULL | 0 | Transient | 75 | 0 | 0 | Check-Out | 2015-07-02 |\n",
       "| 4 | Resort Hotel | 0 |  13 | 2015 | July | 27 | 1 | 0 | 1 | 1 | ... | No Deposit | 304  | NULL | 0 | Transient | 75 | 0 | 0 | Check-Out | 2015-07-02 |\n",
       "| 5 | Resort Hotel | 0 |  14 | 2015 | July | 27 | 1 | 0 | 2 | 2 | ... | No Deposit | 240  | NULL | 0 | Transient | 98 | 0 | 1 | Check-Out | 2015-07-03 |\n",
       "| 6 | Resort Hotel | 0 |  14 | 2015 | July | 27 | 1 | 0 | 2 | 2 | ... | No Deposit | 240  | NULL | 0 | Transient | 98 | 0 | 1 | Check-Out | 2015-07-03 |\n",
       "\n"
      ],
      "text/plain": [
       "  hotel        is_canceled lead_time arrival_date_year arrival_date_month\n",
       "1 Resort Hotel 0           342       2015              July              \n",
       "2 Resort Hotel 0           737       2015              July              \n",
       "3 Resort Hotel 0             7       2015              July              \n",
       "4 Resort Hotel 0            13       2015              July              \n",
       "5 Resort Hotel 0            14       2015              July              \n",
       "6 Resort Hotel 0            14       2015              July              \n",
       "  arrival_date_week_number arrival_date_day_of_month stays_in_weekend_nights\n",
       "1 27                       1                         0                      \n",
       "2 27                       1                         0                      \n",
       "3 27                       1                         0                      \n",
       "4 27                       1                         0                      \n",
       "5 27                       1                         0                      \n",
       "6 27                       1                         0                      \n",
       "  stays_in_week_nights adults ... deposit_type agent company\n",
       "1 0                    2      ... No Deposit   NULL  NULL   \n",
       "2 0                    2      ... No Deposit   NULL  NULL   \n",
       "3 1                    1      ... No Deposit   NULL  NULL   \n",
       "4 1                    1      ... No Deposit   304   NULL   \n",
       "5 2                    2      ... No Deposit   240   NULL   \n",
       "6 2                    2      ... No Deposit   240   NULL   \n",
       "  days_in_waiting_list customer_type adr required_car_parking_spaces\n",
       "1 0                    Transient      0  0                          \n",
       "2 0                    Transient      0  0                          \n",
       "3 0                    Transient     75  0                          \n",
       "4 0                    Transient     75  0                          \n",
       "5 0                    Transient     98  0                          \n",
       "6 0                    Transient     98  0                          \n",
       "  total_of_special_requests reservation_status reservation_status_date\n",
       "1 0                         Check-Out          2015-07-01             \n",
       "2 0                         Check-Out          2015-07-01             \n",
       "3 0                         Check-Out          2015-07-02             \n",
       "4 0                         Check-Out          2015-07-02             \n",
       "5 1                         Check-Out          2015-07-03             \n",
       "6 1                         Check-Out          2015-07-03             "
      ]
     },
     "metadata": {},
     "output_type": "display_data"
    }
   ],
   "source": [
    "head(data)"
   ]
  },
  {
   "cell_type": "code",
   "execution_count": 85,
   "id": "aabe6032",
   "metadata": {
    "ExecuteTime": {
     "end_time": "2022-05-18T12:46:56.423800Z",
     "start_time": "2022-05-18T12:46:56.378Z"
    },
    "vscode": {
     "languageId": "r"
    }
   },
   "outputs": [
    {
     "name": "stdout",
     "output_type": "stream",
     "text": [
      "'data.frame':\t119390 obs. of  32 variables:\n",
      " $ hotel                         : chr  \"Resort Hotel\" \"Resort Hotel\" \"Resort Hotel\" \"Resort Hotel\" ...\n",
      " $ is_canceled                   : int  0 0 0 0 0 0 0 0 1 1 ...\n",
      " $ lead_time                     : int  342 737 7 13 14 14 0 9 85 75 ...\n",
      " $ arrival_date_year             : int  2015 2015 2015 2015 2015 2015 2015 2015 2015 2015 ...\n",
      " $ arrival_date_month            : chr  \"July\" \"July\" \"July\" \"July\" ...\n",
      " $ arrival_date_week_number      : int  27 27 27 27 27 27 27 27 27 27 ...\n",
      " $ arrival_date_day_of_month     : int  1 1 1 1 1 1 1 1 1 1 ...\n",
      " $ stays_in_weekend_nights       : int  0 0 0 0 0 0 0 0 0 0 ...\n",
      " $ stays_in_week_nights          : int  0 0 1 1 2 2 2 2 3 3 ...\n",
      " $ adults                        : int  2 2 1 1 2 2 2 2 2 2 ...\n",
      " $ children                      : int  0 0 0 0 0 0 0 0 0 0 ...\n",
      " $ babies                        : int  0 0 0 0 0 0 0 0 0 0 ...\n",
      " $ meal                          : chr  \"BB\" \"BB\" \"BB\" \"BB\" ...\n",
      " $ country                       : chr  \"PRT\" \"PRT\" \"GBR\" \"GBR\" ...\n",
      " $ market_segment                : chr  \"Direct\" \"Direct\" \"Direct\" \"Corporate\" ...\n",
      " $ distribution_channel          : chr  \"Direct\" \"Direct\" \"Direct\" \"Corporate\" ...\n",
      " $ is_repeated_guest             : int  0 0 0 0 0 0 0 0 0 0 ...\n",
      " $ previous_cancellations        : int  0 0 0 0 0 0 0 0 0 0 ...\n",
      " $ previous_bookings_not_canceled: int  0 0 0 0 0 0 0 0 0 0 ...\n",
      " $ reserved_room_type            : chr  \"C\" \"C\" \"A\" \"A\" ...\n",
      " $ assigned_room_type            : chr  \"C\" \"C\" \"C\" \"A\" ...\n",
      " $ booking_changes               : int  3 4 0 0 0 0 0 0 0 0 ...\n",
      " $ deposit_type                  : chr  \"No Deposit\" \"No Deposit\" \"No Deposit\" \"No Deposit\" ...\n",
      " $ agent                         : chr  \"NULL\" \"NULL\" \"NULL\" \"304\" ...\n",
      " $ company                       : chr  \"NULL\" \"NULL\" \"NULL\" \"NULL\" ...\n",
      " $ days_in_waiting_list          : int  0 0 0 0 0 0 0 0 0 0 ...\n",
      " $ customer_type                 : chr  \"Transient\" \"Transient\" \"Transient\" \"Transient\" ...\n",
      " $ adr                           : num  0 0 75 75 98 ...\n",
      " $ required_car_parking_spaces   : int  0 0 0 0 0 0 0 0 0 0 ...\n",
      " $ total_of_special_requests     : int  0 0 0 0 1 1 0 1 1 0 ...\n",
      " $ reservation_status            : chr  \"Check-Out\" \"Check-Out\" \"Check-Out\" \"Check-Out\" ...\n",
      " $ reservation_status_date       : chr  \"2015-07-01\" \"2015-07-01\" \"2015-07-02\" \"2015-07-02\" ...\n"
     ]
    }
   ],
   "source": [
    "str(data)"
   ]
  },
  {
   "cell_type": "code",
   "execution_count": 86,
   "id": "dfae005d",
   "metadata": {
    "ExecuteTime": {
     "end_time": "2022-05-18T12:47:00.340986Z",
     "start_time": "2022-05-18T12:47:00.314Z"
    },
    "scrolled": false,
    "vscode": {
     "languageId": "r"
    }
   },
   "outputs": [],
   "source": [
    "purple <- \"#633ebb\"\n",
    "light_purple <- \"#A85CF9\"\n",
    "red <- \"#f13c59\"\n",
    "light_blue <- \"#c6d1ff\"\n",
    "blue <- \"#40DFEF\"\n",
    "\n",
    "beige <- \"#fec57e\"\n",
    "colors <- c(light_purple, light_blue)"
   ]
  },
  {
   "cell_type": "markdown",
   "id": "138e635a",
   "metadata": {},
   "source": [
    "# Data Preprocessing"
   ]
  },
  {
   "cell_type": "markdown",
   "id": "1c0235d4",
   "metadata": {},
   "source": [
    "### Remove reservation status from data"
   ]
  },
  {
   "cell_type": "code",
   "execution_count": 87,
   "id": "73435429",
   "metadata": {
    "ExecuteTime": {
     "end_time": "2022-05-18T12:47:05.554491Z",
     "start_time": "2022-05-18T12:47:05.531Z"
    },
    "vscode": {
     "languageId": "r"
    }
   },
   "outputs": [
    {
     "data": {
      "text/html": [
       "<style>\n",
       ".list-inline {list-style: none; margin:0; padding: 0}\n",
       ".list-inline>li {display: inline-block}\n",
       ".list-inline>li:not(:last-child)::after {content: \"\\00b7\"; padding: 0 .5ex}\n",
       "</style>\n",
       "<ol class=list-inline><li>119390</li><li>30</li></ol>\n"
      ],
      "text/latex": [
       "\\begin{enumerate*}\n",
       "\\item 119390\n",
       "\\item 30\n",
       "\\end{enumerate*}\n"
      ],
      "text/markdown": [
       "1. 119390\n",
       "2. 30\n",
       "\n",
       "\n"
      ],
      "text/plain": [
       "[1] 119390     30"
      ]
     },
     "metadata": {},
     "output_type": "display_data"
    }
   ],
   "source": [
    "data <- within(data, rm(\"reservation_status\", \"reservation_status_date\"))\n",
    "dim(data)"
   ]
  },
  {
   "cell_type": "markdown",
   "id": "8b5ded9c",
   "metadata": {},
   "source": [
    "### Changing values of Arrival date months to a smaller representation"
   ]
  },
  {
   "cell_type": "code",
   "execution_count": 88,
   "id": "d504e108",
   "metadata": {
    "ExecuteTime": {
     "end_time": "2022-05-18T12:47:11.450475Z",
     "start_time": "2022-05-18T12:47:11.412Z"
    },
    "scrolled": true,
    "vscode": {
     "languageId": "r"
    }
   },
   "outputs": [
    {
     "data": {
      "text/html": [
       "<style>\n",
       ".list-inline {list-style: none; margin:0; padding: 0}\n",
       ".list-inline>li {display: inline-block}\n",
       ".list-inline>li:not(:last-child)::after {content: \"\\00b7\"; padding: 0 .5ex}\n",
       "</style>\n",
       "<ol class=list-inline><li>'Jan'</li><li>'Feb'</li><li>'Mar'</li><li>'Apr'</li><li>'May'</li><li>'Jun'</li><li>'Jul'</li><li>'Aug'</li><li>'Sep'</li><li>'Oct'</li><li>'Nov'</li><li>'Dec'</li></ol>\n"
      ],
      "text/latex": [
       "\\begin{enumerate*}\n",
       "\\item 'Jan'\n",
       "\\item 'Feb'\n",
       "\\item 'Mar'\n",
       "\\item 'Apr'\n",
       "\\item 'May'\n",
       "\\item 'Jun'\n",
       "\\item 'Jul'\n",
       "\\item 'Aug'\n",
       "\\item 'Sep'\n",
       "\\item 'Oct'\n",
       "\\item 'Nov'\n",
       "\\item 'Dec'\n",
       "\\end{enumerate*}\n"
      ],
      "text/markdown": [
       "1. 'Jan'\n",
       "2. 'Feb'\n",
       "3. 'Mar'\n",
       "4. 'Apr'\n",
       "5. 'May'\n",
       "6. 'Jun'\n",
       "7. 'Jul'\n",
       "8. 'Aug'\n",
       "9. 'Sep'\n",
       "10. 'Oct'\n",
       "11. 'Nov'\n",
       "12. 'Dec'\n",
       "\n",
       "\n"
      ],
      "text/plain": [
       " [1] \"Jan\" \"Feb\" \"Mar\" \"Apr\" \"May\" \"Jun\" \"Jul\" \"Aug\" \"Sep\" \"Oct\" \"Nov\" \"Dec\""
      ]
     },
     "metadata": {},
     "output_type": "display_data"
    },
    {
     "data": {
      "text/plain": [
       "\n",
       "  Jan   Feb   Mar   Apr   May   Jun   Jul   Aug   Sep   Oct   Nov   Dec \n",
       " 5929  8068  9794 11089 11791 10939 12661 13877 10508 11160  6794  6780 "
      ]
     },
     "metadata": {},
     "output_type": "display_data"
    }
   ],
   "source": [
    "data$arrival_date_month <- factor(data$arrival_date_month)   \n",
    "levels(data$arrival_date_month) <- list(Jan = \"January\",\n",
    "                                       Feb = \"February\",\n",
    "                                       Mar = \"March\",\n",
    "                                       Apr = \"April\",\n",
    "                                       May = \"May\",\n",
    "                                       Jun = \"June\",\n",
    "                                       Jul = \"July\",\n",
    "                                       Aug = \"August\",\n",
    "                                       Sep = \"September\",\n",
    "                                       Oct = \"October\",\n",
    "                                       Nov = \"November\",\n",
    "                                       Dec = \"December\")\n",
    "\n",
    "levels(data$arrival_date_month)\n",
    "table(data$arrival_date_month)"
   ]
  },
  {
   "cell_type": "markdown",
   "id": "9ea31635",
   "metadata": {},
   "source": [
    "### Convert character and is_canceled to factor"
   ]
  },
  {
   "cell_type": "code",
   "execution_count": 89,
   "id": "135c9280",
   "metadata": {
    "ExecuteTime": {
     "end_time": "2022-05-18T12:47:36.074143Z",
     "start_time": "2022-05-18T12:47:35.988Z"
    },
    "vscode": {
     "languageId": "r"
    }
   },
   "outputs": [
    {
     "data": {
      "text/html": [
       "<style>\n",
       ".list-inline {list-style: none; margin:0; padding: 0}\n",
       ".list-inline>li {display: inline-block}\n",
       ".list-inline>li:not(:last-child)::after {content: \"\\00b7\"; padding: 0 .5ex}\n",
       "</style>\n",
       "<ol class=list-inline><li>'hotel'</li><li>'meal'</li><li>'country'</li><li>'market_segment'</li><li>'distribution_channel'</li><li>'reserved_room_type'</li><li>'assigned_room_type'</li><li>'deposit_type'</li><li>'agent'</li><li>'company'</li><li>'customer_type'</li></ol>\n"
      ],
      "text/latex": [
       "\\begin{enumerate*}\n",
       "\\item 'hotel'\n",
       "\\item 'meal'\n",
       "\\item 'country'\n",
       "\\item 'market\\_segment'\n",
       "\\item 'distribution\\_channel'\n",
       "\\item 'reserved\\_room\\_type'\n",
       "\\item 'assigned\\_room\\_type'\n",
       "\\item 'deposit\\_type'\n",
       "\\item 'agent'\n",
       "\\item 'company'\n",
       "\\item 'customer\\_type'\n",
       "\\end{enumerate*}\n"
      ],
      "text/markdown": [
       "1. 'hotel'\n",
       "2. 'meal'\n",
       "3. 'country'\n",
       "4. 'market_segment'\n",
       "5. 'distribution_channel'\n",
       "6. 'reserved_room_type'\n",
       "7. 'assigned_room_type'\n",
       "8. 'deposit_type'\n",
       "9. 'agent'\n",
       "10. 'company'\n",
       "11. 'customer_type'\n",
       "\n",
       "\n"
      ],
      "text/plain": [
       " [1] \"hotel\"                \"meal\"                 \"country\"             \n",
       " [4] \"market_segment\"       \"distribution_channel\" \"reserved_room_type\"  \n",
       " [7] \"assigned_room_type\"   \"deposit_type\"         \"agent\"               \n",
       "[10] \"company\"              \"customer_type\"       "
      ]
     },
     "metadata": {},
     "output_type": "display_data"
    }
   ],
   "source": [
    "char_colnames <- colnames(data %>% select_if(is.character))\n",
    "char_colnames\n",
    "\n",
    "data[char_colnames] <- lapply(data[char_colnames], factor)\n",
    "# data[,\"is_canceled\"] <- as.factor(data[,\"is_canceled\"])\n"
   ]
  },
  {
   "cell_type": "markdown",
   "id": "655e3e0b",
   "metadata": {},
   "source": [
    "# Reduce country levels"
   ]
  },
  {
   "cell_type": "code",
   "execution_count": 90,
   "id": "6687c99e",
   "metadata": {
    "ExecuteTime": {
     "end_time": "2022-05-18T12:47:37.140424Z",
     "start_time": "2022-05-18T12:47:37.078Z"
    },
    "vscode": {
     "languageId": "r"
    }
   },
   "outputs": [],
   "source": [
    "reduce_levels <- function(level, threshold = 500, new_level_value = \"OTHER\") {\n",
    "  freq <- table(level)\n",
    "\n",
    "  levels(level) <- c(levels(level), new_level_value)\n",
    "  \n",
    "  \n",
    "  # Add a new level to assign for countries appearing less than a threshold\n",
    "  level[level %in% names(freq[freq < threshold])] <- new_level_value\n",
    "\n",
    "  # Drop levels that were replaced\n",
    "  level <- droplevels(level)\n",
    "\n",
    "  return(level)\n",
    "}\n",
    "\n",
    "# print frequency of levels appearing more than or equal a certain threshold and their number\n",
    "view_thresh <- function(level, threshold) {\n",
    "  cnt <-table(level)\n",
    "  print(length(cnt[cnt >= threshold]))  \n",
    "  print(cnt[cnt >= threshold])\n",
    "}\n",
    "\n",
    "data$country <- reduce_levels(data$country, 100)\n",
    "data$company <- reduce_levels(data$company, 30)\n",
    "\n",
    "data$agent <- reduce_levels(data$agent, 250)\n"
   ]
  },
  {
   "cell_type": "markdown",
   "id": "01456728",
   "metadata": {},
   "source": [
    "**checking dimensions of the remaining data**"
   ]
  },
  {
   "cell_type": "code",
   "execution_count": 91,
   "id": "0c728c5c",
   "metadata": {
    "ExecuteTime": {
     "end_time": "2022-05-18T12:47:38.618133Z",
     "start_time": "2022-05-18T12:47:38.579Z"
    },
    "vscode": {
     "languageId": "r"
    }
   },
   "outputs": [
    {
     "data": {
      "text/html": [
       "<style>\n",
       ".list-inline {list-style: none; margin:0; padding: 0}\n",
       ".list-inline>li {display: inline-block}\n",
       ".list-inline>li:not(:last-child)::after {content: \"\\00b7\"; padding: 0 .5ex}\n",
       "</style>\n",
       "<ol class=list-inline><li>119390</li><li>30</li></ol>\n"
      ],
      "text/latex": [
       "\\begin{enumerate*}\n",
       "\\item 119390\n",
       "\\item 30\n",
       "\\end{enumerate*}\n"
      ],
      "text/markdown": [
       "1. 119390\n",
       "2. 30\n",
       "\n",
       "\n"
      ],
      "text/plain": [
       "[1] 119390     30"
      ]
     },
     "metadata": {},
     "output_type": "display_data"
    },
    {
     "name": "stdout",
     "output_type": "stream",
     "text": [
      "'data.frame':\t119390 obs. of  30 variables:\n",
      " $ hotel                         : Factor w/ 2 levels \"City Hotel\",\"Resort Hotel\": 2 2 2 2 2 2 2 2 2 2 ...\n",
      " $ is_canceled                   : int  0 0 0 0 0 0 0 0 1 1 ...\n",
      " $ lead_time                     : int  342 737 7 13 14 14 0 9 85 75 ...\n",
      " $ arrival_date_year             : int  2015 2015 2015 2015 2015 2015 2015 2015 2015 2015 ...\n",
      " $ arrival_date_month            : Factor w/ 12 levels \"Jan\",\"Feb\",\"Mar\",..: 7 7 7 7 7 7 7 7 7 7 ...\n",
      " $ arrival_date_week_number      : int  27 27 27 27 27 27 27 27 27 27 ...\n",
      " $ arrival_date_day_of_month     : int  1 1 1 1 1 1 1 1 1 1 ...\n",
      " $ stays_in_weekend_nights       : int  0 0 0 0 0 0 0 0 0 0 ...\n",
      " $ stays_in_week_nights          : int  0 0 1 1 2 2 2 2 3 3 ...\n",
      " $ adults                        : int  2 2 1 1 2 2 2 2 2 2 ...\n",
      " $ children                      : int  0 0 0 0 0 0 0 0 0 0 ...\n",
      " $ babies                        : int  0 0 0 0 0 0 0 0 0 0 ...\n",
      " $ meal                          : Factor w/ 5 levels \"BB\",\"FB\",\"HB\",..: 1 1 1 1 1 1 1 2 1 3 ...\n",
      " $ country                       : Factor w/ 40 levels \"AGO\",\"ARG\",\"AUS\",..: 33 33 17 17 17 17 33 33 33 33 ...\n",
      " $ market_segment                : Factor w/ 8 levels \"Aviation\",\"Complementary\",..: 4 4 4 3 7 7 4 4 7 6 ...\n",
      " $ distribution_channel          : Factor w/ 5 levels \"Corporate\",\"Direct\",..: 2 2 2 1 4 4 2 2 4 4 ...\n",
      " $ is_repeated_guest             : int  0 0 0 0 0 0 0 0 0 0 ...\n",
      " $ previous_cancellations        : int  0 0 0 0 0 0 0 0 0 0 ...\n",
      " $ previous_bookings_not_canceled: int  0 0 0 0 0 0 0 0 0 0 ...\n",
      " $ reserved_room_type            : Factor w/ 10 levels \"A\",\"B\",\"C\",\"D\",..: 3 3 1 1 1 1 3 3 1 4 ...\n",
      " $ assigned_room_type            : Factor w/ 12 levels \"A\",\"B\",\"C\",\"D\",..: 3 3 3 1 1 1 3 3 1 4 ...\n",
      " $ booking_changes               : int  3 4 0 0 0 0 0 0 0 0 ...\n",
      " $ deposit_type                  : Factor w/ 3 levels \"No Deposit\",\"Non Refund\",..: 1 1 1 1 1 1 1 1 1 1 ...\n",
      " $ agent                         : Factor w/ 50 levels \"1\",\"10\",\"11\",..: 49 49 49 50 18 18 49 50 18 9 ...\n",
      " $ company                       : Factor w/ 46 levels \"110\",\"113\",\"135\",..: 45 45 45 45 45 45 45 45 45 45 ...\n",
      " $ days_in_waiting_list          : int  0 0 0 0 0 0 0 0 0 0 ...\n",
      " $ customer_type                 : Factor w/ 4 levels \"Contract\",\"Group\",..: 3 3 3 3 3 3 3 3 3 3 ...\n",
      " $ adr                           : num  0 0 75 75 98 ...\n",
      " $ required_car_parking_spaces   : int  0 0 0 0 0 0 0 0 0 0 ...\n",
      " $ total_of_special_requests     : int  0 0 0 0 1 1 0 1 1 0 ...\n"
     ]
    }
   ],
   "source": [
    "dim(data)\n",
    "str(data)"
   ]
  },
  {
   "cell_type": "markdown",
   "id": "eaf36765",
   "metadata": {},
   "source": [
    "### Check for missing and NULL values"
   ]
  },
  {
   "cell_type": "code",
   "execution_count": 92,
   "id": "16a72146",
   "metadata": {
    "ExecuteTime": {
     "end_time": "2022-05-18T12:47:42.792583Z",
     "start_time": "2022-05-18T12:47:42.572Z"
    },
    "vscode": {
     "languageId": "r"
    }
   },
   "outputs": [
    {
     "data": {
      "text/html": [
       "<style>\n",
       ".dl-inline {width: auto; margin:0; padding: 0}\n",
       ".dl-inline>dt, .dl-inline>dd {float: none; width: auto; display: inline-block}\n",
       ".dl-inline>dt::after {content: \":\\0020\"; padding-right: .5ex}\n",
       ".dl-inline>dt:not(:first-of-type) {padding-left: .5ex}\n",
       "</style><dl class=dl-inline><dt>hotel</dt><dd>0</dd><dt>is_canceled</dt><dd>0</dd><dt>lead_time</dt><dd>0</dd><dt>arrival_date_year</dt><dd>0</dd><dt>arrival_date_month</dt><dd>0</dd><dt>arrival_date_week_number</dt><dd>0</dd><dt>arrival_date_day_of_month</dt><dd>0</dd><dt>stays_in_weekend_nights</dt><dd>0</dd><dt>stays_in_week_nights</dt><dd>0</dd><dt>adults</dt><dd>0</dd><dt>children</dt><dd>4</dd><dt>babies</dt><dd>0</dd><dt>meal</dt><dd>0</dd><dt>country</dt><dd>488</dd><dt>market_segment</dt><dd>0</dd><dt>distribution_channel</dt><dd>0</dd><dt>is_repeated_guest</dt><dd>0</dd><dt>previous_cancellations</dt><dd>0</dd><dt>previous_bookings_not_canceled</dt><dd>0</dd><dt>reserved_room_type</dt><dd>0</dd><dt>assigned_room_type</dt><dd>0</dd><dt>booking_changes</dt><dd>0</dd><dt>deposit_type</dt><dd>0</dd><dt>agent</dt><dd>16340</dd><dt>company</dt><dd>112593</dd><dt>days_in_waiting_list</dt><dd>0</dd><dt>customer_type</dt><dd>0</dd><dt>adr</dt><dd>0</dd><dt>required_car_parking_spaces</dt><dd>0</dd><dt>total_of_special_requests</dt><dd>0</dd></dl>\n"
      ],
      "text/latex": [
       "\\begin{description*}\n",
       "\\item[hotel] 0\n",
       "\\item[is\\textbackslash{}\\_canceled] 0\n",
       "\\item[lead\\textbackslash{}\\_time] 0\n",
       "\\item[arrival\\textbackslash{}\\_date\\textbackslash{}\\_year] 0\n",
       "\\item[arrival\\textbackslash{}\\_date\\textbackslash{}\\_month] 0\n",
       "\\item[arrival\\textbackslash{}\\_date\\textbackslash{}\\_week\\textbackslash{}\\_number] 0\n",
       "\\item[arrival\\textbackslash{}\\_date\\textbackslash{}\\_day\\textbackslash{}\\_of\\textbackslash{}\\_month] 0\n",
       "\\item[stays\\textbackslash{}\\_in\\textbackslash{}\\_weekend\\textbackslash{}\\_nights] 0\n",
       "\\item[stays\\textbackslash{}\\_in\\textbackslash{}\\_week\\textbackslash{}\\_nights] 0\n",
       "\\item[adults] 0\n",
       "\\item[children] 4\n",
       "\\item[babies] 0\n",
       "\\item[meal] 0\n",
       "\\item[country] 488\n",
       "\\item[market\\textbackslash{}\\_segment] 0\n",
       "\\item[distribution\\textbackslash{}\\_channel] 0\n",
       "\\item[is\\textbackslash{}\\_repeated\\textbackslash{}\\_guest] 0\n",
       "\\item[previous\\textbackslash{}\\_cancellations] 0\n",
       "\\item[previous\\textbackslash{}\\_bookings\\textbackslash{}\\_not\\textbackslash{}\\_canceled] 0\n",
       "\\item[reserved\\textbackslash{}\\_room\\textbackslash{}\\_type] 0\n",
       "\\item[assigned\\textbackslash{}\\_room\\textbackslash{}\\_type] 0\n",
       "\\item[booking\\textbackslash{}\\_changes] 0\n",
       "\\item[deposit\\textbackslash{}\\_type] 0\n",
       "\\item[agent] 16340\n",
       "\\item[company] 112593\n",
       "\\item[days\\textbackslash{}\\_in\\textbackslash{}\\_waiting\\textbackslash{}\\_list] 0\n",
       "\\item[customer\\textbackslash{}\\_type] 0\n",
       "\\item[adr] 0\n",
       "\\item[required\\textbackslash{}\\_car\\textbackslash{}\\_parking\\textbackslash{}\\_spaces] 0\n",
       "\\item[total\\textbackslash{}\\_of\\textbackslash{}\\_special\\textbackslash{}\\_requests] 0\n",
       "\\end{description*}\n"
      ],
      "text/markdown": [
       "hotel\n",
       ":   0is_canceled\n",
       ":   0lead_time\n",
       ":   0arrival_date_year\n",
       ":   0arrival_date_month\n",
       ":   0arrival_date_week_number\n",
       ":   0arrival_date_day_of_month\n",
       ":   0stays_in_weekend_nights\n",
       ":   0stays_in_week_nights\n",
       ":   0adults\n",
       ":   0children\n",
       ":   4babies\n",
       ":   0meal\n",
       ":   0country\n",
       ":   488market_segment\n",
       ":   0distribution_channel\n",
       ":   0is_repeated_guest\n",
       ":   0previous_cancellations\n",
       ":   0previous_bookings_not_canceled\n",
       ":   0reserved_room_type\n",
       ":   0assigned_room_type\n",
       ":   0booking_changes\n",
       ":   0deposit_type\n",
       ":   0agent\n",
       ":   16340company\n",
       ":   112593days_in_waiting_list\n",
       ":   0customer_type\n",
       ":   0adr\n",
       ":   0required_car_parking_spaces\n",
       ":   0total_of_special_requests\n",
       ":   0\n",
       "\n"
      ],
      "text/plain": [
       "                         hotel                    is_canceled \n",
       "                             0                              0 \n",
       "                     lead_time              arrival_date_year \n",
       "                             0                              0 \n",
       "            arrival_date_month       arrival_date_week_number \n",
       "                             0                              0 \n",
       "     arrival_date_day_of_month        stays_in_weekend_nights \n",
       "                             0                              0 \n",
       "          stays_in_week_nights                         adults \n",
       "                             0                              0 \n",
       "                      children                         babies \n",
       "                             4                              0 \n",
       "                          meal                        country \n",
       "                             0                            488 \n",
       "                market_segment           distribution_channel \n",
       "                             0                              0 \n",
       "             is_repeated_guest         previous_cancellations \n",
       "                             0                              0 \n",
       "previous_bookings_not_canceled             reserved_room_type \n",
       "                             0                              0 \n",
       "            assigned_room_type                booking_changes \n",
       "                             0                              0 \n",
       "                  deposit_type                          agent \n",
       "                             0                          16340 \n",
       "                       company           days_in_waiting_list \n",
       "                        112593                              0 \n",
       "                 customer_type                            adr \n",
       "                             0                              0 \n",
       "   required_car_parking_spaces      total_of_special_requests \n",
       "                             0                              0 "
      ]
     },
     "metadata": {},
     "output_type": "display_data"
    }
   ],
   "source": [
    "colSums(is.na(data) | data == \"NULL\")"
   ]
  },
  {
   "cell_type": "markdown",
   "id": "0544d00b",
   "metadata": {},
   "source": [
    "### Replacing missing and null values for the features:\n",
    "* **children**: we put 0 for the missing values\n",
    "* **country**: we replace \"NULL\" with \"UNKNOWN\"\n",
    "* **agent**: we replace \"NULL\" with \"0\"\n",
    "* **company**: we replace \"NULL\" with \"0\""
   ]
  },
  {
   "cell_type": "code",
   "execution_count": 93,
   "id": "6c1707ea",
   "metadata": {
    "ExecuteTime": {
     "end_time": "2022-05-18T12:47:43.792598Z",
     "start_time": "2022-05-18T12:47:43.737Z"
    },
    "scrolled": false,
    "vscode": {
     "languageId": "r"
    }
   },
   "outputs": [],
   "source": [
    "data$children[is.na(data$children)] = 0\n",
    "\n",
    "levels(data$country) <- c(levels(data$country), \"UNKNOWN\") \n",
    "data$country[data$country == \"NULL\"] <- \"UNKNOWN\"\n",
    "data$country = factor(data$country)\n",
    "\n",
    "levels(data$agent) <- c(levels(data$agent), '0')\n",
    "data$agent[data$agent == \"NULL\"] <- '0'\n",
    "data$agent = factor(data$agent)\n",
    "\n",
    "levels(data$company) <- c(levels(data$company), '0')\n",
    "data$company[data$company == \"NULL\"] <- '0'\n",
    "data$company = factor(data$company)"
   ]
  },
  {
   "cell_type": "markdown",
   "id": "9406056a",
   "metadata": {},
   "source": [
    "### Checking again to make sure that we replaced them"
   ]
  },
  {
   "cell_type": "code",
   "execution_count": 94,
   "id": "1b87b2b5",
   "metadata": {
    "ExecuteTime": {
     "end_time": "2022-05-18T12:47:45.019133Z",
     "start_time": "2022-05-18T12:47:44.709Z"
    },
    "vscode": {
     "languageId": "r"
    }
   },
   "outputs": [
    {
     "data": {
      "text/html": [
       "<style>\n",
       ".dl-inline {width: auto; margin:0; padding: 0}\n",
       ".dl-inline>dt, .dl-inline>dd {float: none; width: auto; display: inline-block}\n",
       ".dl-inline>dt::after {content: \":\\0020\"; padding-right: .5ex}\n",
       ".dl-inline>dt:not(:first-of-type) {padding-left: .5ex}\n",
       "</style><dl class=dl-inline><dt>hotel</dt><dd>0</dd><dt>is_canceled</dt><dd>0</dd><dt>lead_time</dt><dd>0</dd><dt>arrival_date_year</dt><dd>0</dd><dt>arrival_date_month</dt><dd>0</dd><dt>arrival_date_week_number</dt><dd>0</dd><dt>arrival_date_day_of_month</dt><dd>0</dd><dt>stays_in_weekend_nights</dt><dd>0</dd><dt>stays_in_week_nights</dt><dd>0</dd><dt>adults</dt><dd>0</dd><dt>children</dt><dd>0</dd><dt>babies</dt><dd>0</dd><dt>meal</dt><dd>0</dd><dt>country</dt><dd>0</dd><dt>market_segment</dt><dd>0</dd><dt>distribution_channel</dt><dd>0</dd><dt>is_repeated_guest</dt><dd>0</dd><dt>previous_cancellations</dt><dd>0</dd><dt>previous_bookings_not_canceled</dt><dd>0</dd><dt>reserved_room_type</dt><dd>0</dd><dt>assigned_room_type</dt><dd>0</dd><dt>booking_changes</dt><dd>0</dd><dt>deposit_type</dt><dd>0</dd><dt>agent</dt><dd>0</dd><dt>company</dt><dd>0</dd><dt>days_in_waiting_list</dt><dd>0</dd><dt>customer_type</dt><dd>0</dd><dt>adr</dt><dd>0</dd><dt>required_car_parking_spaces</dt><dd>0</dd><dt>total_of_special_requests</dt><dd>0</dd></dl>\n"
      ],
      "text/latex": [
       "\\begin{description*}\n",
       "\\item[hotel] 0\n",
       "\\item[is\\textbackslash{}\\_canceled] 0\n",
       "\\item[lead\\textbackslash{}\\_time] 0\n",
       "\\item[arrival\\textbackslash{}\\_date\\textbackslash{}\\_year] 0\n",
       "\\item[arrival\\textbackslash{}\\_date\\textbackslash{}\\_month] 0\n",
       "\\item[arrival\\textbackslash{}\\_date\\textbackslash{}\\_week\\textbackslash{}\\_number] 0\n",
       "\\item[arrival\\textbackslash{}\\_date\\textbackslash{}\\_day\\textbackslash{}\\_of\\textbackslash{}\\_month] 0\n",
       "\\item[stays\\textbackslash{}\\_in\\textbackslash{}\\_weekend\\textbackslash{}\\_nights] 0\n",
       "\\item[stays\\textbackslash{}\\_in\\textbackslash{}\\_week\\textbackslash{}\\_nights] 0\n",
       "\\item[adults] 0\n",
       "\\item[children] 0\n",
       "\\item[babies] 0\n",
       "\\item[meal] 0\n",
       "\\item[country] 0\n",
       "\\item[market\\textbackslash{}\\_segment] 0\n",
       "\\item[distribution\\textbackslash{}\\_channel] 0\n",
       "\\item[is\\textbackslash{}\\_repeated\\textbackslash{}\\_guest] 0\n",
       "\\item[previous\\textbackslash{}\\_cancellations] 0\n",
       "\\item[previous\\textbackslash{}\\_bookings\\textbackslash{}\\_not\\textbackslash{}\\_canceled] 0\n",
       "\\item[reserved\\textbackslash{}\\_room\\textbackslash{}\\_type] 0\n",
       "\\item[assigned\\textbackslash{}\\_room\\textbackslash{}\\_type] 0\n",
       "\\item[booking\\textbackslash{}\\_changes] 0\n",
       "\\item[deposit\\textbackslash{}\\_type] 0\n",
       "\\item[agent] 0\n",
       "\\item[company] 0\n",
       "\\item[days\\textbackslash{}\\_in\\textbackslash{}\\_waiting\\textbackslash{}\\_list] 0\n",
       "\\item[customer\\textbackslash{}\\_type] 0\n",
       "\\item[adr] 0\n",
       "\\item[required\\textbackslash{}\\_car\\textbackslash{}\\_parking\\textbackslash{}\\_spaces] 0\n",
       "\\item[total\\textbackslash{}\\_of\\textbackslash{}\\_special\\textbackslash{}\\_requests] 0\n",
       "\\end{description*}\n"
      ],
      "text/markdown": [
       "hotel\n",
       ":   0is_canceled\n",
       ":   0lead_time\n",
       ":   0arrival_date_year\n",
       ":   0arrival_date_month\n",
       ":   0arrival_date_week_number\n",
       ":   0arrival_date_day_of_month\n",
       ":   0stays_in_weekend_nights\n",
       ":   0stays_in_week_nights\n",
       ":   0adults\n",
       ":   0children\n",
       ":   0babies\n",
       ":   0meal\n",
       ":   0country\n",
       ":   0market_segment\n",
       ":   0distribution_channel\n",
       ":   0is_repeated_guest\n",
       ":   0previous_cancellations\n",
       ":   0previous_bookings_not_canceled\n",
       ":   0reserved_room_type\n",
       ":   0assigned_room_type\n",
       ":   0booking_changes\n",
       ":   0deposit_type\n",
       ":   0agent\n",
       ":   0company\n",
       ":   0days_in_waiting_list\n",
       ":   0customer_type\n",
       ":   0adr\n",
       ":   0required_car_parking_spaces\n",
       ":   0total_of_special_requests\n",
       ":   0\n",
       "\n"
      ],
      "text/plain": [
       "                         hotel                    is_canceled \n",
       "                             0                              0 \n",
       "                     lead_time              arrival_date_year \n",
       "                             0                              0 \n",
       "            arrival_date_month       arrival_date_week_number \n",
       "                             0                              0 \n",
       "     arrival_date_day_of_month        stays_in_weekend_nights \n",
       "                             0                              0 \n",
       "          stays_in_week_nights                         adults \n",
       "                             0                              0 \n",
       "                      children                         babies \n",
       "                             0                              0 \n",
       "                          meal                        country \n",
       "                             0                              0 \n",
       "                market_segment           distribution_channel \n",
       "                             0                              0 \n",
       "             is_repeated_guest         previous_cancellations \n",
       "                             0                              0 \n",
       "previous_bookings_not_canceled             reserved_room_type \n",
       "                             0                              0 \n",
       "            assigned_room_type                booking_changes \n",
       "                             0                              0 \n",
       "                  deposit_type                          agent \n",
       "                             0                              0 \n",
       "                       company           days_in_waiting_list \n",
       "                             0                              0 \n",
       "                 customer_type                            adr \n",
       "                             0                              0 \n",
       "   required_car_parking_spaces      total_of_special_requests \n",
       "                             0                              0 "
      ]
     },
     "metadata": {},
     "output_type": "display_data"
    }
   ],
   "source": [
    "colSums(is.na(data) | data == \"NULL\")"
   ]
  },
  {
   "cell_type": "markdown",
   "id": "19b59feb",
   "metadata": {},
   "source": [
    "### Removing the outliers in lead time\n",
    "We assume that the guest is allowed to reserve a room up to 400 days in advance.  \n",
    "So, we remove the guests with more than 400 lead time which represent about 1.77%."
   ]
  },
  {
   "cell_type": "code",
   "execution_count": 95,
   "id": "1d0579f8",
   "metadata": {
    "ExecuteTime": {
     "end_time": "2022-05-18T12:47:45.705935Z",
     "start_time": "2022-05-18T12:47:45.630Z"
    },
    "vscode": {
     "languageId": "r"
    }
   },
   "outputs": [
    {
     "data": {
      "text/html": [
       "'Percentage data that has lead time greater than 400 days is 1.77%'"
      ],
      "text/latex": [
       "'Percentage data that has lead time greater than 400 days is 1.77\\%'"
      ],
      "text/markdown": [
       "'Percentage data that has lead time greater than 400 days is 1.77%'"
      ],
      "text/plain": [
       "[1] \"Percentage data that has lead time greater than 400 days is 1.77%\""
      ]
     },
     "metadata": {},
     "output_type": "display_data"
    }
   ],
   "source": [
    "threshold = 400\n",
    "outliers = data[data$lead_time > threshold, ]\n",
    "\n",
    "percentage = nrow(outliers)/nrow(data) * 100\n",
    "sprintf(\"Percentage data that has lead time greater than %d days is %.2f%%\", threshold, percentage)\n",
    "\n",
    "data = data[data$lead_time <= threshold, ]"
   ]
  },
  {
   "cell_type": "markdown",
   "id": "1261be3d",
   "metadata": {},
   "source": [
    "### Dropping entries with 0 total nights"
   ]
  },
  {
   "cell_type": "code",
   "execution_count": 96,
   "id": "731d0fa2",
   "metadata": {
    "ExecuteTime": {
     "end_time": "2022-05-18T12:47:46.488466Z",
     "start_time": "2022-05-18T12:47:46.431Z"
    },
    "vscode": {
     "languageId": "r"
    }
   },
   "outputs": [],
   "source": [
    "data = data[data$stays_in_weekend_nights + data$stays_in_week_nights > 0,]"
   ]
  },
  {
   "cell_type": "markdown",
   "id": "917438bb",
   "metadata": {},
   "source": [
    "### Dropping entries with 0 guests"
   ]
  },
  {
   "cell_type": "code",
   "execution_count": 97,
   "id": "a3b35122",
   "metadata": {
    "ExecuteTime": {
     "end_time": "2022-05-18T12:47:47.018655Z",
     "start_time": "2022-05-18T12:47:46.958Z"
    },
    "vscode": {
     "languageId": "r"
    }
   },
   "outputs": [],
   "source": [
    "data = data[data$adults + data$children + data$babies > 0,]"
   ]
  },
  {
   "cell_type": "markdown",
   "id": "21ace796",
   "metadata": {},
   "source": [
    "### Dropping entries of repeat guests with no previous data\n",
    "repeat guests should have at least one previous booking"
   ]
  },
  {
   "cell_type": "code",
   "execution_count": 98,
   "id": "11b801c1",
   "metadata": {
    "ExecuteTime": {
     "end_time": "2022-05-18T12:47:47.552321Z",
     "start_time": "2022-05-18T12:47:47.489Z"
    },
    "vscode": {
     "languageId": "r"
    }
   },
   "outputs": [],
   "source": [
    "filtered = !(data$is_repeated_guest==1 & (data$previous_cancellations + data$previous_bookings_not_canceled == 0))\n",
    "data = data[filtered,]"
   ]
  },
  {
   "cell_type": "markdown",
   "id": "075f20d3",
   "metadata": {},
   "source": [
    "# Classifiers "
   ]
  },
  {
   "cell_type": "markdown",
   "id": "088ea6f7",
   "metadata": {},
   "source": [
    "### Data splitting"
   ]
  },
  {
   "cell_type": "code",
   "execution_count": 99,
   "id": "d1368662",
   "metadata": {
    "ExecuteTime": {
     "end_time": "2022-05-18T12:47:49.559494Z",
     "start_time": "2022-05-18T12:47:49.453Z"
    },
    "vscode": {
     "languageId": "r"
    }
   },
   "outputs": [
    {
     "data": {
      "text/html": [
       "<style>\n",
       ".list-inline {list-style: none; margin:0; padding: 0}\n",
       ".list-inline>li {display: inline-block}\n",
       ".list-inline>li:not(:last-child)::after {content: \"\\00b7\"; padding: 0 .5ex}\n",
       "</style>\n",
       "<ol class=list-inline><li>92912</li><li>30</li></ol>\n"
      ],
      "text/latex": [
       "\\begin{enumerate*}\n",
       "\\item 92912\n",
       "\\item 30\n",
       "\\end{enumerate*}\n"
      ],
      "text/markdown": [
       "1. 92912\n",
       "2. 30\n",
       "\n",
       "\n"
      ],
      "text/plain": [
       "[1] 92912    30"
      ]
     },
     "metadata": {},
     "output_type": "display_data"
    },
    {
     "data": {
      "text/html": [
       "<style>\n",
       ".list-inline {list-style: none; margin:0; padding: 0}\n",
       ".list-inline>li {display: inline-block}\n",
       ".list-inline>li:not(:last-child)::after {content: \"\\00b7\"; padding: 0 .5ex}\n",
       "</style>\n",
       "<ol class=list-inline><li>23229</li><li>30</li></ol>\n"
      ],
      "text/latex": [
       "\\begin{enumerate*}\n",
       "\\item 23229\n",
       "\\item 30\n",
       "\\end{enumerate*}\n"
      ],
      "text/markdown": [
       "1. 23229\n",
       "2. 30\n",
       "\n",
       "\n"
      ],
      "text/plain": [
       "[1] 23229    30"
      ]
     },
     "metadata": {},
     "output_type": "display_data"
    }
   ],
   "source": [
    "set.seed(101) # Set Seed so that same sample can be reproduced in future also\n",
    "# Now Selecting 75% of data as sample from total 'n' rows of the data  \n",
    "sample <- sample.int(n = nrow(data), size = floor(.8*nrow(data)), replace = F)\n",
    "train <- data[sample, ]\n",
    "test  <- data[-sample, ]\n",
    "dim(train)\n",
    "dim(test)\n"
   ]
  },
  {
   "cell_type": "code",
   "execution_count": 19,
   "id": "6b0f3b12",
   "metadata": {
    "ExecuteTime": {
     "end_time": "2022-05-18T12:27:42.359791Z",
     "start_time": "2022-05-18T12:27:12.846Z"
    },
    "vscode": {
     "languageId": "r"
    }
   },
   "outputs": [],
   "source": [
    "tree <- ctree(\n",
    "  is_canceled ~ . , train)\n"
   ]
  },
  {
   "cell_type": "code",
   "execution_count": 20,
   "id": "33368128",
   "metadata": {
    "ExecuteTime": {
     "end_time": "2022-05-18T12:27:43.860234Z",
     "start_time": "2022-05-18T12:27:13.317Z"
    },
    "vscode": {
     "languageId": "r"
    }
   },
   "outputs": [
    {
     "data": {
      "text/plain": [
       "     \n",
       "tpred     0     1\n",
       "    0 53142  6282\n",
       "    1  5746 27742"
      ]
     },
     "metadata": {},
     "output_type": "display_data"
    },
    {
     "data": {
      "text/html": [
       "'Decision tree accuracy on train data is 87.054417'"
      ],
      "text/latex": [
       "'Decision tree accuracy on train data is 87.054417'"
      ],
      "text/markdown": [
       "'Decision tree accuracy on train data is 87.054417'"
      ],
      "text/plain": [
       "[1] \"Decision tree accuracy on train data is 87.054417\""
      ]
     },
     "metadata": {},
     "output_type": "display_data"
    }
   ],
   "source": [
    "tpred <- predict(tree, train, type= \"response\")\n",
    "table(tpred, train$is_canceled)\n",
    "acc <- mean(tpred == train$is_canceled)*100\n",
    "sprintf(\"Decision tree accuracy on train data is %f\", acc)\n"
   ]
  },
  {
   "cell_type": "code",
   "execution_count": 21,
   "id": "eea2001e",
   "metadata": {
    "ExecuteTime": {
     "end_time": "2022-05-18T12:27:44.429712Z",
     "start_time": "2022-05-18T12:27:14.015Z"
    },
    "vscode": {
     "languageId": "r"
    }
   },
   "outputs": [
    {
     "data": {
      "text/html": [
       "86.193981660855"
      ],
      "text/latex": [
       "86.193981660855"
      ],
      "text/markdown": [
       "86.193981660855"
      ],
      "text/plain": [
       "[1] 86.19398"
      ]
     },
     "metadata": {},
     "output_type": "display_data"
    }
   ],
   "source": [
    "tpred <- predict(tree, test, type=\"response\")\n",
    "mean(tpred == test$is_canceled)*100\n"
   ]
  },
  {
   "cell_type": "code",
   "execution_count": 22,
   "id": "77e3b48f",
   "metadata": {
    "ExecuteTime": {
     "end_time": "2022-05-18T12:31:06.699456Z",
     "start_time": "2022-05-18T12:27:52.051Z"
    },
    "vscode": {
     "languageId": "r"
    }
   },
   "outputs": [
    {
     "name": "stdout",
     "output_type": "stream",
     "text": [
      "\n",
      "Call:\n",
      " randomForest(formula = is_canceled ~ ., data = train) \n",
      "               Type of random forest: classification\n",
      "                     Number of trees: 500\n",
      "No. of variables tried at each split: 5\n",
      "\n",
      "        OOB estimate of  error rate: 10.48%\n",
      "Confusion matrix:\n",
      "      0     1 class.error\n",
      "0 54649  4239  0.07198411\n",
      "1  5502 28522  0.16170938\n"
     ]
    }
   ],
   "source": [
    "\n",
    "rf <- randomForest(is_canceled ~., train)\n",
    "print(rf)"
   ]
  },
  {
   "cell_type": "code",
   "execution_count": 23,
   "id": "0293b92d",
   "metadata": {
    "ExecuteTime": {
     "end_time": "2022-05-18T12:31:12.678050Z",
     "start_time": "2022-05-18T12:31:12.593Z"
    },
    "vscode": {
     "languageId": "r"
    }
   },
   "outputs": [
    {
     "data": {
      "image/png": "[encoded data removed]",
      "text/plain": [
       "Plot with title \"rf\""
      ]
     },
     "metadata": {
      "image/png": {
       "height": 420,
       "width": 420
      }
     },
     "output_type": "display_data"
    }
   ],
   "source": [
    "varImpPlot(rf)\n"
   ]
  },
  {
   "cell_type": "code",
   "execution_count": 24,
   "id": "7c93359e",
   "metadata": {
    "ExecuteTime": {
     "end_time": "2022-05-18T12:31:20.363512Z",
     "start_time": "2022-05-18T12:31:17.099Z"
    }
   },
   "outputs": [
    {
     "data": {
      "text/html": [
       "89.500193723363"
      ],
      "text/latex": [
       "89.500193723363"
      ],
      "text/markdown": [
       "89.500193723363"
      ],
      "text/plain": [
       "[1] 89.50019"
      ]
     },
     "metadata": {},
     "output_type": "display_data"
    }
   ],
   "source": [
    "tpred <- predict(rf, test, type=\"response\")\n",
    "mean(tpred == test$is_canceled)*100"
   ]
  },
  {
   "cell_type": "code",
   "execution_count": 25,
   "id": "0dff6a41",
   "metadata": {
    "ExecuteTime": {
     "end_time": "2022-05-18T12:31:29.842883Z",
     "start_time": "2022-05-18T12:31:17.485Z"
    }
   },
   "outputs": [
    {
     "data": {
      "text/html": [
       "98.924789047701"
      ],
      "text/latex": [
       "98.924789047701"
      ],
      "text/markdown": [
       "98.924789047701"
      ],
      "text/plain": [
       "[1] 98.92479"
      ]
     },
     "metadata": {},
     "output_type": "display_data"
    }
   ],
   "source": [
    "tpred <- predict(rf, train, type=\"response\")\n",
    "mean(tpred == train$is_canceled)*100"
   ]
  },
  {
   "cell_type": "markdown",
   "id": "795fe0a0",
   "metadata": {},
   "source": [
    "# Data Visualization"
   ]
  },
  {
   "cell_type": "markdown",
   "id": "717b6001",
   "metadata": {},
   "source": [
    "### Which hotel has more bookings?"
   ]
  },
  {
   "cell_type": "code",
   "execution_count": null,
   "id": "40f025e9",
   "metadata": {
    "ExecuteTime": {
     "start_time": "2022-05-18T12:25:20.829Z"
    },
    "vscode": {
     "languageId": "r"
    }
   },
   "outputs": [],
   "source": [
    "hotel <- table(data$hotel)\n",
    "hotel_types <- c(\"City Hotel\", \"Resort Hotel\")\n",
    "\n",
    "pie_percent<- paste(hotel_types, round(100*hotel/sum(hotel), 1), sep=\"\\n\") \n",
    "pie_percent<- paste(pie_percent, \"%\", sep=\"\") \n",
    "pie(hotel, main = \"Hotel Types Rate\", labels=pie_percent, col = colors)"
   ]
  },
  {
   "cell_type": "markdown",
   "id": "7e7d8a33",
   "metadata": {},
   "source": [
    "The figure shows that City hotel has much more bookings in the period\n",
    "between the 1st of July of 2015 and the 31st of August 2017"
   ]
  },
  {
   "cell_type": "markdown",
   "id": "f91ca04a",
   "metadata": {},
   "source": [
    "### How likely are guests to cancel their booking in both hotels?"
   ]
  },
  {
   "cell_type": "code",
   "execution_count": 28,
   "id": "6fc15a24",
   "metadata": {
    "vscode": {
     "languageId": "r"
    }
   },
   "outputs": [
    {
     "data": {
      "image/png": "[encoded data removed]",
      "text/plain": [
       "Plot with title \"Cancellation Rate\""
      ]
     },
     "metadata": {
      "image/png": {
       "height": 420,
       "width": 420
      }
     },
     "output_type": "display_data"
    }
   ],
   "source": [
    "cancel <- table(data$is_canceled)\n",
    "cancel_label <- c(\"Not Cancelled\", \"Cancelled\")\n",
    "\n",
    "pie_percent<- paste(cancel_label, round(100*cancel/sum(cancel), 1), sep=\"\\n\") \n",
    "pie_percent<- paste(pie_percent, \"%\", sep=\"\") \n",
    "pie(hotel, main = \"Cancellation Rate\", labels=pie_percent, col = colors)"
   ]
  },
  {
   "cell_type": "markdown",
   "id": "425a6871",
   "metadata": {},
   "source": [
    "More than one third of the bookings are being cancelled"
   ]
  },
  {
   "cell_type": "code",
   "execution_count": 29,
   "id": "b5fd247b",
   "metadata": {
    "vscode": {
     "languageId": "r"
    }
   },
   "outputs": [
    {
     "data": {
      "image/png": "[encoded data removed]",
      "text/plain": [
       "Plot with title \"Cancellation percentage for City and Resort Hotels\""
      ]
     },
     "metadata": {
      "image/png": {
       "height": 420,
       "width": 420
      }
     },
     "output_type": "display_data"
    }
   ],
   "source": [
    "labels <- c(\"not cancelled\", \"cancelled\")\n",
    "\n",
    "hotel_cancel <- t(prop.table(table(data$hotel, data$is_canceled), margin = 1)*100)\n",
    "\n",
    "barplot(hotel_cancel, beside = T, main = \"Cancellation percentage for City and Resort Hotels\", \n",
    "        , ylim= c(0,100), ylab = \"cancellation percentage\", legend.text = labels, col = colors)"
   ]
  },
  {
   "cell_type": "markdown",
   "id": "494075ff",
   "metadata": {},
   "source": [
    "Most of the Cancellations happen in City hotel which has about 42% cancellations of all its bookings"
   ]
  },
  {
   "cell_type": "markdown",
   "id": "35a141c3",
   "metadata": {},
   "source": [
    "### Which month has the highest booking rate for each hotel? "
   ]
  },
  {
   "cell_type": "code",
   "execution_count": 30,
   "id": "ad854c37",
   "metadata": {
    "vscode": {
     "languageId": "r"
    }
   },
   "outputs": [
    {
     "data": {
      "text/plain": [
       "\n",
       "  Jan   Feb   Mar   Apr   May   Jun   Jul   Aug   Sep   Oct   Nov   Dec \n",
       " 5758  7886  9607 11008 11418 10771 12158 13503 10132 10794  6594  6512 "
      ]
     },
     "metadata": {},
     "output_type": "display_data"
    },
    {
     "data": {
      "text/plain": [
       "\n",
       " Jan  Feb  Mar  Apr  May  Jun  Jul  Aug  Sep  Oct  Nov  Dec \n",
       "3635 4847 6320 7435 8008 7764 7641 8669 7066 7304 4198 3933 "
      ]
     },
     "metadata": {},
     "output_type": "display_data"
    },
    {
     "data": {
      "image/png": "[encoded data removed]",
      "text/plain": [
       "Plot with title \"Bookings count for each month\""
      ]
     },
     "metadata": {
      "image/png": {
       "height": 420,
       "width": 420
      }
     },
     "output_type": "display_data"
    }
   ],
   "source": [
    "hotel_month <- table(data$hotel, data$arrival_date_month)\n",
    "table(data$arrival_date_month)\n",
    "city_month = table(data[data$hotel=='City Hotel',]$arrival_date_month)\n",
    "resort_month = table(data[data$hotel=='Resort Hotel',]$arrival_date_month)\n",
    "city_month\n",
    "plot(city_month, xlab = \"Month\", ylab = \"count\", main = \"Bookings count for each month\", type=\"l\", col = \"#8300fd\")\n",
    "lines(resort_month, col = red, type=\"l\")\n",
    "legend(\"topleft\", legend=c(\"City\", \"Resort\"),\n",
    "       col=colors, lty=c(1,1))"
   ]
  },
  {
   "cell_type": "markdown",
   "id": "2f8762e4",
   "metadata": {},
   "source": [
    "As the figure shows, the two hotels reach their highest booking rate in the summer especially in August  \n",
    "and their lowest booking rate comes between December and January.  \n",
    "The changes in the two graph show that they almost have the same ups and downs but city hotel has higher rate all the time.\n"
   ]
  },
  {
   "cell_type": "markdown",
   "id": "fcbdf3e6",
   "metadata": {},
   "source": [
    "### How does meal choice affect the guest probability of cancellation?\n",
    "It might be strange but this experiment shows that the people who order the full board meal  \n",
    "are more likely to cancel their booking and the people who don't order any meal are more  \n",
    "likely not to cancel"
   ]
  },
  {
   "cell_type": "code",
   "execution_count": 31,
   "id": "8dd148ee",
   "metadata": {
    "scrolled": false,
    "vscode": {
     "languageId": "r"
    }
   },
   "outputs": [
    {
     "data": {
      "image/png": "[encoded data removed]",
      "text/plain": [
       "Plot with title \"Meal choice effect on Cancellation\""
      ]
     },
     "metadata": {
      "image/png": {
       "height": 420,
       "width": 420
      }
     },
     "output_type": "display_data"
    }
   ],
   "source": [
    "labels <- c(\"not cancelled\", \"cancelled\")\n",
    "\n",
    "mean_cancel <- t(prop.table(table(data$meal, data$is_canceled), margin = 1) * 100)\n",
    "\n",
    "barplot(mean_cancel, beside = T, main = \"Meal choice effect on Cancellation\", \n",
    "        ylab = \"cancellation percentage\", ylim = c(0,100), legend.text = labels, col=colors)\n",
    "# barplot(mean_cancel[, -c(2, 5)], legend.text = labels, col=colors)\n",
    "# barplot(mean_cancel[, c(2, 5)], legend.text = labels, col=colors)"
   ]
  },
  {
   "cell_type": "markdown",
   "id": "ac655c17",
   "metadata": {},
   "source": [
    "### How many repeat guests does each hotel have?"
   ]
  },
  {
   "cell_type": "code",
   "execution_count": 32,
   "id": "656a0957",
   "metadata": {
    "vscode": {
     "languageId": "r"
    }
   },
   "outputs": [
    {
     "data": {
      "image/png": "[encoded data removed]",
      "text/plain": [
       "Plot with title \"City Hotel\""
      ]
     },
     "metadata": {
      "image/png": {
       "height": 420,
       "width": 420
      }
     },
     "output_type": "display_data"
    },
    {
     "data": {
      "image/png": "[encoded data removed]",
      "text/plain": [
       "Plot with title \"Resort Hotel\""
      ]
     },
     "metadata": {
      "image/png": {
       "height": 420,
       "width": 420
      }
     },
     "output_type": "display_data"
    }
   ],
   "source": [
    "hotel_repeted <- table(data$is_repeated_guest, data$hotel)\n",
    "\n",
    "repeat_city <- table(data[data$hotel == \"City Hotel\",]$is_repeated_guest)\n",
    "repeat_resort <- table(data[data$hotel == \"Resort Hotel\",]$is_repeated_guest)\n",
    "\n",
    "repeat_labels <- c(\"New Guest\",\"Repeat Guest\")\n",
    "\n",
    "pie_percent<- paste(repeat_labels, round(100*repeat_city/sum(repeat_city), 1), sep=\"\\n\") \n",
    "pie_percent<- paste(pie_percent, \"%\", sep=\"\") \n",
    "pie(repeat_city, labels=pie_percent, main = \"City Hotel\", col = colors)\n",
    "\n",
    "pie_percent<- paste(repeat_labels, round(100*repeat_resort/sum(repeat_resort), 1), sep=\"\\n\") \n",
    "pie_percent<- paste(pie_percent, \"%\", sep=\"\") \n",
    "pie(repeat_resort, labels=pie_percent, main = \"Resort Hotel\", col = colors)"
   ]
  },
  {
   "cell_type": "markdown",
   "id": "9c2e3444",
   "metadata": {},
   "source": [
    " It's clear that most of the guests of the two hotels don't book in them again and  \n",
    " only less than 4% return back to the hotels.  \n",
    " So, the hotels should seach for the reasons behind that."
   ]
  },
  {
   "cell_type": "markdown",
   "id": "914ce5b8",
   "metadata": {},
   "source": [
    "### How many times do the repeat guests come back to each hotel?"
   ]
  },
  {
   "cell_type": "code",
   "execution_count": 33,
   "id": "1d925af9",
   "metadata": {
    "vscode": {
     "languageId": "r"
    }
   },
   "outputs": [
    {
     "data": {
      "image/png": "[encoded data removed]",
      "text/plain": [
       "plot without title"
      ]
     },
     "metadata": {
      "image/png": {
       "height": 420,
       "width": 420
      }
     },
     "output_type": "display_data"
    }
   ],
   "source": [
    "barplot(table(data$previous_bookings_not_canceled)[-1], col = c(purple))"
   ]
  },
  {
   "cell_type": "markdown",
   "id": "835d67c9",
   "metadata": {},
   "source": [
    "Most of the repeat guests have only one previous visit and  \n",
    "the number decreases with increasing the number of visits"
   ]
  },
  {
   "cell_type": "markdown",
   "id": "5b826f9f",
   "metadata": {},
   "source": [
    "### Which month has the highest cancellations?"
   ]
  },
  {
   "cell_type": "code",
   "execution_count": 34,
   "id": "aa156408",
   "metadata": {
    "vscode": {
     "languageId": "r"
    }
   },
   "outputs": [
    {
     "data": {
      "image/png": "[encoded data removed]",
      "text/plain": [
       "Plot with title \"Number of cancellations on each month\""
      ]
     },
     "metadata": {
      "image/png": {
       "height": 420,
       "width": 420
      }
     },
     "output_type": "display_data"
    }
   ],
   "source": [
    "labels <- c(\"not cancelled\", \"cancelled\")\n",
    "\n",
    "month_cancel <- table(data$is_canceled, data$arrival_date_month)\n",
    "\n",
    "barplot(month_cancel, beside = T, main = \"Number of cancellations on each month\",\n",
    "        ylab = \"Number of bookings\",legend.text = labels, col = colors)\n"
   ]
  },
  {
   "cell_type": "markdown",
   "id": "d4034050",
   "metadata": {},
   "source": [
    "Since August is the highest in the bookings, it's also the highest one in cancellation.  \n",
    "It's also obvious that the cancellations increase in the summer and decrease in the winter.  \n",
    "January has the lowest number of cancellations."
   ]
  },
  {
   "cell_type": "markdown",
   "id": "e9f5f35a",
   "metadata": {},
   "source": [
    "### Where are the guests from?"
   ]
  },
  {
   "cell_type": "code",
   "execution_count": 35,
   "id": "e65f5359",
   "metadata": {
    "vscode": {
     "languageId": "r"
    }
   },
   "outputs": [
    {
     "name": "stdout",
     "output_type": "stream",
     "text": [
      "  AUT    CN   CHE   USA   NLD   BRA   BEL   IRL   ITA   DEU   ESP OTHER   FRA \n",
      " 1256  1267  1720  2066  2094  2212  2334  3363  3746  7016  8528  9728 10350 \n",
      "  GBR   PRT \n",
      "11868 46223 \n"
     ]
    },
    {
     "data": {
      "image/png": "[encoded data removed]",
      "text/plain": [
       "Plot with title \"Guests Countries\""
      ]
     },
     "metadata": {
      "image/png": {
       "height": 420,
       "width": 420
      }
     },
     "output_type": "display_data"
    }
   ],
   "source": [
    "th = 1200\n",
    "countries = table(data$country)\n",
    "filtered_countries = countries[countries > th]\n",
    "filtered_countries[\"OTHER\"] = sum(countries[countries <= th])\n",
    "filtered_countries = sort(filtered_countries)\n",
    "print(filtered_countries)\n",
    "\n",
    "labels = names(filtered_countries)\n",
    "\n",
    "pie_percent<- paste(labels, round(100*filtered_countries/sum(filtered_countries), 1), sep=\" \") \n",
    "pie_percent<- paste(pie_percent, \"%\", sep=\"\")\n",
    "\n",
    "pie(filtered_countries, main = \"Guests Countries\", labels=pie_percent, col = rainbow(length(filtered_countries)))"
   ]
  },
  {
   "cell_type": "markdown",
   "id": "7845fee4",
   "metadata": {},
   "source": [
    "The guests come from many different countries, but most of them come from Portuguese which is the country of the hotels."
   ]
  },
  {
   "cell_type": "markdown",
   "id": "556bba14",
   "metadata": {},
   "source": [
    "### Does assigning a different room type than the reserved one affect the chance of cancellation?\n",
    "Sometimes the assigned room type differs from the reserved room type due to   \n",
    "hotel operation reasons (e.g. overbooking) or by customer request."
   ]
  },
  {
   "cell_type": "code",
   "execution_count": 36,
   "id": "0caca5bb",
   "metadata": {
    "vscode": {
     "languageId": "r"
    }
   },
   "outputs": [
    {
     "data": {
      "image/png": "[encoded data removed]",
      "text/plain": [
       "Plot with title \"Assigned Room Type Vs Reserved Room Type\""
      ]
     },
     "metadata": {
      "image/png": {
       "height": 420,
       "width": 420
      }
     },
     "output_type": "display_data"
    }
   ],
   "source": [
    "room_types = c(\"A\", \"B\", \"C\", \"D\", \"E\", \"F\", \"G\", \"H\", \"I\", \"K\",\"L\", \"P\")\n",
    "f1 = factor(data$assigned_room_type, levels = room_types)\n",
    "f2 = factor(data$reserved_room_type, levels = room_types)\n",
    "\n",
    "\n",
    "labels <- c(\"not cancelled\", \"cancelled\")\n",
    "\n",
    "room_cancel <- prop.table(table(f1 == f2, data$is_canceled), margin=1)*100\n",
    "rownames(room_cancel) = c(\"Different\", \"Same\")\n",
    "room_cancel <- t(room_cancel)\n",
    "\n",
    "barplot(room_cancel, beside = T, main = \"Assigned Room Type Vs Reserved Room Type\",\n",
    "        ylab = \"cancellation percentage\",legend.text = labels, col = colors)"
   ]
  },
  {
   "cell_type": "markdown",
   "id": "ac6bd287",
   "metadata": {},
   "source": [
    "Unexpectedly, The guests who are assigned a room type different than the reserved one are  more likely not to cancel the booking.  \n",
    "This can be because some of the differences were by the customers' requests and not all of them due to overbooking."
   ]
  },
  {
   "cell_type": "markdown",
   "id": "26b9a34f",
   "metadata": {},
   "source": [
    "### What is the effect of the Deposit type on the likelihood of cancellation?"
   ]
  },
  {
   "cell_type": "code",
   "execution_count": 37,
   "id": "1039f11b",
   "metadata": {
    "scrolled": false,
    "vscode": {
     "languageId": "r"
    }
   },
   "outputs": [
    {
     "data": {
      "text/plain": [
       "   \n",
       "    No Deposit Non Refund Refundable\n",
       "  0 71.3501305  0.6935545 77.5000000\n",
       "  1 28.6498695 99.3064455 22.5000000"
      ]
     },
     "metadata": {},
     "output_type": "display_data"
    },
    {
     "data": {
      "image/png": "[encoded data removed]",
      "text/plain": [
       "Plot with title \"Cancellations based on Deposit Type\""
      ]
     },
     "metadata": {
      "image/png": {
       "height": 420,
       "width": 420
      }
     },
     "output_type": "display_data"
    }
   ],
   "source": [
    "labels <- c(\"not cancelled\", \"cancelled\")\n",
    "\n",
    "deposit_cancellation <- t(prop.table(table(data$deposit_type, data$is_canceled), margin=1)*100)\n",
    "deposit_cancellation\n",
    "\n",
    "barplot(deposit_cancellation, beside = T, ylim = c(0,100),\n",
    "        main = \"Cancellations based on Deposit Type\",ylab = \"cancellation percentage\",legend.text = labels, col = colors)\n"
   ]
  },
  {
   "cell_type": "markdown",
   "id": "04c66f54",
   "metadata": {},
   "source": [
    "Another unusual pattern in the data, The figure shows that almost all the people that made a deposit  \n",
    "in the value of the total stay cost (Non Refund) cancel their bookings."
   ]
  },
  {
   "cell_type": "markdown",
   "id": "64acbdfb",
   "metadata": {},
   "source": [
    "### How many nights do the guests stay in each hotel?"
   ]
  },
  {
   "cell_type": "code",
   "execution_count": 38,
   "id": "92db2c45",
   "metadata": {
    "scrolled": false,
    "vscode": {
     "languageId": "r"
    }
   },
   "outputs": [
    {
     "data": {
      "image/png": "[encoded data removed]",
      "text/plain": [
       "Plot with title \"Total nights at the hotel\""
      ]
     },
     "metadata": {
      "image/png": {
       "height": 420,
       "width": 420
      }
     },
     "output_type": "display_data"
    }
   ],
   "source": [
    "labels <- c(\"City Hotel\", \"Resort Hotel\")\n",
    "\n",
    "\n",
    "total_nights = data$stays_in_weekend_nights + data$stays_in_week_nights\n",
    "hotel_nights = prop.table(table(total_nights, data$hotel), margin=2)*100\n",
    "hotel_nights = t(hotel_nights)\n",
    "\n",
    "barplot(hotel_nights, beside = T, ylim = c(0,30), main = \"Total nights at the hotel\",\n",
    "        xlab = 'Total Nights', ylab = 'bookings percentage', legend.text = labels, col = colors)"
   ]
  },
  {
   "cell_type": "markdown",
   "id": "268799e4",
   "metadata": {},
   "source": [
    "Most of the guests book one or two or three nights in the two hotels."
   ]
  }
 ],
 "metadata": {
  "interpreter": {
   "hash": "e5356a0cc24ab421f3fea7505d1e0be20cb885e675eb5d16ff02cf791c65a604"
  },
  "kernelspec": {
   "display_name": "R",
   "language": "R",
   "name": "ir"
  },
  "language_info": {
   "codemirror_mode": "r",
   "file_extension": ".r",
   "mimetype": "text/x-r-source",
   "name": "R",
   "pygments_lexer": "r",
   "version": "3.6.1"
  },
  "latex_envs": {
   "LaTeX_envs_menu_present": true,
   "autoclose": false,
   "autocomplete": true,
   "bibliofile": "biblio.bib",
   "cite_by": "apalike",
   "current_citInitial": 1,
   "eqLabelWithNumbers": true,
   "eqNumInitial": 1,
   "hotkeys": {
    "equation": "Ctrl-E",
    "itemize": "Ctrl-I"
   },
   "labels_anchors": false,
   "latex_user_defs": false,
   "report_style_numbering": false,
   "user_envs_cfg": false
  },
  "toc": {
   "base_numbering": 1,
   "nav_menu": {},
   "number_sections": false,
   "sideBar": true,
   "skip_h1_title": false,
   "title_cell": "Table of Contents",
   "title_sidebar": "Contents",
   "toc_cell": false,
   "toc_position": {},
   "toc_section_display": true,
   "toc_window_display": false
  },
  "varInspector": {
   "cols": {
    "lenName": 16,
    "lenType": 16,
    "lenVar": 40
   },
   "kernels_config": {
    "python": {
     "delete_cmd_postfix": "",
     "delete_cmd_prefix": "del ",
     "library": "var_list.py",
     "varRefreshCmd": "print(var_dic_list())"
    },
    "r": {
     "delete_cmd_postfix": ") ",
     "delete_cmd_prefix": "rm(",
     "library": "var_list.r",
     "varRefreshCmd": "cat(var_dic_list()) "
    }
   },
   "types_to_exclude": [
    "module",
    "function",
    "builtin_function_or_method",
    "instance",
    "_Feature"
   ],
   "window_display": false
  }
 },
 "nbformat": 4,
 "nbformat_minor": 5
}
