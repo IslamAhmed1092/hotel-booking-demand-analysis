{
 "cells": [
  {
   "cell_type": "code",
   "execution_count": 1,
   "id": "2acf4918",
   "metadata": {
    "ExecuteTime": {
     "end_time": "2022-05-22T15:58:36.841190Z",
     "start_time": "2022-05-22T15:58:35.858198Z"
    }
   },
   "outputs": [],
   "source": [
    "import numpy as np\n",
    "import pandas as pd\n",
    "import matplotlib.pyplot as plt\n",
    "from sklearn.model_selection import train_test_split\n",
    "from sklearn.feature_selection import SelectKBest\n",
    "from sklearn.feature_selection import chi2\n",
    "import category_encoders as ce \n",
    "\n",
    "from sklearn.model_selection import GridSearchCV\n",
    "from sklearn.preprocessing import StandardScaler\n",
    "from sklearn.metrics import accuracy_score, confusion_matrix, classification_report\n",
    "from sklearn.linear_model import LogisticRegression\n",
    "from sklearn.neighbors import KNeighborsClassifier\n",
    "from sklearn.svm import SVC\n",
    "from sklearn.tree import DecisionTreeClassifier\n",
    "from sklearn.ensemble import RandomForestClassifier\n",
    "from sklearn.ensemble import RandomForestClassifier\n",
    "from sklearn.ensemble import AdaBoostClassifier\n",
    "from sklearn.ensemble import GradientBoostingClassifier\n",
    "from xgboost import XGBClassifier\n",
    "from catboost import CatBoostClassifier\n",
    "from sklearn.ensemble import ExtraTreesClassifier\n",
    "from lightgbm import LGBMClassifier\n",
    "from sklearn.ensemble import VotingClassifier"
   ]
  },
  {
   "cell_type": "code",
   "execution_count": 2,
   "id": "d6a80293",
   "metadata": {
    "ExecuteTime": {
     "end_time": "2022-05-22T15:58:37.048216Z",
     "start_time": "2022-05-22T15:58:36.842272Z"
    }
   },
   "outputs": [],
   "source": [
    "data = pd.read_csv('data_cleaned.csv')"
   ]
  },
  {
   "cell_type": "code",
   "execution_count": 3,
   "id": "02dc906f",
   "metadata": {
    "ExecuteTime": {
     "end_time": "2022-05-22T15:58:37.069812Z",
     "start_time": "2022-05-22T15:58:37.051332Z"
    }
   },
   "outputs": [
    {
     "data": {
      "text/html": [
       "<div>\n",
       "<style scoped>\n",
       "    .dataframe tbody tr th:only-of-type {\n",
       "        vertical-align: middle;\n",
       "    }\n",
       "\n",
       "    .dataframe tbody tr th {\n",
       "        vertical-align: top;\n",
       "    }\n",
       "\n",
       "    .dataframe thead th {\n",
       "        text-align: right;\n",
       "    }\n",
       "</style>\n",
       "<table border=\"1\" class=\"dataframe\">\n",
       "  <thead>\n",
       "    <tr style=\"text-align: right;\">\n",
       "      <th></th>\n",
       "      <th>hotel</th>\n",
       "      <th>is_canceled</th>\n",
       "      <th>lead_time</th>\n",
       "      <th>arrival_date_year</th>\n",
       "      <th>arrival_date_month</th>\n",
       "      <th>arrival_date_week_number</th>\n",
       "      <th>arrival_date_day_of_month</th>\n",
       "      <th>stays_in_weekend_nights</th>\n",
       "      <th>stays_in_week_nights</th>\n",
       "      <th>adults</th>\n",
       "      <th>...</th>\n",
       "      <th>assigned_room_type</th>\n",
       "      <th>booking_changes</th>\n",
       "      <th>deposit_type</th>\n",
       "      <th>agent</th>\n",
       "      <th>company</th>\n",
       "      <th>days_in_waiting_list</th>\n",
       "      <th>customer_type</th>\n",
       "      <th>adr</th>\n",
       "      <th>required_car_parking_spaces</th>\n",
       "      <th>total_of_special_requests</th>\n",
       "    </tr>\n",
       "  </thead>\n",
       "  <tbody>\n",
       "    <tr>\n",
       "      <th>0</th>\n",
       "      <td>Resort Hotel</td>\n",
       "      <td>0</td>\n",
       "      <td>7</td>\n",
       "      <td>2015</td>\n",
       "      <td>Jul</td>\n",
       "      <td>27</td>\n",
       "      <td>1</td>\n",
       "      <td>0</td>\n",
       "      <td>1</td>\n",
       "      <td>1</td>\n",
       "      <td>...</td>\n",
       "      <td>C</td>\n",
       "      <td>0</td>\n",
       "      <td>No Deposit</td>\n",
       "      <td>0</td>\n",
       "      <td>0</td>\n",
       "      <td>0</td>\n",
       "      <td>Transient</td>\n",
       "      <td>75.0</td>\n",
       "      <td>0</td>\n",
       "      <td>0</td>\n",
       "    </tr>\n",
       "    <tr>\n",
       "      <th>1</th>\n",
       "      <td>Resort Hotel</td>\n",
       "      <td>0</td>\n",
       "      <td>13</td>\n",
       "      <td>2015</td>\n",
       "      <td>Jul</td>\n",
       "      <td>27</td>\n",
       "      <td>1</td>\n",
       "      <td>0</td>\n",
       "      <td>1</td>\n",
       "      <td>1</td>\n",
       "      <td>...</td>\n",
       "      <td>A</td>\n",
       "      <td>0</td>\n",
       "      <td>No Deposit</td>\n",
       "      <td>304</td>\n",
       "      <td>0</td>\n",
       "      <td>0</td>\n",
       "      <td>Transient</td>\n",
       "      <td>75.0</td>\n",
       "      <td>0</td>\n",
       "      <td>0</td>\n",
       "    </tr>\n",
       "    <tr>\n",
       "      <th>2</th>\n",
       "      <td>Resort Hotel</td>\n",
       "      <td>0</td>\n",
       "      <td>14</td>\n",
       "      <td>2015</td>\n",
       "      <td>Jul</td>\n",
       "      <td>27</td>\n",
       "      <td>1</td>\n",
       "      <td>0</td>\n",
       "      <td>2</td>\n",
       "      <td>2</td>\n",
       "      <td>...</td>\n",
       "      <td>A</td>\n",
       "      <td>0</td>\n",
       "      <td>No Deposit</td>\n",
       "      <td>240</td>\n",
       "      <td>0</td>\n",
       "      <td>0</td>\n",
       "      <td>Transient</td>\n",
       "      <td>98.0</td>\n",
       "      <td>0</td>\n",
       "      <td>1</td>\n",
       "    </tr>\n",
       "    <tr>\n",
       "      <th>3</th>\n",
       "      <td>Resort Hotel</td>\n",
       "      <td>0</td>\n",
       "      <td>14</td>\n",
       "      <td>2015</td>\n",
       "      <td>Jul</td>\n",
       "      <td>27</td>\n",
       "      <td>1</td>\n",
       "      <td>0</td>\n",
       "      <td>2</td>\n",
       "      <td>2</td>\n",
       "      <td>...</td>\n",
       "      <td>A</td>\n",
       "      <td>0</td>\n",
       "      <td>No Deposit</td>\n",
       "      <td>240</td>\n",
       "      <td>0</td>\n",
       "      <td>0</td>\n",
       "      <td>Transient</td>\n",
       "      <td>98.0</td>\n",
       "      <td>0</td>\n",
       "      <td>1</td>\n",
       "    </tr>\n",
       "    <tr>\n",
       "      <th>4</th>\n",
       "      <td>Resort Hotel</td>\n",
       "      <td>0</td>\n",
       "      <td>0</td>\n",
       "      <td>2015</td>\n",
       "      <td>Jul</td>\n",
       "      <td>27</td>\n",
       "      <td>1</td>\n",
       "      <td>0</td>\n",
       "      <td>2</td>\n",
       "      <td>2</td>\n",
       "      <td>...</td>\n",
       "      <td>C</td>\n",
       "      <td>0</td>\n",
       "      <td>No Deposit</td>\n",
       "      <td>0</td>\n",
       "      <td>0</td>\n",
       "      <td>0</td>\n",
       "      <td>Transient</td>\n",
       "      <td>107.0</td>\n",
       "      <td>0</td>\n",
       "      <td>0</td>\n",
       "    </tr>\n",
       "  </tbody>\n",
       "</table>\n",
       "<p>5 rows × 30 columns</p>\n",
       "</div>"
      ],
      "text/plain": [
       "          hotel  is_canceled  lead_time  arrival_date_year arrival_date_month  \\\n",
       "0  Resort Hotel            0          7               2015                Jul   \n",
       "1  Resort Hotel            0         13               2015                Jul   \n",
       "2  Resort Hotel            0         14               2015                Jul   \n",
       "3  Resort Hotel            0         14               2015                Jul   \n",
       "4  Resort Hotel            0          0               2015                Jul   \n",
       "\n",
       "   arrival_date_week_number  arrival_date_day_of_month  \\\n",
       "0                        27                          1   \n",
       "1                        27                          1   \n",
       "2                        27                          1   \n",
       "3                        27                          1   \n",
       "4                        27                          1   \n",
       "\n",
       "   stays_in_weekend_nights  stays_in_week_nights  adults  ...  \\\n",
       "0                        0                     1       1  ...   \n",
       "1                        0                     1       1  ...   \n",
       "2                        0                     2       2  ...   \n",
       "3                        0                     2       2  ...   \n",
       "4                        0                     2       2  ...   \n",
       "\n",
       "   assigned_room_type  booking_changes deposit_type agent company  \\\n",
       "0                   C                0   No Deposit     0       0   \n",
       "1                   A                0   No Deposit   304       0   \n",
       "2                   A                0   No Deposit   240       0   \n",
       "3                   A                0   No Deposit   240       0   \n",
       "4                   C                0   No Deposit     0       0   \n",
       "\n",
       "  days_in_waiting_list  customer_type    adr  required_car_parking_spaces  \\\n",
       "0                    0      Transient   75.0                            0   \n",
       "1                    0      Transient   75.0                            0   \n",
       "2                    0      Transient   98.0                            0   \n",
       "3                    0      Transient   98.0                            0   \n",
       "4                    0      Transient  107.0                            0   \n",
       "\n",
       "  total_of_special_requests  \n",
       "0                         0  \n",
       "1                         0  \n",
       "2                         1  \n",
       "3                         1  \n",
       "4                         0  \n",
       "\n",
       "[5 rows x 30 columns]"
      ]
     },
     "execution_count": 3,
     "metadata": {},
     "output_type": "execute_result"
    }
   ],
   "source": [
    "data.head()"
   ]
  },
  {
   "cell_type": "code",
   "execution_count": 4,
   "id": "26754d1d",
   "metadata": {
    "ExecuteTime": {
     "end_time": "2022-05-22T15:58:37.076900Z",
     "start_time": "2022-05-22T15:58:37.071204Z"
    }
   },
   "outputs": [
    {
     "data": {
      "text/plain": [
       "hotel                              object\n",
       "is_canceled                         int64\n",
       "lead_time                           int64\n",
       "arrival_date_year                   int64\n",
       "arrival_date_month                 object\n",
       "arrival_date_week_number            int64\n",
       "arrival_date_day_of_month           int64\n",
       "stays_in_weekend_nights             int64\n",
       "stays_in_week_nights                int64\n",
       "adults                              int64\n",
       "children                            int64\n",
       "babies                              int64\n",
       "meal                               object\n",
       "country                            object\n",
       "market_segment                     object\n",
       "distribution_channel               object\n",
       "is_repeated_guest                   int64\n",
       "previous_cancellations              int64\n",
       "previous_bookings_not_canceled      int64\n",
       "reserved_room_type                 object\n",
       "assigned_room_type                 object\n",
       "booking_changes                     int64\n",
       "deposit_type                       object\n",
       "agent                               int64\n",
       "company                             int64\n",
       "days_in_waiting_list                int64\n",
       "customer_type                      object\n",
       "adr                               float64\n",
       "required_car_parking_spaces         int64\n",
       "total_of_special_requests           int64\n",
       "dtype: object"
      ]
     },
     "execution_count": 4,
     "metadata": {},
     "output_type": "execute_result"
    }
   ],
   "source": [
    "data.dtypes"
   ]
  },
  {
   "cell_type": "code",
   "execution_count": 5,
   "id": "50bac43d",
   "metadata": {
    "ExecuteTime": {
     "end_time": "2022-05-22T15:58:37.203184Z",
     "start_time": "2022-05-22T15:58:37.078212Z"
    }
   },
   "outputs": [
    {
     "data": {
      "text/plain": [
       "is_canceled                       1.000000\n",
       "lead_time                         0.280469\n",
       "total_of_special_requests         0.227632\n",
       "required_car_parking_spaces       0.196019\n",
       "booking_changes                   0.141166\n",
       "previous_cancellations            0.111502\n",
       "company                           0.082370\n",
       "is_repeated_guest                 0.071401\n",
       "previous_bookings_not_canceled    0.057268\n",
       "adults                            0.056645\n",
       "days_in_waiting_list              0.054682\n",
       "adr                               0.050939\n",
       "agent                             0.041839\n",
       "babies                            0.031915\n",
       "stays_in_week_nights              0.025311\n",
       "arrival_date_year                 0.014861\n",
       "children                          0.008185\n",
       "arrival_date_day_of_month         0.004809\n",
       "arrival_date_week_number          0.004191\n",
       "stays_in_weekend_nights           0.003031\n",
       "Name: is_canceled, dtype: float64"
      ]
     },
     "execution_count": 5,
     "metadata": {},
     "output_type": "execute_result"
    }
   ],
   "source": [
    "data.corr()['is_canceled'].abs().sort_values(ascending=False)"
   ]
  },
  {
   "cell_type": "code",
   "execution_count": 6,
   "id": "bc5f54f5",
   "metadata": {
    "ExecuteTime": {
     "end_time": "2022-05-22T15:58:37.216973Z",
     "start_time": "2022-05-22T15:58:37.204311Z"
    }
   },
   "outputs": [],
   "source": [
    "X = data.drop(['is_canceled'], axis=1)\n",
    "y = data['is_canceled']"
   ]
  },
  {
   "cell_type": "code",
   "execution_count": 7,
   "id": "af6f2562",
   "metadata": {
    "ExecuteTime": {
     "end_time": "2022-05-22T15:58:37.315218Z",
     "start_time": "2022-05-22T15:58:37.217904Z"
    }
   },
   "outputs": [
    {
     "name": "stdout",
     "output_type": "stream",
     "text": [
      "customer_type(4): \n",
      "['Transient' 'Contract' 'Transient-Party' 'Group']\n",
      "\n",
      "market_segment(8): \n",
      "['Direct' 'Corporate' 'Online TA' 'Offline TA/TO' 'Complementary' 'Groups'\n",
      " 'Undefined' 'Aviation']\n",
      "\n",
      "arrival_date_month(12): \n",
      "['Jul' 'Aug' 'Sep' 'Oct' 'Nov' 'Dec' 'Jan' 'Feb' 'Mar' 'Apr' 'May' 'Jun']\n",
      "\n",
      "assigned_room_type(11): \n",
      "['C' 'A' 'D' 'E' 'G' 'F' 'I' 'B' 'H' 'L' 'K']\n",
      "\n",
      "distribution_channel(5): \n",
      "['Direct' 'Corporate' 'TA/TO' 'Undefined' 'GDS']\n",
      "\n",
      "reserved_room_type(9): \n",
      "['A' 'C' 'D' 'E' 'G' 'F' 'H' 'L' 'B']\n",
      "\n",
      "country(178): \n",
      "['GBR' 'PRT' 'USA' 'ESP' 'IRL' 'FRA' 'UNKNOWN' 'ROU' 'NOR' 'OMN' 'ARG'\n",
      " 'POL' 'DEU' 'BEL' 'CHE' 'CN' 'GRC' 'ITA' 'NLD' 'DNK' 'RUS' 'SWE' 'AUS'\n",
      " 'EST' 'CZE' 'BRA' 'FIN' 'MOZ' 'BWA' 'LUX' 'SVN' 'ALB' 'IND' 'CHN' 'MEX'\n",
      " 'MAR' 'UKR' 'SMR' 'LVA' 'PRI' 'SRB' 'CHL' 'AUT' 'BLR' 'LTU' 'TUR' 'ZAF'\n",
      " 'AGO' 'ISR' 'CYM' 'ZMB' 'CPV' 'ZWE' 'DZA' 'KOR' 'CRI' 'HUN' 'ARE' 'TUN'\n",
      " 'JAM' 'HRV' 'HKG' 'IRN' 'GEO' 'AND' 'GIB' 'URY' 'JEY' 'CAF' 'CYP' 'COL'\n",
      " 'GGY' 'KWT' 'NGA' 'MDV' 'VEN' 'SVK' 'FJI' 'KAZ' 'PAK' 'IDN' 'LBN' 'PHL'\n",
      " 'SEN' 'SYC' 'AZE' 'BHR' 'NZL' 'THA' 'DOM' 'MKD' 'MYS' 'ARM' 'JPN' 'LKA'\n",
      " 'CUB' 'CMR' 'BIH' 'MUS' 'COM' 'SUR' 'UGA' 'BGR' 'CIV' 'JOR' 'SYR' 'SGP'\n",
      " 'BDI' 'SAU' 'VNM' 'PLW' 'EGY' 'PER' 'MLT' 'MWI' 'ECU' 'MDG' 'ISL' 'UZB'\n",
      " 'NPL' 'BHS' 'MAC' 'TGO' 'TWN' 'DJI' 'STP' 'KNA' 'ETH' 'IRQ' 'HND' 'RWA'\n",
      " 'QAT' 'KHM' 'MCO' 'BGD' 'IMN' 'TJK' 'NIC' 'BEN' 'VGB' 'TZA' 'GAB' 'GHA'\n",
      " 'TMP' 'GLP' 'KEN' 'LIE' 'GNB' 'MNE' 'UMI' 'MYT' 'FRO' 'MMR' 'PAN' 'BFA'\n",
      " 'LBY' 'MLI' 'NAM' 'BOL' 'PRY' 'BRB' 'ABW' 'AIA' 'SLV' 'DMA' 'PYF' 'GUY'\n",
      " 'LCA' 'ATA' 'GTM' 'ASM' 'MRT' 'NCL' 'KIR' 'SDN' 'ATF' 'SLE' 'LAO']\n",
      "\n",
      "meal(5): \n",
      "['BB' 'FB' 'HB' 'SC' 'Undefined']\n",
      "\n",
      "hotel(2): \n",
      "['Resort Hotel' 'City Hotel']\n",
      "\n",
      "deposit_type(3): \n",
      "['No Deposit' 'Refundable' 'Non Refund']\n",
      "\n"
     ]
    }
   ],
   "source": [
    "numericalFeatures = list(X._get_numeric_data().columns)\n",
    "categoricalFeatures = list(set(X.columns) - set(numericalFeatures))\n",
    "\n",
    "for col in categoricalFeatures:\n",
    "    print(f\"{col}({X[col].unique().size}): \\n{X[col].unique()}\\n\") "
   ]
  },
  {
   "cell_type": "code",
   "execution_count": 8,
   "id": "9c7f66d9",
   "metadata": {
    "ExecuteTime": {
     "end_time": "2022-05-22T15:58:37.370399Z",
     "start_time": "2022-05-22T15:58:37.316131Z"
    },
    "scrolled": false
   },
   "outputs": [
    {
     "name": "stdout",
     "output_type": "stream",
     "text": [
      "(81298, 29)\n",
      "(34843, 29)\n",
      "(81298,)\n",
      "(34843,)\n"
     ]
    }
   ],
   "source": [
    "X_train, X_test, y_train, y_test = train_test_split(X, y, test_size=0.3)\n",
    "\n",
    "X_train = X_train.reset_index(drop=True)\n",
    "X_test = X_test.reset_index(drop=True)\n",
    "y_train = y_train.reset_index(drop=True)\n",
    "y_test = y_test.reset_index(drop=True)\n",
    "\n",
    "print(X_train.shape)\n",
    "print(X_test.shape)\n",
    "print(y_train.shape)\n",
    "print(y_test.shape)"
   ]
  },
  {
   "cell_type": "code",
   "execution_count": 9,
   "id": "e87fed22",
   "metadata": {
    "ExecuteTime": {
     "end_time": "2022-05-22T15:58:37.869065Z",
     "start_time": "2022-05-22T15:58:37.372507Z"
    }
   },
   "outputs": [],
   "source": [
    "encoder = ce.cat_boost.CatBoostEncoder(cols = categoricalFeatures)\n",
    "encoder.fit(X_train, y_train)\n",
    "X_train = encoder.transform(X_train)\n",
    "X_test = encoder.transform(X_test)"
   ]
  },
  {
   "cell_type": "code",
   "execution_count": 10,
   "id": "79f9d33a",
   "metadata": {
    "ExecuteTime": {
     "end_time": "2022-05-22T15:58:37.886607Z",
     "start_time": "2022-05-22T15:58:37.870085Z"
    }
   },
   "outputs": [
    {
     "data": {
      "text/html": [
       "<div>\n",
       "<style scoped>\n",
       "    .dataframe tbody tr th:only-of-type {\n",
       "        vertical-align: middle;\n",
       "    }\n",
       "\n",
       "    .dataframe tbody tr th {\n",
       "        vertical-align: top;\n",
       "    }\n",
       "\n",
       "    .dataframe thead th {\n",
       "        text-align: right;\n",
       "    }\n",
       "</style>\n",
       "<table border=\"1\" class=\"dataframe\">\n",
       "  <thead>\n",
       "    <tr style=\"text-align: right;\">\n",
       "      <th></th>\n",
       "      <th>hotel</th>\n",
       "      <th>lead_time</th>\n",
       "      <th>arrival_date_year</th>\n",
       "      <th>arrival_date_month</th>\n",
       "      <th>arrival_date_week_number</th>\n",
       "      <th>arrival_date_day_of_month</th>\n",
       "      <th>stays_in_weekend_nights</th>\n",
       "      <th>stays_in_week_nights</th>\n",
       "      <th>adults</th>\n",
       "      <th>children</th>\n",
       "      <th>...</th>\n",
       "      <th>assigned_room_type</th>\n",
       "      <th>booking_changes</th>\n",
       "      <th>deposit_type</th>\n",
       "      <th>agent</th>\n",
       "      <th>company</th>\n",
       "      <th>days_in_waiting_list</th>\n",
       "      <th>customer_type</th>\n",
       "      <th>adr</th>\n",
       "      <th>required_car_parking_spaces</th>\n",
       "      <th>total_of_special_requests</th>\n",
       "    </tr>\n",
       "  </thead>\n",
       "  <tbody>\n",
       "    <tr>\n",
       "      <th>0</th>\n",
       "      <td>0.281572</td>\n",
       "      <td>23</td>\n",
       "      <td>2016</td>\n",
       "      <td>0.334374</td>\n",
       "      <td>6</td>\n",
       "      <td>6</td>\n",
       "      <td>2</td>\n",
       "      <td>1</td>\n",
       "      <td>2</td>\n",
       "      <td>1</td>\n",
       "      <td>...</td>\n",
       "      <td>0.440892</td>\n",
       "      <td>0</td>\n",
       "      <td>0.287074</td>\n",
       "      <td>15</td>\n",
       "      <td>0</td>\n",
       "      <td>0</td>\n",
       "      <td>0.402965</td>\n",
       "      <td>68.75</td>\n",
       "      <td>0</td>\n",
       "      <td>2</td>\n",
       "    </tr>\n",
       "    <tr>\n",
       "      <th>1</th>\n",
       "      <td>0.412528</td>\n",
       "      <td>0</td>\n",
       "      <td>2016</td>\n",
       "      <td>0.392257</td>\n",
       "      <td>22</td>\n",
       "      <td>24</td>\n",
       "      <td>0</td>\n",
       "      <td>1</td>\n",
       "      <td>1</td>\n",
       "      <td>0</td>\n",
       "      <td>...</td>\n",
       "      <td>0.440892</td>\n",
       "      <td>0</td>\n",
       "      <td>0.287074</td>\n",
       "      <td>9</td>\n",
       "      <td>0</td>\n",
       "      <td>0</td>\n",
       "      <td>0.402965</td>\n",
       "      <td>135.00</td>\n",
       "      <td>0</td>\n",
       "      <td>0</td>\n",
       "    </tr>\n",
       "    <tr>\n",
       "      <th>2</th>\n",
       "      <td>0.281572</td>\n",
       "      <td>0</td>\n",
       "      <td>2015</td>\n",
       "      <td>0.377100</td>\n",
       "      <td>28</td>\n",
       "      <td>8</td>\n",
       "      <td>0</td>\n",
       "      <td>1</td>\n",
       "      <td>1</td>\n",
       "      <td>0</td>\n",
       "      <td>...</td>\n",
       "      <td>0.440892</td>\n",
       "      <td>0</td>\n",
       "      <td>0.287074</td>\n",
       "      <td>146</td>\n",
       "      <td>0</td>\n",
       "      <td>0</td>\n",
       "      <td>0.402965</td>\n",
       "      <td>61.00</td>\n",
       "      <td>0</td>\n",
       "      <td>0</td>\n",
       "    </tr>\n",
       "    <tr>\n",
       "      <th>3</th>\n",
       "      <td>0.412528</td>\n",
       "      <td>265</td>\n",
       "      <td>2016</td>\n",
       "      <td>0.375391</td>\n",
       "      <td>42</td>\n",
       "      <td>9</td>\n",
       "      <td>2</td>\n",
       "      <td>3</td>\n",
       "      <td>2</td>\n",
       "      <td>0</td>\n",
       "      <td>...</td>\n",
       "      <td>0.440892</td>\n",
       "      <td>0</td>\n",
       "      <td>0.287074</td>\n",
       "      <td>9</td>\n",
       "      <td>0</td>\n",
       "      <td>0</td>\n",
       "      <td>0.402965</td>\n",
       "      <td>100.30</td>\n",
       "      <td>0</td>\n",
       "      <td>0</td>\n",
       "    </tr>\n",
       "    <tr>\n",
       "      <th>4</th>\n",
       "      <td>0.412528</td>\n",
       "      <td>170</td>\n",
       "      <td>2017</td>\n",
       "      <td>0.404925</td>\n",
       "      <td>15</td>\n",
       "      <td>11</td>\n",
       "      <td>0</td>\n",
       "      <td>4</td>\n",
       "      <td>2</td>\n",
       "      <td>2</td>\n",
       "      <td>...</td>\n",
       "      <td>0.243894</td>\n",
       "      <td>0</td>\n",
       "      <td>0.287074</td>\n",
       "      <td>9</td>\n",
       "      <td>0</td>\n",
       "      <td>0</td>\n",
       "      <td>0.402965</td>\n",
       "      <td>193.50</td>\n",
       "      <td>0</td>\n",
       "      <td>2</td>\n",
       "    </tr>\n",
       "  </tbody>\n",
       "</table>\n",
       "<p>5 rows × 29 columns</p>\n",
       "</div>"
      ],
      "text/plain": [
       "      hotel  lead_time  arrival_date_year  arrival_date_month  \\\n",
       "0  0.281572         23               2016            0.334374   \n",
       "1  0.412528          0               2016            0.392257   \n",
       "2  0.281572          0               2015            0.377100   \n",
       "3  0.412528        265               2016            0.375391   \n",
       "4  0.412528        170               2017            0.404925   \n",
       "\n",
       "   arrival_date_week_number  arrival_date_day_of_month  \\\n",
       "0                         6                          6   \n",
       "1                        22                         24   \n",
       "2                        28                          8   \n",
       "3                        42                          9   \n",
       "4                        15                         11   \n",
       "\n",
       "   stays_in_weekend_nights  stays_in_week_nights  adults  children  ...  \\\n",
       "0                        2                     1       2         1  ...   \n",
       "1                        0                     1       1         0  ...   \n",
       "2                        0                     1       1         0  ...   \n",
       "3                        2                     3       2         0  ...   \n",
       "4                        0                     4       2         2  ...   \n",
       "\n",
       "   assigned_room_type  booking_changes  deposit_type  agent  company  \\\n",
       "0            0.440892                0      0.287074     15        0   \n",
       "1            0.440892                0      0.287074      9        0   \n",
       "2            0.440892                0      0.287074    146        0   \n",
       "3            0.440892                0      0.287074      9        0   \n",
       "4            0.243894                0      0.287074      9        0   \n",
       "\n",
       "   days_in_waiting_list  customer_type     adr  required_car_parking_spaces  \\\n",
       "0                     0       0.402965   68.75                            0   \n",
       "1                     0       0.402965  135.00                            0   \n",
       "2                     0       0.402965   61.00                            0   \n",
       "3                     0       0.402965  100.30                            0   \n",
       "4                     0       0.402965  193.50                            0   \n",
       "\n",
       "   total_of_special_requests  \n",
       "0                          2  \n",
       "1                          0  \n",
       "2                          0  \n",
       "3                          0  \n",
       "4                          2  \n",
       "\n",
       "[5 rows x 29 columns]"
      ]
     },
     "execution_count": 10,
     "metadata": {},
     "output_type": "execute_result"
    }
   ],
   "source": [
    "X_train.head()"
   ]
  },
  {
   "cell_type": "code",
   "execution_count": 11,
   "id": "06d72937",
   "metadata": {
    "ExecuteTime": {
     "end_time": "2022-05-22T15:58:38.014359Z",
     "start_time": "2022-05-22T15:58:37.888132Z"
    }
   },
   "outputs": [],
   "source": [
    "scaler = StandardScaler().fit(X_train[numericalFeatures],y_train)\n",
    "X_train[numericalFeatures] = scaler.transform(X_train[numericalFeatures])\n",
    "X_test[numericalFeatures] = scaler.transform(X_test[numericalFeatures])"
   ]
  },
  {
   "cell_type": "code",
   "execution_count": 12,
   "id": "db5e6468",
   "metadata": {
    "ExecuteTime": {
     "end_time": "2022-05-22T15:58:38.039892Z",
     "start_time": "2022-05-22T15:58:38.015342Z"
    }
   },
   "outputs": [
    {
     "data": {
      "text/html": [
       "<div>\n",
       "<style scoped>\n",
       "    .dataframe tbody tr th:only-of-type {\n",
       "        vertical-align: middle;\n",
       "    }\n",
       "\n",
       "    .dataframe tbody tr th {\n",
       "        vertical-align: top;\n",
       "    }\n",
       "\n",
       "    .dataframe thead th {\n",
       "        text-align: right;\n",
       "    }\n",
       "</style>\n",
       "<table border=\"1\" class=\"dataframe\">\n",
       "  <thead>\n",
       "    <tr style=\"text-align: right;\">\n",
       "      <th></th>\n",
       "      <th>hotel</th>\n",
       "      <th>lead_time</th>\n",
       "      <th>arrival_date_year</th>\n",
       "      <th>arrival_date_month</th>\n",
       "      <th>arrival_date_week_number</th>\n",
       "      <th>arrival_date_day_of_month</th>\n",
       "      <th>stays_in_weekend_nights</th>\n",
       "      <th>stays_in_week_nights</th>\n",
       "      <th>adults</th>\n",
       "      <th>children</th>\n",
       "      <th>...</th>\n",
       "      <th>assigned_room_type</th>\n",
       "      <th>booking_changes</th>\n",
       "      <th>deposit_type</th>\n",
       "      <th>agent</th>\n",
       "      <th>company</th>\n",
       "      <th>days_in_waiting_list</th>\n",
       "      <th>customer_type</th>\n",
       "      <th>adr</th>\n",
       "      <th>required_car_parking_spaces</th>\n",
       "      <th>total_of_special_requests</th>\n",
       "    </tr>\n",
       "  </thead>\n",
       "  <tbody>\n",
       "    <tr>\n",
       "      <th>0</th>\n",
       "      <td>0.281572</td>\n",
       "      <td>-0.791189</td>\n",
       "      <td>-0.210528</td>\n",
       "      <td>0.334374</td>\n",
       "      <td>-1.556549</td>\n",
       "      <td>-1.114597</td>\n",
       "      <td>1.067048</td>\n",
       "      <td>-0.804164</td>\n",
       "      <td>0.241341</td>\n",
       "      <td>2.225370</td>\n",
       "      <td>...</td>\n",
       "      <td>0.440892</td>\n",
       "      <td>-0.341704</td>\n",
       "      <td>0.287074</td>\n",
       "      <td>-0.558905</td>\n",
       "      <td>-0.199414</td>\n",
       "      <td>-0.142114</td>\n",
       "      <td>0.402965</td>\n",
       "      <td>-0.668400</td>\n",
       "      <td>-0.258489</td>\n",
       "      <td>1.784809</td>\n",
       "    </tr>\n",
       "    <tr>\n",
       "      <th>1</th>\n",
       "      <td>0.412528</td>\n",
       "      <td>-1.031201</td>\n",
       "      <td>-0.210528</td>\n",
       "      <td>0.392257</td>\n",
       "      <td>-0.378668</td>\n",
       "      <td>0.940697</td>\n",
       "      <td>-0.945593</td>\n",
       "      <td>-0.804164</td>\n",
       "      <td>-1.471197</td>\n",
       "      <td>-0.265003</td>\n",
       "      <td>...</td>\n",
       "      <td>0.440892</td>\n",
       "      <td>-0.341704</td>\n",
       "      <td>0.287074</td>\n",
       "      <td>-0.614897</td>\n",
       "      <td>-0.199414</td>\n",
       "      <td>-0.142114</td>\n",
       "      <td>0.402965</td>\n",
       "      <td>0.625386</td>\n",
       "      <td>-0.258489</td>\n",
       "      <td>-0.726639</td>\n",
       "    </tr>\n",
       "    <tr>\n",
       "      <th>2</th>\n",
       "      <td>0.281572</td>\n",
       "      <td>-1.031201</td>\n",
       "      <td>-1.621184</td>\n",
       "      <td>0.377100</td>\n",
       "      <td>0.063037</td>\n",
       "      <td>-0.886231</td>\n",
       "      <td>-0.945593</td>\n",
       "      <td>-0.804164</td>\n",
       "      <td>-1.471197</td>\n",
       "      <td>-0.265003</td>\n",
       "      <td>...</td>\n",
       "      <td>0.440892</td>\n",
       "      <td>-0.341704</td>\n",
       "      <td>0.287074</td>\n",
       "      <td>0.663604</td>\n",
       "      <td>-0.199414</td>\n",
       "      <td>-0.142114</td>\n",
       "      <td>0.402965</td>\n",
       "      <td>-0.819749</td>\n",
       "      <td>-0.258489</td>\n",
       "      <td>-0.726639</td>\n",
       "    </tr>\n",
       "    <tr>\n",
       "      <th>3</th>\n",
       "      <td>0.412528</td>\n",
       "      <td>1.734152</td>\n",
       "      <td>-0.210528</td>\n",
       "      <td>0.375391</td>\n",
       "      <td>1.093683</td>\n",
       "      <td>-0.772048</td>\n",
       "      <td>1.067048</td>\n",
       "      <td>0.249495</td>\n",
       "      <td>0.241341</td>\n",
       "      <td>-0.265003</td>\n",
       "      <td>...</td>\n",
       "      <td>0.440892</td>\n",
       "      <td>-0.341704</td>\n",
       "      <td>0.287074</td>\n",
       "      <td>-0.614897</td>\n",
       "      <td>-0.199414</td>\n",
       "      <td>-0.142114</td>\n",
       "      <td>0.402965</td>\n",
       "      <td>-0.052265</td>\n",
       "      <td>-0.258489</td>\n",
       "      <td>-0.726639</td>\n",
       "    </tr>\n",
       "    <tr>\n",
       "      <th>4</th>\n",
       "      <td>0.412528</td>\n",
       "      <td>0.742799</td>\n",
       "      <td>1.200129</td>\n",
       "      <td>0.404925</td>\n",
       "      <td>-0.893991</td>\n",
       "      <td>-0.543682</td>\n",
       "      <td>-0.945593</td>\n",
       "      <td>0.776325</td>\n",
       "      <td>0.241341</td>\n",
       "      <td>4.715744</td>\n",
       "      <td>...</td>\n",
       "      <td>0.243894</td>\n",
       "      <td>-0.341704</td>\n",
       "      <td>0.287074</td>\n",
       "      <td>-0.614897</td>\n",
       "      <td>-0.199414</td>\n",
       "      <td>-0.142114</td>\n",
       "      <td>0.402965</td>\n",
       "      <td>1.767823</td>\n",
       "      <td>-0.258489</td>\n",
       "      <td>1.784809</td>\n",
       "    </tr>\n",
       "  </tbody>\n",
       "</table>\n",
       "<p>5 rows × 29 columns</p>\n",
       "</div>"
      ],
      "text/plain": [
       "      hotel  lead_time  arrival_date_year  arrival_date_month  \\\n",
       "0  0.281572  -0.791189          -0.210528            0.334374   \n",
       "1  0.412528  -1.031201          -0.210528            0.392257   \n",
       "2  0.281572  -1.031201          -1.621184            0.377100   \n",
       "3  0.412528   1.734152          -0.210528            0.375391   \n",
       "4  0.412528   0.742799           1.200129            0.404925   \n",
       "\n",
       "   arrival_date_week_number  arrival_date_day_of_month  \\\n",
       "0                 -1.556549                  -1.114597   \n",
       "1                 -0.378668                   0.940697   \n",
       "2                  0.063037                  -0.886231   \n",
       "3                  1.093683                  -0.772048   \n",
       "4                 -0.893991                  -0.543682   \n",
       "\n",
       "   stays_in_weekend_nights  stays_in_week_nights    adults  children  ...  \\\n",
       "0                 1.067048             -0.804164  0.241341  2.225370  ...   \n",
       "1                -0.945593             -0.804164 -1.471197 -0.265003  ...   \n",
       "2                -0.945593             -0.804164 -1.471197 -0.265003  ...   \n",
       "3                 1.067048              0.249495  0.241341 -0.265003  ...   \n",
       "4                -0.945593              0.776325  0.241341  4.715744  ...   \n",
       "\n",
       "   assigned_room_type  booking_changes  deposit_type     agent   company  \\\n",
       "0            0.440892        -0.341704      0.287074 -0.558905 -0.199414   \n",
       "1            0.440892        -0.341704      0.287074 -0.614897 -0.199414   \n",
       "2            0.440892        -0.341704      0.287074  0.663604 -0.199414   \n",
       "3            0.440892        -0.341704      0.287074 -0.614897 -0.199414   \n",
       "4            0.243894        -0.341704      0.287074 -0.614897 -0.199414   \n",
       "\n",
       "   days_in_waiting_list  customer_type       adr  required_car_parking_spaces  \\\n",
       "0             -0.142114       0.402965 -0.668400                    -0.258489   \n",
       "1             -0.142114       0.402965  0.625386                    -0.258489   \n",
       "2             -0.142114       0.402965 -0.819749                    -0.258489   \n",
       "3             -0.142114       0.402965 -0.052265                    -0.258489   \n",
       "4             -0.142114       0.402965  1.767823                    -0.258489   \n",
       "\n",
       "   total_of_special_requests  \n",
       "0                   1.784809  \n",
       "1                  -0.726639  \n",
       "2                  -0.726639  \n",
       "3                  -0.726639  \n",
       "4                   1.784809  \n",
       "\n",
       "[5 rows x 29 columns]"
      ]
     },
     "execution_count": 12,
     "metadata": {},
     "output_type": "execute_result"
    }
   ],
   "source": [
    "X_train.head()"
   ]
  },
  {
   "cell_type": "code",
   "execution_count": 13,
   "id": "07209f3a",
   "metadata": {
    "ExecuteTime": {
     "end_time": "2022-05-22T15:58:38.043164Z",
     "start_time": "2022-05-22T15:58:38.040889Z"
    }
   },
   "outputs": [],
   "source": [
    "# fs = SelectKBest(score_func=chi2, k='all')\n",
    "# fs.fit(X_train, y_train)\n",
    "# columns = X_train.columns.to_list()\n",
    "# scores = {columns[i]:fs.scores_[i] for i in range(len(columns))}\n",
    "# dict(sorted(scores.items(), key=lambda item: item[1], reverse=True))"
   ]
  },
  {
   "cell_type": "code",
   "execution_count": 14,
   "id": "93334565",
   "metadata": {
    "ExecuteTime": {
     "end_time": "2022-05-22T15:58:38.059414Z",
     "start_time": "2022-05-22T15:58:38.045554Z"
    }
   },
   "outputs": [],
   "source": [
    "train = pd.concat([X_train, y_train], axis=1, join='inner')\n",
    "test = pd.concat([X_test, y_test], axis=1, join='inner')"
   ]
  },
  {
   "cell_type": "code",
   "execution_count": 15,
   "id": "af074601",
   "metadata": {
    "ExecuteTime": {
     "end_time": "2022-05-22T15:58:41.567749Z",
     "start_time": "2022-05-22T15:58:38.060438Z"
    }
   },
   "outputs": [],
   "source": [
    "train.to_csv('train.csv',index=False, header=False)\n",
    "test.to_csv('test.csv',index=False, header=False)"
   ]
  },
  {
   "cell_type": "code",
   "execution_count": 16,
   "id": "584e48e6",
   "metadata": {
    "ExecuteTime": {
     "end_time": "2022-05-22T15:58:48.935189Z",
     "start_time": "2022-05-22T15:58:41.569101Z"
    }
   },
   "outputs": [
    {
     "data": {
      "text/plain": [
       "RandomForestClassifier()"
      ]
     },
     "execution_count": 16,
     "metadata": {},
     "output_type": "execute_result"
    }
   ],
   "source": [
    "rf = RandomForestClassifier()\n",
    "rf.fit(X_train, y_train)"
   ]
  },
  {
   "cell_type": "code",
   "execution_count": 17,
   "id": "9f8449da",
   "metadata": {
    "ExecuteTime": {
     "end_time": "2022-05-22T15:58:49.152239Z",
     "start_time": "2022-05-22T15:58:48.936399Z"
    }
   },
   "outputs": [
    {
     "data": {
      "image/png": "[encoded data removed]",
      "text/plain": [
       "<Figure size 432x288 with 1 Axes>"
      ]
     },
     "metadata": {
      "needs_background": "light"
     },
     "output_type": "display_data"
    }
   ],
   "source": [
    "importances = pd.Series(rf.feature_importances_,index=X.columns)\n",
    "importances = importances.sort_values()\n",
    "importances[-20:].plot.barh()\n",
    "plt.show()"
   ]
  },
  {
   "cell_type": "code",
   "execution_count": 18,
   "id": "e931fa06",
   "metadata": {
    "ExecuteTime": {
     "end_time": "2022-05-22T15:58:49.793666Z",
     "start_time": "2022-05-22T15:58:49.153462Z"
    }
   },
   "outputs": [
    {
     "name": "stdout",
     "output_type": "stream",
     "text": [
      "Accuracy Score of Random Forest is : 0.8936371724593175\n",
      "Confusion Matrix : \n",
      "[[20783  1359]\n",
      " [ 2347 10354]]\n",
      "Classification Report : \n",
      "              precision    recall  f1-score   support\n",
      "\n",
      "           0       0.90      0.94      0.92     22142\n",
      "           1       0.88      0.82      0.85     12701\n",
      "\n",
      "    accuracy                           0.89     34843\n",
      "   macro avg       0.89      0.88      0.88     34843\n",
      "weighted avg       0.89      0.89      0.89     34843\n",
      "\n"
     ]
    }
   ],
   "source": [
    "y_pred_rf = rf.predict(X_test)\n",
    "\n",
    "acc_rf = accuracy_score(y_test, y_pred_rf)\n",
    "conf = confusion_matrix(y_test, y_pred_rf)\n",
    "clf_report = classification_report(y_test, y_pred_rf)\n",
    "\n",
    "print(f\"Accuracy Score of Random Forest is : {acc_rf}\")\n",
    "print(f\"Confusion Matrix : \\n{conf}\")\n",
    "print(f\"Classification Report : \\n{clf_report}\")"
   ]
  },
  {
   "cell_type": "code",
   "execution_count": 19,
   "id": "bd701ff0",
   "metadata": {
    "ExecuteTime": {
     "end_time": "2022-05-22T15:58:50.855030Z",
     "start_time": "2022-05-22T15:58:49.794989Z"
    }
   },
   "outputs": [
    {
     "name": "stdout",
     "output_type": "stream",
     "text": [
      "Accuracy Score of Logistic Regression is : 0.8049249490571995\n",
      "Confusion Matrix : \n",
      "[[20300  1842]\n",
      " [ 4955  7746]]\n",
      "Classification Report : \n",
      "              precision    recall  f1-score   support\n",
      "\n",
      "           0       0.80      0.92      0.86     22142\n",
      "           1       0.81      0.61      0.70     12701\n",
      "\n",
      "    accuracy                           0.80     34843\n",
      "   macro avg       0.81      0.76      0.78     34843\n",
      "weighted avg       0.81      0.80      0.80     34843\n",
      "\n"
     ]
    }
   ],
   "source": [
    "lr = LogisticRegression(max_iter=2000)\n",
    "lr.fit(X_train, y_train)\n",
    "\n",
    "y_pred_lr = lr.predict(X_test)\n",
    "\n",
    "acc_lr = accuracy_score(y_test, y_pred_lr)\n",
    "conf = confusion_matrix(y_test, y_pred_lr)\n",
    "clf_report = classification_report(y_test, y_pred_lr)\n",
    "\n",
    "print(f\"Accuracy Score of Logistic Regression is : {acc_lr}\")\n",
    "print(f\"Confusion Matrix : \\n{conf}\")\n",
    "print(f\"Classification Report : \\n{clf_report}\")"
   ]
  },
  {
   "cell_type": "code",
   "execution_count": 20,
   "id": "ba6bcecd",
   "metadata": {
    "ExecuteTime": {
     "end_time": "2022-05-22T15:58:51.405944Z",
     "start_time": "2022-05-22T15:58:50.856072Z"
    }
   },
   "outputs": [
    {
     "name": "stdout",
     "output_type": "stream",
     "text": [
      "Accuracy Score of Decision Tree is : 0.848348305255001\n",
      "Confusion Matrix : \n",
      "[[19444  2698]\n",
      " [ 2586 10115]]\n",
      "Classification Report : \n",
      "              precision    recall  f1-score   support\n",
      "\n",
      "           0       0.88      0.88      0.88     22142\n",
      "           1       0.79      0.80      0.79     12701\n",
      "\n",
      "    accuracy                           0.85     34843\n",
      "   macro avg       0.84      0.84      0.84     34843\n",
      "weighted avg       0.85      0.85      0.85     34843\n",
      "\n"
     ]
    }
   ],
   "source": [
    "dt = DecisionTreeClassifier()\n",
    "dt.fit(X_train, y_train)\n",
    "\n",
    "y_pred_dt = dt.predict(X_test)\n",
    "\n",
    "acc_dt = accuracy_score(y_test, y_pred_dt)\n",
    "conf = confusion_matrix(y_test, y_pred_dt)\n",
    "clf_report = classification_report(y_test, y_pred_dt)\n",
    "\n",
    "print(f\"Accuracy Score of Decision Tree is : {acc_dt}\")\n",
    "print(f\"Confusion Matrix : \\n{conf}\")\n",
    "print(f\"Classification Report : \\n{clf_report}\")"
   ]
  },
  {
   "cell_type": "code",
   "execution_count": 21,
   "id": "642f488b",
   "metadata": {
    "ExecuteTime": {
     "end_time": "2022-05-22T15:58:52.729344Z",
     "start_time": "2022-05-22T15:58:51.406937Z"
    },
    "scrolled": false
   },
   "outputs": [
    {
     "name": "stdout",
     "output_type": "stream",
     "text": [
      "Accuracy: 0.8761874695060701\n",
      "Classification Report : \n",
      "              precision    recall  f1-score   support\n",
      "\n",
      "           0       0.89      0.92      0.90     22142\n",
      "           1       0.85      0.81      0.83     12701\n",
      "\n",
      "    accuracy                           0.88     34843\n",
      "   macro avg       0.87      0.86      0.87     34843\n",
      "weighted avg       0.88      0.88      0.88     34843\n",
      "\n"
     ]
    }
   ],
   "source": [
    "cat = CatBoostClassifier(iterations=100, silent=True)\n",
    "cat.fit(X_train, y_train)\n",
    "\n",
    "y_pred_cat = cat.predict(X_test)\n",
    "\n",
    "acc_cat = accuracy_score(y_test, y_pred_cat)\n",
    "clf_report = classification_report(y_test, y_pred_cat)\n",
    "print(f'Accuracy: {acc_cat}')\n",
    "print(f'Classification Report : \\n{clf_report}')"
   ]
  },
  {
   "cell_type": "code",
   "execution_count": 22,
   "id": "00588bda",
   "metadata": {
    "ExecuteTime": {
     "end_time": "2022-05-22T15:59:51.157257Z",
     "start_time": "2022-05-22T15:58:52.730597Z"
    }
   },
   "outputs": [
    {
     "name": "stdout",
     "output_type": "stream",
     "text": [
      "Accuracy Score of KNN is : 0.8087133714088913\n",
      "Confusion Matrix : \n",
      "[[19429  2713]\n",
      " [ 3952  8749]]\n",
      "Classification Report : \n",
      "              precision    recall  f1-score   support\n",
      "\n",
      "           0       0.83      0.88      0.85     22142\n",
      "           1       0.76      0.69      0.72     12701\n",
      "\n",
      "    accuracy                           0.81     34843\n",
      "   macro avg       0.80      0.78      0.79     34843\n",
      "weighted avg       0.81      0.81      0.81     34843\n",
      "\n"
     ]
    }
   ],
   "source": [
    "knn = KNeighborsClassifier()\n",
    "knn.fit(X_train, y_train)\n",
    "\n",
    "y_pred_knn = knn.predict(X_test)\n",
    "\n",
    "acc_knn = accuracy_score(y_test, y_pred_knn)\n",
    "conf = confusion_matrix(y_test, y_pred_knn)\n",
    "clf_report = classification_report(y_test, y_pred_knn)\n",
    "\n",
    "print(f\"Accuracy Score of KNN is : {acc_knn}\")\n",
    "print(f\"Confusion Matrix : \\n{conf}\")\n",
    "print(f\"Classification Report : \\n{clf_report}\")"
   ]
  },
  {
   "cell_type": "code",
   "execution_count": null,
   "id": "6d02ec85",
   "metadata": {},
   "outputs": [],
   "source": []
  }
 ],
 "metadata": {
  "kernelspec": {
   "display_name": "Python 3 (ipykernel)",
   "language": "python",
   "name": "python3"
  },
  "language_info": {
   "codemirror_mode": {
    "name": "ipython",
    "version": 3
   },
   "file_extension": ".py",
   "mimetype": "text/x-python",
   "name": "python",
   "nbconvert_exporter": "python",
   "pygments_lexer": "ipython3",
   "version": "3.9.7"
  },
  "latex_envs": {
   "LaTeX_envs_menu_present": true,
   "autoclose": false,
   "autocomplete": true,
   "bibliofile": "biblio.bib",
   "cite_by": "apalike",
   "current_citInitial": 1,
   "eqLabelWithNumbers": true,
   "eqNumInitial": 1,
   "hotkeys": {
    "equation": "Ctrl-E",
    "itemize": "Ctrl-I"
   },
   "labels_anchors": false,
   "latex_user_defs": false,
   "report_style_numbering": false,
   "user_envs_cfg": false
  },
  "toc": {
   "base_numbering": 1,
   "nav_menu": {},
   "number_sections": true,
   "sideBar": true,
   "skip_h1_title": false,
   "title_cell": "Table of Contents",
   "title_sidebar": "Contents",
   "toc_cell": false,
   "toc_position": {},
   "toc_section_display": true,
   "toc_window_display": false
  },
  "varInspector": {
   "cols": {
    "lenName": 16,
    "lenType": 16,
    "lenVar": 40
   },
   "kernels_config": {
    "python": {
     "delete_cmd_postfix": "",
     "delete_cmd_prefix": "del ",
     "library": "var_list.py",
     "varRefreshCmd": "print(var_dic_list())"
    },
    "r": {
     "delete_cmd_postfix": ") ",
     "delete_cmd_prefix": "rm(",
     "library": "var_list.r",
     "varRefreshCmd": "cat(var_dic_list()) "
    }
   },
   "types_to_exclude": [
    "module",
    "function",
    "builtin_function_or_method",
    "instance",
    "_Feature"
   ],
   "window_display": false
  }
 },
 "nbformat": 4,
 "nbformat_minor": 5
}
