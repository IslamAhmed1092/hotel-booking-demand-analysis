{
 "cells": [
  {
   "cell_type": "markdown",
   "id": "c273d974",
   "metadata": {},
   "source": [
    "# Setup"
   ]
  },
  {
   "cell_type": "code",
   "execution_count": 1,
   "id": "03b3cca0",
   "metadata": {
    "ExecuteTime": {
     "end_time": "2022-05-22T13:28:10.768414Z",
     "start_time": "2022-05-22T13:28:07.433Z"
    }
   },
   "outputs": [
    {
     "name": "stderr",
     "output_type": "stream",
     "text": [
      "Loading required package: grid\n",
      "Loading required package: mvtnorm\n",
      "Loading required package: modeltools\n",
      "Loading required package: stats4\n",
      "Loading required package: strucchange\n",
      "Loading required package: zoo\n",
      "\n",
      "Attaching package: ‘zoo’\n",
      "\n",
      "The following objects are masked from ‘package:base’:\n",
      "\n",
      "    as.Date, as.Date.numeric\n",
      "\n",
      "Loading required package: sandwich\n",
      "── Attaching packages ─────────────────────────────────────── tidyverse 1.3.1 ──\n",
      "✔ ggplot2 3.3.5     ✔ purrr   0.3.4\n",
      "✔ tibble  3.1.6     ✔ dplyr   1.0.9\n",
      "✔ tidyr   1.2.0     ✔ stringr 1.4.0\n",
      "✔ readr   2.1.2     ✔ forcats 0.5.1\n",
      "── Conflicts ────────────────────────────────────────── tidyverse_conflicts() ──\n",
      "✖ stringr::boundary() masks strucchange::boundary()\n",
      "✖ dplyr::filter()     masks stats::filter()\n",
      "✖ dplyr::lag()        masks stats::lag()\n",
      "randomForest 4.6-14\n",
      "Type rfNews() to see new features/changes/bug fixes.\n",
      "\n",
      "Attaching package: ‘randomForest’\n",
      "\n",
      "The following object is masked from ‘package:dplyr’:\n",
      "\n",
      "    combine\n",
      "\n",
      "The following object is masked from ‘package:ggplot2’:\n",
      "\n",
      "    margin\n",
      "\n"
     ]
    }
   ],
   "source": [
    "library(party)\n",
    "library(tidyverse)\n",
    "library(randomForest)\n",
    "# library(class)\n",
    "# library(e1071)"
   ]
  },
  {
   "cell_type": "code",
   "execution_count": 2,
   "id": "47465425",
   "metadata": {
    "ExecuteTime": {
     "end_time": "2022-05-22T13:28:12.241840Z",
     "start_time": "2022-05-22T13:28:07.436Z"
    },
    "vscode": {
     "languageId": "r"
    }
   },
   "outputs": [
    {
     "data": {
      "text/html": [
       "<ol class=list-inline>\n",
       "\t<li>116141</li>\n",
       "\t<li>30</li>\n",
       "</ol>\n"
      ],
      "text/latex": [
       "\\begin{enumerate*}\n",
       "\\item 116141\n",
       "\\item 30\n",
       "\\end{enumerate*}\n"
      ],
      "text/markdown": [
       "1. 116141\n",
       "2. 30\n",
       "\n",
       "\n"
      ],
      "text/plain": [
       "[1] 116141     30"
      ]
     },
     "metadata": {},
     "output_type": "display_data"
    }
   ],
   "source": [
    "data <- read.csv(\"data_cleaned.csv\")\n",
    "dim(data)"
   ]
  },
  {
   "cell_type": "code",
   "execution_count": 3,
   "id": "f2262805",
   "metadata": {
    "ExecuteTime": {
     "end_time": "2022-05-22T13:28:12.271296Z",
     "start_time": "2022-05-22T13:28:07.440Z"
    },
    "vscode": {
     "languageId": "r"
    }
   },
   "outputs": [
    {
     "data": {
      "text/html": [
       "<table>\n",
       "<thead><tr><th scope=col>hotel</th><th scope=col>is_canceled</th><th scope=col>lead_time</th><th scope=col>arrival_date_year</th><th scope=col>arrival_date_month</th><th scope=col>arrival_date_week_number</th><th scope=col>arrival_date_day_of_month</th><th scope=col>stays_in_weekend_nights</th><th scope=col>stays_in_week_nights</th><th scope=col>adults</th><th scope=col>...</th><th scope=col>assigned_room_type</th><th scope=col>booking_changes</th><th scope=col>deposit_type</th><th scope=col>agent</th><th scope=col>company</th><th scope=col>days_in_waiting_list</th><th scope=col>customer_type</th><th scope=col>adr</th><th scope=col>required_car_parking_spaces</th><th scope=col>total_of_special_requests</th></tr></thead>\n",
       "<tbody>\n",
       "\t<tr><td>Resort Hotel</td><td>0           </td><td> 7          </td><td>2015        </td><td>Jul         </td><td>27          </td><td>1           </td><td>0           </td><td>1           </td><td>1           </td><td>...         </td><td>C           </td><td>0           </td><td>No Deposit  </td><td>  0         </td><td>0           </td><td>0           </td><td>Transient   </td><td> 75         </td><td>0           </td><td>0           </td></tr>\n",
       "\t<tr><td>Resort Hotel</td><td>0           </td><td>13          </td><td>2015        </td><td>Jul         </td><td>27          </td><td>1           </td><td>0           </td><td>1           </td><td>1           </td><td>...         </td><td>A           </td><td>0           </td><td>No Deposit  </td><td>304         </td><td>0           </td><td>0           </td><td>Transient   </td><td> 75         </td><td>0           </td><td>0           </td></tr>\n",
       "\t<tr><td>Resort Hotel</td><td>0           </td><td>14          </td><td>2015        </td><td>Jul         </td><td>27          </td><td>1           </td><td>0           </td><td>2           </td><td>2           </td><td>...         </td><td>A           </td><td>0           </td><td>No Deposit  </td><td>240         </td><td>0           </td><td>0           </td><td>Transient   </td><td> 98         </td><td>0           </td><td>1           </td></tr>\n",
       "\t<tr><td>Resort Hotel</td><td>0           </td><td>14          </td><td>2015        </td><td>Jul         </td><td>27          </td><td>1           </td><td>0           </td><td>2           </td><td>2           </td><td>...         </td><td>A           </td><td>0           </td><td>No Deposit  </td><td>240         </td><td>0           </td><td>0           </td><td>Transient   </td><td> 98         </td><td>0           </td><td>1           </td></tr>\n",
       "\t<tr><td>Resort Hotel</td><td>0           </td><td> 0          </td><td>2015        </td><td>Jul         </td><td>27          </td><td>1           </td><td>0           </td><td>2           </td><td>2           </td><td>...         </td><td>C           </td><td>0           </td><td>No Deposit  </td><td>  0         </td><td>0           </td><td>0           </td><td>Transient   </td><td>107         </td><td>0           </td><td>0           </td></tr>\n",
       "\t<tr><td>Resort Hotel</td><td>0           </td><td> 9          </td><td>2015        </td><td>Jul         </td><td>27          </td><td>1           </td><td>0           </td><td>2           </td><td>2           </td><td>...         </td><td>C           </td><td>0           </td><td>No Deposit  </td><td>303         </td><td>0           </td><td>0           </td><td>Transient   </td><td>103         </td><td>0           </td><td>1           </td></tr>\n",
       "</tbody>\n",
       "</table>\n"
      ],
      "text/latex": [
       "\\begin{tabular}{r|llllllllllllllllllllllllllllll}\n",
       " hotel & is\\_canceled & lead\\_time & arrival\\_date\\_year & arrival\\_date\\_month & arrival\\_date\\_week\\_number & arrival\\_date\\_day\\_of\\_month & stays\\_in\\_weekend\\_nights & stays\\_in\\_week\\_nights & adults & ... & assigned\\_room\\_type & booking\\_changes & deposit\\_type & agent & company & days\\_in\\_waiting\\_list & customer\\_type & adr & required\\_car\\_parking\\_spaces & total\\_of\\_special\\_requests\\\\\n",
       "\\hline\n",
       "\t Resort Hotel & 0            &  7           & 2015         & Jul          & 27           & 1            & 0            & 1            & 1            & ...          & C            & 0            & No Deposit   &   0          & 0            & 0            & Transient    &  75          & 0            & 0           \\\\\n",
       "\t Resort Hotel & 0            & 13           & 2015         & Jul          & 27           & 1            & 0            & 1            & 1            & ...          & A            & 0            & No Deposit   & 304          & 0            & 0            & Transient    &  75          & 0            & 0           \\\\\n",
       "\t Resort Hotel & 0            & 14           & 2015         & Jul          & 27           & 1            & 0            & 2            & 2            & ...          & A            & 0            & No Deposit   & 240          & 0            & 0            & Transient    &  98          & 0            & 1           \\\\\n",
       "\t Resort Hotel & 0            & 14           & 2015         & Jul          & 27           & 1            & 0            & 2            & 2            & ...          & A            & 0            & No Deposit   & 240          & 0            & 0            & Transient    &  98          & 0            & 1           \\\\\n",
       "\t Resort Hotel & 0            &  0           & 2015         & Jul          & 27           & 1            & 0            & 2            & 2            & ...          & C            & 0            & No Deposit   &   0          & 0            & 0            & Transient    & 107          & 0            & 0           \\\\\n",
       "\t Resort Hotel & 0            &  9           & 2015         & Jul          & 27           & 1            & 0            & 2            & 2            & ...          & C            & 0            & No Deposit   & 303          & 0            & 0            & Transient    & 103          & 0            & 1           \\\\\n",
       "\\end{tabular}\n"
      ],
      "text/markdown": [
       "\n",
       "| hotel | is_canceled | lead_time | arrival_date_year | arrival_date_month | arrival_date_week_number | arrival_date_day_of_month | stays_in_weekend_nights | stays_in_week_nights | adults | ... | assigned_room_type | booking_changes | deposit_type | agent | company | days_in_waiting_list | customer_type | adr | required_car_parking_spaces | total_of_special_requests |\n",
       "|---|---|---|---|---|---|---|---|---|---|---|---|---|---|---|---|---|---|---|---|---|\n",
       "| Resort Hotel | 0            |  7           | 2015         | Jul          | 27           | 1            | 0            | 1            | 1            | ...          | C            | 0            | No Deposit   |   0          | 0            | 0            | Transient    |  75          | 0            | 0            |\n",
       "| Resort Hotel | 0            | 13           | 2015         | Jul          | 27           | 1            | 0            | 1            | 1            | ...          | A            | 0            | No Deposit   | 304          | 0            | 0            | Transient    |  75          | 0            | 0            |\n",
       "| Resort Hotel | 0            | 14           | 2015         | Jul          | 27           | 1            | 0            | 2            | 2            | ...          | A            | 0            | No Deposit   | 240          | 0            | 0            | Transient    |  98          | 0            | 1            |\n",
       "| Resort Hotel | 0            | 14           | 2015         | Jul          | 27           | 1            | 0            | 2            | 2            | ...          | A            | 0            | No Deposit   | 240          | 0            | 0            | Transient    |  98          | 0            | 1            |\n",
       "| Resort Hotel | 0            |  0           | 2015         | Jul          | 27           | 1            | 0            | 2            | 2            | ...          | C            | 0            | No Deposit   |   0          | 0            | 0            | Transient    | 107          | 0            | 0            |\n",
       "| Resort Hotel | 0            |  9           | 2015         | Jul          | 27           | 1            | 0            | 2            | 2            | ...          | C            | 0            | No Deposit   | 303          | 0            | 0            | Transient    | 103          | 0            | 1            |\n",
       "\n"
      ],
      "text/plain": [
       "  hotel        is_canceled lead_time arrival_date_year arrival_date_month\n",
       "1 Resort Hotel 0            7        2015              Jul               \n",
       "2 Resort Hotel 0           13        2015              Jul               \n",
       "3 Resort Hotel 0           14        2015              Jul               \n",
       "4 Resort Hotel 0           14        2015              Jul               \n",
       "5 Resort Hotel 0            0        2015              Jul               \n",
       "6 Resort Hotel 0            9        2015              Jul               \n",
       "  arrival_date_week_number arrival_date_day_of_month stays_in_weekend_nights\n",
       "1 27                       1                         0                      \n",
       "2 27                       1                         0                      \n",
       "3 27                       1                         0                      \n",
       "4 27                       1                         0                      \n",
       "5 27                       1                         0                      \n",
       "6 27                       1                         0                      \n",
       "  stays_in_week_nights adults ... assigned_room_type booking_changes\n",
       "1 1                    1      ... C                  0              \n",
       "2 1                    1      ... A                  0              \n",
       "3 2                    2      ... A                  0              \n",
       "4 2                    2      ... A                  0              \n",
       "5 2                    2      ... C                  0              \n",
       "6 2                    2      ... C                  0              \n",
       "  deposit_type agent company days_in_waiting_list customer_type adr\n",
       "1 No Deposit     0   0       0                    Transient      75\n",
       "2 No Deposit   304   0       0                    Transient      75\n",
       "3 No Deposit   240   0       0                    Transient      98\n",
       "4 No Deposit   240   0       0                    Transient      98\n",
       "5 No Deposit     0   0       0                    Transient     107\n",
       "6 No Deposit   303   0       0                    Transient     103\n",
       "  required_car_parking_spaces total_of_special_requests\n",
       "1 0                           0                        \n",
       "2 0                           0                        \n",
       "3 0                           1                        \n",
       "4 0                           1                        \n",
       "5 0                           0                        \n",
       "6 0                           1                        "
      ]
     },
     "metadata": {},
     "output_type": "display_data"
    }
   ],
   "source": [
    "head(data)"
   ]
  },
  {
   "cell_type": "markdown",
   "id": "8b5ded9c",
   "metadata": {},
   "source": [
    "### Changing values of Arrival date months to a smaller representation"
   ]
  },
  {
   "cell_type": "code",
   "execution_count": 4,
   "id": "d504e108",
   "metadata": {
    "ExecuteTime": {
     "end_time": "2022-05-22T13:28:12.307903Z",
     "start_time": "2022-05-22T13:28:07.467Z"
    },
    "scrolled": true,
    "vscode": {
     "languageId": "r"
    }
   },
   "outputs": [
    {
     "data": {
      "text/html": [
       "<ol class=list-inline>\n",
       "\t<li>'Jan'</li>\n",
       "\t<li>'Feb'</li>\n",
       "\t<li>'Mar'</li>\n",
       "\t<li>'Apr'</li>\n",
       "\t<li>'May'</li>\n",
       "\t<li>'Jun'</li>\n",
       "\t<li>'Jul'</li>\n",
       "\t<li>'Aug'</li>\n",
       "\t<li>'Sep'</li>\n",
       "\t<li>'Oct'</li>\n",
       "\t<li>'Nov'</li>\n",
       "\t<li>'Dec'</li>\n",
       "</ol>\n"
      ],
      "text/latex": [
       "\\begin{enumerate*}\n",
       "\\item 'Jan'\n",
       "\\item 'Feb'\n",
       "\\item 'Mar'\n",
       "\\item 'Apr'\n",
       "\\item 'May'\n",
       "\\item 'Jun'\n",
       "\\item 'Jul'\n",
       "\\item 'Aug'\n",
       "\\item 'Sep'\n",
       "\\item 'Oct'\n",
       "\\item 'Nov'\n",
       "\\item 'Dec'\n",
       "\\end{enumerate*}\n"
      ],
      "text/markdown": [
       "1. 'Jan'\n",
       "2. 'Feb'\n",
       "3. 'Mar'\n",
       "4. 'Apr'\n",
       "5. 'May'\n",
       "6. 'Jun'\n",
       "7. 'Jul'\n",
       "8. 'Aug'\n",
       "9. 'Sep'\n",
       "10. 'Oct'\n",
       "11. 'Nov'\n",
       "12. 'Dec'\n",
       "\n",
       "\n"
      ],
      "text/plain": [
       " [1] \"Jan\" \"Feb\" \"Mar\" \"Apr\" \"May\" \"Jun\" \"Jul\" \"Aug\" \"Sep\" \"Oct\" \"Nov\" \"Dec\""
      ]
     },
     "metadata": {},
     "output_type": "display_data"
    },
    {
     "data": {
      "text/plain": [
       "\n",
       "  Jan   Feb   Mar   Apr   May   Jun   Jul   Aug   Sep   Oct   Nov   Dec \n",
       " 5758  7886  9607 11008 11418 10771 12158 13503 10132 10794  6594  6512 "
      ]
     },
     "metadata": {},
     "output_type": "display_data"
    }
   ],
   "source": [
    "data$arrival_date_month <- factor(data$arrival_date_month)   \n",
    "levels(data$arrival_date_month) <- list(Jan = \"January\",\n",
    "                                       Feb = \"February\",\n",
    "                                       Mar = \"March\",\n",
    "                                       Apr = \"April\",\n",
    "                                       May = \"May\",\n",
    "                                       Jun = \"June\",\n",
    "                                       Jul = \"July\",\n",
    "                                       Aug = \"August\",\n",
    "                                       Sep = \"September\",\n",
    "                                       Oct = \"October\",\n",
    "                                       Nov = \"November\",\n",
    "                                       Dec = \"December\")\n",
    "\n",
    "levels(data$arrival_date_month)\n",
    "table(data$arrival_date_month)"
   ]
  },
  {
   "cell_type": "markdown",
   "id": "9ea31635",
   "metadata": {},
   "source": [
    "### Convert character and is_canceled to factor"
   ]
  },
  {
   "cell_type": "code",
   "execution_count": 5,
   "id": "135c9280",
   "metadata": {
    "ExecuteTime": {
     "end_time": "2022-05-22T13:28:12.349227Z",
     "start_time": "2022-05-22T13:28:07.490Z"
    },
    "vscode": {
     "languageId": "r"
    }
   },
   "outputs": [
    {
     "data": {
      "text/html": [],
      "text/latex": [],
      "text/markdown": [],
      "text/plain": [
       "character(0)"
      ]
     },
     "metadata": {},
     "output_type": "display_data"
    }
   ],
   "source": [
    "char_colnames <- colnames(data %>% select_if(is.character))\n",
    "char_colnames\n",
    "\n",
    "data[char_colnames] <- lapply(data[char_colnames], factor)\n",
    "# data[,\"is_canceled\"] <- as.factor(data[,\"is_canceled\"])\n"
   ]
  },
  {
   "cell_type": "code",
   "execution_count": 6,
   "id": "aabe6032",
   "metadata": {
    "ExecuteTime": {
     "end_time": "2022-05-22T13:28:12.386526Z",
     "start_time": "2022-05-22T13:28:07.492Z"
    },
    "vscode": {
     "languageId": "r"
    }
   },
   "outputs": [
    {
     "name": "stdout",
     "output_type": "stream",
     "text": [
      "'data.frame':\t116141 obs. of  30 variables:\n",
      " $ hotel                         : Factor w/ 2 levels \"City Hotel\",\"Resort Hotel\": 2 2 2 2 2 2 2 2 2 2 ...\n",
      " $ is_canceled                   : int  0 0 0 0 0 0 1 1 1 0 ...\n",
      " $ lead_time                     : int  7 13 14 14 0 9 85 75 23 35 ...\n",
      " $ arrival_date_year             : int  2015 2015 2015 2015 2015 2015 2015 2015 2015 2015 ...\n",
      " $ arrival_date_month            : Factor w/ 12 levels \"Jan\",\"Feb\",\"Mar\",..: 7 7 7 7 7 7 7 7 7 7 ...\n",
      " $ arrival_date_week_number      : int  27 27 27 27 27 27 27 27 27 27 ...\n",
      " $ arrival_date_day_of_month     : int  1 1 1 1 1 1 1 1 1 1 ...\n",
      " $ stays_in_weekend_nights       : int  0 0 0 0 0 0 0 0 0 0 ...\n",
      " $ stays_in_week_nights          : int  1 1 2 2 2 2 3 3 4 4 ...\n",
      " $ adults                        : int  1 1 2 2 2 2 2 2 2 2 ...\n",
      " $ children                      : int  0 0 0 0 0 0 0 0 0 0 ...\n",
      " $ babies                        : int  0 0 0 0 0 0 0 0 0 0 ...\n",
      " $ meal                          : Factor w/ 5 levels \"BB\",\"FB\",\"HB\",..: 1 1 1 1 1 2 1 3 1 3 ...\n",
      " $ country                       : Factor w/ 178 levels \"ABW\",\"AGO\",\"AIA\",..: 60 60 60 60 136 136 136 136 136 136 ...\n",
      " $ market_segment                : Factor w/ 8 levels \"Aviation\",\"Complementary\",..: 4 3 7 7 4 4 7 6 7 7 ...\n",
      " $ distribution_channel          : Factor w/ 5 levels \"Corporate\",\"Direct\",..: 2 1 4 4 2 2 4 4 4 4 ...\n",
      " $ is_repeated_guest             : int  0 0 0 0 0 0 0 0 0 0 ...\n",
      " $ previous_cancellations        : int  0 0 0 0 0 0 0 0 0 0 ...\n",
      " $ previous_bookings_not_canceled: int  0 0 0 0 0 0 0 0 0 0 ...\n",
      " $ reserved_room_type            : Factor w/ 9 levels \"A\",\"B\",\"C\",\"D\",..: 1 1 1 1 3 3 1 4 5 4 ...\n",
      " $ assigned_room_type            : Factor w/ 11 levels \"A\",\"B\",\"C\",\"D\",..: 3 1 1 1 3 3 1 4 5 4 ...\n",
      " $ booking_changes               : int  0 0 0 0 0 0 0 0 0 0 ...\n",
      " $ deposit_type                  : Factor w/ 3 levels \"No Deposit\",\"Non Refund\",..: 1 1 1 1 1 1 1 1 1 1 ...\n",
      " $ agent                         : int  0 304 240 240 0 303 240 15 240 240 ...\n",
      " $ company                       : int  0 0 0 0 0 0 0 0 0 0 ...\n",
      " $ days_in_waiting_list          : int  0 0 0 0 0 0 0 0 0 0 ...\n",
      " $ customer_type                 : Factor w/ 4 levels \"Contract\",\"Group\",..: 3 3 3 3 3 3 3 3 3 3 ...\n",
      " $ adr                           : num  75 75 98 98 107 ...\n",
      " $ required_car_parking_spaces   : int  0 0 0 0 0 0 0 0 0 0 ...\n",
      " $ total_of_special_requests     : int  0 0 1 1 0 1 1 0 0 0 ...\n"
     ]
    }
   ],
   "source": [
    "str(data)"
   ]
  },
  {
   "cell_type": "markdown",
   "id": "655e3e0b",
   "metadata": {},
   "source": [
    "### Reduce country levels"
   ]
  },
  {
   "cell_type": "code",
   "execution_count": 7,
   "id": "6687c99e",
   "metadata": {
    "ExecuteTime": {
     "end_time": "2022-05-22T13:28:12.426100Z",
     "start_time": "2022-05-22T13:28:07.521Z"
    },
    "vscode": {
     "languageId": "r"
    }
   },
   "outputs": [],
   "source": [
    "reduce_levels <- function(level, threshold = 500, new_level_value = \"OTHER\") {\n",
    "  freq <- table(level)\n",
    "\n",
    "  levels(level) <- c(levels(level), new_level_value)\n",
    "  \n",
    "  \n",
    "  # Add a new level to assign for countries appearing less than a threshold\n",
    "  level[level %in% names(freq[freq < threshold])] <- new_level_value\n",
    "\n",
    "  # Drop levels that were replaced\n",
    "  level <- droplevels(level)\n",
    "\n",
    "  return(level)\n",
    "}\n",
    "\n",
    "# print frequency of levels appearing more than or equal a certain threshold and their number\n",
    "view_thresh <- function(level, threshold) {\n",
    "  cnt <-table(level)\n",
    "  print(length(cnt[cnt >= threshold]))  \n",
    "  print(cnt[cnt >= threshold])\n",
    "}\n",
    "\n",
    "data$country <- reduce_levels(data$country, 100)\n",
    "# data$company <- reduce_levels(data$company, 30)\n",
    "\n",
    "# data$agent <- reduce_levels(data$agent, 250)\n"
   ]
  },
  {
   "cell_type": "markdown",
   "id": "075f20d3",
   "metadata": {},
   "source": [
    "# Classifiers "
   ]
  },
  {
   "cell_type": "markdown",
   "id": "088ea6f7",
   "metadata": {},
   "source": [
    "### Data splitting"
   ]
  },
  {
   "cell_type": "code",
   "execution_count": 8,
   "id": "d1368662",
   "metadata": {
    "ExecuteTime": {
     "end_time": "2022-05-22T13:28:12.527975Z",
     "start_time": "2022-05-22T13:28:07.575Z"
    },
    "vscode": {
     "languageId": "r"
    }
   },
   "outputs": [
    {
     "data": {
      "text/html": [
       "<ol class=list-inline>\n",
       "\t<li>92912</li>\n",
       "\t<li>30</li>\n",
       "</ol>\n"
      ],
      "text/latex": [
       "\\begin{enumerate*}\n",
       "\\item 92912\n",
       "\\item 30\n",
       "\\end{enumerate*}\n"
      ],
      "text/markdown": [
       "1. 92912\n",
       "2. 30\n",
       "\n",
       "\n"
      ],
      "text/plain": [
       "[1] 92912    30"
      ]
     },
     "metadata": {},
     "output_type": "display_data"
    },
    {
     "data": {
      "text/html": [
       "<ol class=list-inline>\n",
       "\t<li>23229</li>\n",
       "\t<li>30</li>\n",
       "</ol>\n"
      ],
      "text/latex": [
       "\\begin{enumerate*}\n",
       "\\item 23229\n",
       "\\item 30\n",
       "\\end{enumerate*}\n"
      ],
      "text/markdown": [
       "1. 23229\n",
       "2. 30\n",
       "\n",
       "\n"
      ],
      "text/plain": [
       "[1] 23229    30"
      ]
     },
     "metadata": {},
     "output_type": "display_data"
    }
   ],
   "source": [
    "set.seed(101) # Set Seed so that same sample can be reproduced in future also\n",
    "# Now Selecting 75% of data as sample from total 'n' rows of the data  \n",
    "sample <- sample.int(n = nrow(data), size = floor(.8*nrow(data)), replace = F)\n",
    "train <- data[sample, ]\n",
    "test  <- data[-sample, ]\n",
    "dim(train)\n",
    "dim(test)"
   ]
  },
  {
   "cell_type": "code",
   "execution_count": 9,
   "id": "6b0f3b12",
   "metadata": {
    "ExecuteTime": {
     "end_time": "2022-05-22T13:28:39.110537Z",
     "start_time": "2022-05-22T13:28:07.578Z"
    },
    "vscode": {
     "languageId": "r"
    }
   },
   "outputs": [],
   "source": [
    "tree <- ctree(is_canceled ~ . , train)"
   ]
  },
  {
   "cell_type": "code",
   "execution_count": 10,
   "id": "33368128",
   "metadata": {
    "ExecuteTime": {
     "end_time": "2022-05-22T13:28:40.785054Z",
     "start_time": "2022-05-22T13:28:07.581Z"
    },
    "vscode": {
     "languageId": "r"
    }
   },
   "outputs": [
    {
     "data": {
      "text/plain": [
       "                      \n",
       "tpred                      0     1\n",
       "  0                    12895     0\n",
       "  0.000924214417744917  1081     1\n",
       "  0.00144717800289436    690     1\n",
       "  0.00190766882869134   2616     5\n",
       "  0.00280898876404494    355     1\n",
       "  0.00589970501474926    337     2\n",
       "  0.00666666666666667    149     1\n",
       "  0.00761697497279652    912     7\n",
       "  0.00821917808219178    724     6\n",
       "  0.00847457627118644    234     2\n",
       "  0.00858895705521472    808     7\n",
       "  0.00868055555555556   1142    10\n",
       "  0.00961538461538462    103     1\n",
       "  0.0105263157894737      94     1\n",
       "  0.0107913669064748     275     3\n",
       "  0.010989010989011       90     1\n",
       "  0.0166666666666667     118     2\n",
       "  0.0175438596491228      56     1\n",
       "  0.0178571428571429     385     7\n",
       "  0.025                   39     1\n",
       "  0.027027027027027       36     1\n",
       "  0.0279503105590062     313     9\n",
       "  0.0311614730878187     342    11\n",
       "  0.03125                 93     3\n",
       "  0.0324149108589951     597    20\n",
       "  0.037037037037037      104     4\n",
       "  0.0384615384615385      75     3\n",
       "  0.0395480225988701     510    21\n",
       "  0.0412595005428882     883    38\n",
       "  0.0423162583518931     430    19\n",
       "  0.0455882352941176     649    31\n",
       "  0.0483870967741935     118     6\n",
       "  0.0499108734402852     533    28\n",
       "  0.0526315789473684      18     1\n",
       "  0.0542099192618224     820    47\n",
       "  0.0555555555555556     102     6\n",
       "  0.0573476702508961     263    16\n",
       "  0.0608108108108108     139     9\n",
       "  0.0646153846153846     304    21\n",
       "  0.065052950075643      618    43\n",
       "  0.0666666666666667     252    18\n",
       "  0.0714285714285714      13     1\n",
       "  0.0721649484536082      90     7\n",
       "  0.0729166666666667      89     7\n",
       "  0.0735294117647059      63     5\n",
       "  0.0740740740740741      50     4\n",
       "  0.0769230769230769      24     2\n",
       "  0.0813008130081301     113    10\n",
       "  0.0814814814814815     124    11\n",
       "  0.0819672131147541      56     5\n",
       "  0.0821917808219178      67     6\n",
       "  0.0833333333333333     132    12\n",
       "  0.0839160839160839     262    24\n",
       "  0.0905172413793103     422    42\n",
       "  0.0909090909090909      50     5\n",
       "  0.099236641221374      354    39\n",
       "  0.0994475138121547     489    54\n",
       "  0.1                    198    22\n",
       "  0.104166666666667       43     5\n",
       "  0.104265402843602     1134   132\n",
       "  0.104464285714286     1003   117\n",
       "  0.10752688172043        83    10\n",
       "  0.111111111111111        8     1\n",
       "  0.114093959731544      132    17\n",
       "  0.121212121212121       29     4\n",
       "  0.125                    7     1\n",
       "  0.127450980392157       89    13\n",
       "  0.127659574468085      656    96\n",
       "  0.12888198757764       561    83\n",
       "  0.133333333333333       78    12\n",
       "  0.134292565947242      361    56\n",
       "  0.136363636363636       19     3\n",
       "  0.139072847682119      130    21\n",
       "  0.142857142857143       18     3\n",
       "  0.147058823529412       29     5\n",
       "  0.147727272727273       75    13\n",
       "  0.149425287356322       74    13\n",
       "  0.15                    17     3\n",
       "  0.152284263959391     1336   240\n",
       "  0.159744408945687      263    50\n",
       "  0.16                    42     8\n",
       "  0.160278745644599      241    46\n",
       "  0.161764705882353      114    22\n",
       "  0.161862527716186      378    73\n",
       "  0.166666666666667       30     6\n",
       "  0.169230769230769      162    33\n",
       "  0.171875               424    88\n",
       "  0.172932330827068      110    23\n",
       "  0.175972927241963      487   104\n",
       "  0.178571428571429       23     5\n",
       "  0.179784589892295      990   217\n",
       "  0.180616740088106      186    41\n",
       "  0.185185185185185       22     5\n",
       "  0.1875                  13     3\n",
       "  0.187725631768953      225    52\n",
       "  0.195652173913043       37     9\n",
       "  0.2                     12     3\n",
       "  0.208144796380091      350    92\n",
       "  0.212328767123288      115    31\n",
       "  0.214285714285714       11     3\n",
       "  0.21830985915493       333    93\n",
       "  0.222222222222222        7     2\n",
       "  0.223404255319149       73    21\n",
       "  0.226873168689828     1847   542\n",
       "  0.233333333333333       92    28\n",
       "  0.237442922374429      167    52\n",
       "  0.239520958083832      127    40\n",
       "  0.24                    19     6\n",
       "  0.25                    33    11\n",
       "  0.253521126760563       53    18\n",
       "  0.266666666666667       22     8\n",
       "  0.266886326194399      445   162\n",
       "  0.269090909090909      201    74\n",
       "  0.272727272727273       64    24\n",
       "  0.280373831775701       77    30\n",
       "  0.282467532467532      221    87\n",
       "  0.285714285714286       15     6\n",
       "  0.287769784172662       99    40\n",
       "  0.28936170212766       334   136\n",
       "  0.29126213592233       365   150\n",
       "  0.291666666666667       34    14\n",
       "  0.294117647058824       12     5\n",
       "  0.297297297297297       78    33\n",
       "  0.3                     14     6\n",
       "  0.300884955752212      237   102\n",
       "  0.302631578947368       53    23\n",
       "  0.304347826086957       16     7\n",
       "  0.311111111111111       31    14\n",
       "  0.315789473684211      221   102\n",
       "  0.318181818181818       15     7\n",
       "  0.320388349514563       70    33\n",
       "  0.321428571428571       76    36\n",
       "  0.328125                43    21\n",
       "  0.329411764705882       57    28\n",
       "  0.333333333333333       14     7\n",
       "  0.3375                 106    54\n",
       "  0.339622641509434      140    72\n",
       "  0.344086021505376       61    32\n",
       "  0.346723044397463      309   164\n",
       "  0.349264705882353      177    95\n",
       "  0.35                    13     7\n",
       "  0.35132957292506       805   436\n",
       "  0.354430379746835      153    84\n",
       "  0.357723577235772       79    44\n",
       "  0.362445414847162      146    83\n",
       "  0.37037037037037        17    10\n",
       "  0.370426829268293      413   243\n",
       "  0.371165644171779      205   121\n",
       "  0.372549019607843       32    19\n",
       "  0.373983739837398       77    46\n",
       "  0.375                   15     9\n",
       "  0.378698224852071      105    64\n",
       "  0.378787878787879      164   100\n",
       "  0.379310344827586       36    22\n",
       "  0.380208333333333      119    73\n",
       "  0.38655462184874        73    46\n",
       "  0.391304347826087       14     9\n",
       "  0.4                     36    24\n",
       "  0.402255639097744      159   107\n",
       "  0.411764705882353       10     7\n",
       "  0.412698412698413       37    26\n",
       "  0.421052631578947       11     8\n",
       "  0.423076923076923       15    11\n",
       "  0.427350427350427       67    50\n",
       "  0.428571428571429      112    84\n",
       "  0.430769230769231       37    28\n",
       "  0.433482810164425      379   290\n",
       "  0.444444444444444       75    60\n",
       "  0.454545454545455        6     5\n",
       "  0.46                    27    23\n",
       "  0.461538461538462        7     6\n",
       "  0.464135021097046      127   110\n",
       "  0.466666666666667        8     7\n",
       "  0.470588235294118        9     8\n",
       "  0.477272727272727       23    21\n",
       "  0.487455197132616      143   136\n",
       "  0.488317757009346      219   209\n",
       "  0.488888888888889       23    22\n",
       "  0.495145631067961       52    51\n",
       "  0.5                     37    37\n",
       "  0.504132231404959       60    61\n",
       "  0.511627906976744       21    22\n",
       "  0.52317880794702       216   237\n",
       "  0.524590163934426       29    32\n",
       "  0.526315789473684       81    90\n",
       "  0.528169014084507       67    75\n",
       "  0.534124629080119      157   180\n",
       "  0.53448275862069        54    62\n",
       "  0.541379310344828      133   157\n",
       "  0.542682926829268       75    89\n",
       "  0.545454545454545       20    24\n",
       "  0.54639175257732        44    53\n",
       "  0.548387096774194       14    17\n",
       "  0.549586776859504      109   133\n",
       "  0.555555555555556       16    20\n",
       "  0.55952380952381        37    47\n",
       "  0.5703125              110   146\n",
       "  0.571428571428571      147   196\n",
       "  0.574537540805223      391   528\n",
       "  0.583333333333333       10    14\n",
       "  0.586206896551724       12    17\n",
       "  0.587412587412587       59    84\n",
       "  0.588235294117647       14    20\n",
       "  0.588888888888889       74   106\n",
       "  0.6                     78   117\n",
       "  0.606741573033708       35    54\n",
       "  0.612359550561798      138   218\n",
       "  0.615384615384615       10    16\n",
       "  0.616279069767442       33    53\n",
       "  0.616707616707617      156   251\n",
       "  0.618296529968454      121   196\n",
       "  0.622950819672131       69   114\n",
       "  0.625                    3     5\n",
       "  0.627906976744186       32    54\n",
       "  0.648854961832061       92   170\n",
       "  0.652542372881356      123   231\n",
       "  0.655172413793103       20    38\n",
       "  0.657894736842105       13    25\n",
       "  0.662983425414365      122   240\n",
       "  0.676616915422886       65   136\n",
       "  0.692307692307692        4     9\n",
       "  0.697650663942799      296   683\n",
       "  0.7                      9    21\n",
       "  0.702290076335878       39    92\n",
       "  0.702970297029703       60   142\n",
       "  0.704647676161919      197   470\n",
       "  0.709090909090909       16    39\n",
       "  0.719730941704036      250   642\n",
       "  0.721878862793572      225   584\n",
       "  0.727272727272727       60   160\n",
       "  0.734282325029656      224   619\n",
       "  0.75                    18    54\n",
       "  0.756410256410256       19    59\n",
       "  0.777777777777778        4    14\n",
       "  0.780821917808219       16    57\n",
       "  0.786885245901639       26    96\n",
       "  0.787234042553192       10    37\n",
       "  0.791666666666667        5    19\n",
       "  0.8                      3    12\n",
       "  0.802985074626866       66   269\n",
       "  0.807692307692308       10    42\n",
       "  0.808888888888889       43   182\n",
       "  0.813953488372093       16    70\n",
       "  0.818181818181818        2     9\n",
       "  0.818897637795276      184   832\n",
       "  0.820143884892086       25   114\n",
       "  0.82089552238806        24   110\n",
       "  0.823529411764706        9    42\n",
       "  0.825825825825826       58   275\n",
       "  0.826086956521739        4    19\n",
       "  0.826923076923077        9    43\n",
       "  0.83743842364532        33   170\n",
       "  0.848484848484849        5    28\n",
       "  0.854030501089325       67   392\n",
       "  0.855555555555556       13    77\n",
       "  0.857142857142857        2    12\n",
       "  0.8625                  11    69\n",
       "  0.863636363636364        3    19\n",
       "  0.865079365079365       34   218\n",
       "  0.868686868686869       13    86\n",
       "  0.869402985074627       70   466\n",
       "  0.869822485207101       22   147\n",
       "  0.875                    2    14\n",
       "  0.88                     9    66\n",
       "  0.888888888888889        1     8\n",
       "  0.9                      3    27\n",
       "  0.900928792569659       32   291\n",
       "  0.901515151515151       13   119\n",
       "  0.916666666666667        3    33\n",
       "  0.923076923076923        6    72\n",
       "  0.925925925925926        2    25\n",
       "  0.928571428571429       22   286\n",
       "  0.931818181818182        3    41\n",
       "  0.933333333333333        2    28\n",
       "  0.935483870967742        2    29\n",
       "  0.93732970027248        23   344\n",
       "  0.9375                   3    45\n",
       "  0.941176470588235        1    16\n",
       "  0.947368421052632        1    18\n",
       "  0.958333333333333        2    46\n",
       "  0.958904109589041        3    70\n",
       "  0.967741935483871        9   270\n",
       "  0.96875                  1    31\n",
       "  0.973684210526316        1    37\n",
       "  0.974683544303797        2    77\n",
       "  0.975409836065574        3   119\n",
       "  0.975609756097561        1    40\n",
       "  0.978494623655914        2    91\n",
       "  0.979591836734694        3   144\n",
       "  0.981481481481482        1    53\n",
       "  0.983050847457627        1    58\n",
       "  0.993506493506494        1   153\n",
       "  0.998430141287284        1   636\n",
       "  0.999295420231505        7  9928\n",
       "  1                        0  1417"
      ]
     },
     "metadata": {},
     "output_type": "display_data"
    },
    {
     "data": {
      "text/html": [
       "'Decision tree accuracy on train data is 15.403823'"
      ],
      "text/latex": [
       "'Decision tree accuracy on train data is 15.403823'"
      ],
      "text/markdown": [
       "'Decision tree accuracy on train data is 15.403823'"
      ],
      "text/plain": [
       "[1] \"Decision tree accuracy on train data is 15.403823\""
      ]
     },
     "metadata": {},
     "output_type": "display_data"
    }
   ],
   "source": [
    "tpred <- predict(tree, train, type= \"response\")\n",
    "table(tpred, train$is_canceled)\n",
    "acc <- mean(tpred == train$is_canceled)*100\n",
    "sprintf(\"Decision tree accuracy on train data is %f\", acc)"
   ]
  },
  {
   "cell_type": "code",
   "execution_count": 11,
   "id": "eea2001e",
   "metadata": {
    "ExecuteTime": {
     "end_time": "2022-05-22T13:28:41.083700Z",
     "start_time": "2022-05-22T13:28:07.584Z"
    },
    "vscode": {
     "languageId": "r"
    }
   },
   "outputs": [
    {
     "data": {
      "text/html": [
       "15.230961298377"
      ],
      "text/latex": [
       "15.230961298377"
      ],
      "text/markdown": [
       "15.230961298377"
      ],
      "text/plain": [
       "[1] 15.23096"
      ]
     },
     "metadata": {},
     "output_type": "display_data"
    }
   ],
   "source": [
    "tpred <- predict(tree, test, type=\"response\")\n",
    "mean(tpred == test$is_canceled)*100"
   ]
  },
  {
   "cell_type": "code",
   "execution_count": null,
   "id": "77e3b48f",
   "metadata": {
    "ExecuteTime": {
     "start_time": "2022-05-22T13:28:07.587Z"
    },
    "vscode": {
     "languageId": "r"
    }
   },
   "outputs": [
    {
     "name": "stderr",
     "output_type": "stream",
     "text": [
      "Warning message in randomForest.default(m, y, ...):\n",
      "“The response has five or fewer unique values.  Are you sure you want to do regression?”"
     ]
    }
   ],
   "source": [
    "rf <- randomForest(is_canceled ~., train)\n",
    "print(rf)"
   ]
  },
  {
   "cell_type": "code",
   "execution_count": null,
   "id": "0293b92d",
   "metadata": {
    "ExecuteTime": {
     "start_time": "2022-05-22T13:28:07.592Z"
    },
    "vscode": {
     "languageId": "r"
    }
   },
   "outputs": [],
   "source": [
    "varImpPlot(rf)"
   ]
  },
  {
   "cell_type": "code",
   "execution_count": null,
   "id": "7c93359e",
   "metadata": {
    "ExecuteTime": {
     "start_time": "2022-05-22T13:28:07.595Z"
    }
   },
   "outputs": [],
   "source": [
    "tpred <- predict(rf, test, type=\"response\")\n",
    "mean(tpred == test$is_canceled)*100"
   ]
  },
  {
   "cell_type": "code",
   "execution_count": null,
   "id": "0dff6a41",
   "metadata": {
    "ExecuteTime": {
     "start_time": "2022-05-22T13:28:07.597Z"
    }
   },
   "outputs": [],
   "source": [
    "tpred <- predict(rf, train, type=\"response\")\n",
    "mean(tpred == train$is_canceled)*100"
   ]
  }
 ],
 "metadata": {
  "interpreter": {
   "hash": "e5356a0cc24ab421f3fea7505d1e0be20cb885e675eb5d16ff02cf791c65a604"
  },
  "kernelspec": {
   "display_name": "R",
   "language": "R",
   "name": "ir"
  },
  "language_info": {
   "codemirror_mode": "r",
   "file_extension": ".r",
   "mimetype": "text/x-r-source",
   "name": "R",
   "pygments_lexer": "r",
   "version": "3.6.1"
  },
  "latex_envs": {
   "LaTeX_envs_menu_present": true,
   "autoclose": false,
   "autocomplete": true,
   "bibliofile": "biblio.bib",
   "cite_by": "apalike",
   "current_citInitial": 1,
   "eqLabelWithNumbers": true,
   "eqNumInitial": 1,
   "hotkeys": {
    "equation": "Ctrl-E",
    "itemize": "Ctrl-I"
   },
   "labels_anchors": false,
   "latex_user_defs": false,
   "report_style_numbering": false,
   "user_envs_cfg": false
  },
  "toc": {
   "base_numbering": 1,
   "nav_menu": {},
   "number_sections": false,
   "sideBar": true,
   "skip_h1_title": false,
   "title_cell": "Table of Contents",
   "title_sidebar": "Contents",
   "toc_cell": false,
   "toc_position": {},
   "toc_section_display": true,
   "toc_window_display": false
  },
  "varInspector": {
   "cols": {
    "lenName": 16,
    "lenType": 16,
    "lenVar": 40
   },
   "kernels_config": {
    "python": {
     "delete_cmd_postfix": "",
     "delete_cmd_prefix": "del ",
     "library": "var_list.py",
     "varRefreshCmd": "print(var_dic_list())"
    },
    "r": {
     "delete_cmd_postfix": ") ",
     "delete_cmd_prefix": "rm(",
     "library": "var_list.r",
     "varRefreshCmd": "cat(var_dic_list()) "
    }
   },
   "types_to_exclude": [
    "module",
    "function",
    "builtin_function_or_method",
    "instance",
    "_Feature"
   ],
   "window_display": false
  }
 },
 "nbformat": 4,
 "nbformat_minor": 5
}
